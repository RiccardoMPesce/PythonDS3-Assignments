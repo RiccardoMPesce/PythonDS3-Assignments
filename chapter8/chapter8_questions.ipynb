{
 "cells": [
  {
   "attachments": {},
   "cell_type": "markdown",
   "metadata": {},
   "source": [
    "# Chapter 8 - Questions"
   ]
  },
  {
   "attachments": {},
   "cell_type": "markdown",
   "metadata": {},
   "source": [
    "### 1. Draw the graph corresponding to the following adjacency matrix.\n",
    "![Adjacency Matrix](./assets/adjMatEX.png)"
   ]
  },
  {
   "cell_type": "code",
   "execution_count": null,
   "metadata": {},
   "outputs": [],
   "source": []
  }
 ],
 "metadata": {
  "kernelspec": {
   "display_name": "Python 3",
   "language": "python",
   "name": "python3"
  },
  "language_info": {
   "name": "python",
   "version": "3.10.6 | packaged by conda-forge | (main, Aug 22 2022, 20:38:29) [Clang 13.0.1 ]"
  },
  "orig_nbformat": 4,
  "vscode": {
   "interpreter": {
    "hash": "b993bb7fe9f252cf9d963d8e47ecc74b34214b07d64415b6e5de81a041c3daca"
   }
  }
 },
 "nbformat": 4,
 "nbformat_minor": 2
}
