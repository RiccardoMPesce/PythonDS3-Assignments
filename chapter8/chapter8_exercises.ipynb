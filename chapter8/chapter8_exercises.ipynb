{
 "cells": [
  {
   "cell_type": "markdown",
   "metadata": {},
   "source": [
    "# Chapter 8 - Exercises"
   ]
  },
  {
   "cell_type": "markdown",
   "metadata": {},
   "source": [
    "### 1. Modify the depth-first search function to produce a topological sort."
   ]
  },
  {
   "cell_type": "code",
   "execution_count": 2,
   "metadata": {},
   "outputs": [],
   "source": [
    "from pythonds3.graphs import Graph\n",
    "\n",
    "class DFSGraph(Graph):\n",
    "    def __init__(self):\n",
    "        super().__init__()\n",
    "        self.time = 0\n",
    "\n",
    "    def topological_sort(self):\n",
    "        self.dfs()\n",
    "\n",
    "        return sorted([vertex for vertex in self.get_vertices()], lambda vertex: vertex.get_closing_time(), reverse=True)\n",
    "\n",
    "    def dfs(self):\n",
    "        for vertex in self:\n",
    "            vertex.color = \"white\"\n",
    "            vertex.previous = -1\n",
    "        for vertex in self:\n",
    "            if vertex.color == \"white\":\n",
    "                self.dfs_visit(vertex)\n",
    "\n",
    "    def dfs_visit(self, start_vertex):\n",
    "        start_vertex.color = \"gray\"\n",
    "        self.time = self.time + 1\n",
    "        start_vertex.discovery_time = self.time\n",
    "        for next_vertex in start_vertex.get_neighbors():\n",
    "            if next_vertex.color == \"white\":\n",
    "                next_vertex.previous = start_vertex\n",
    "                self.dfs_visit(next_vertex)\n",
    "        start_vertex.color = \"black\"\n",
    "        self.time = self.time + 1\n",
    "        start_vertex.closing_time = self.time"
   ]
  },
  {
   "cell_type": "markdown",
   "metadata": {},
   "source": [
    "### 2. Modify the depth-first search to produce strongly connected components.\n",
    "\n",
    "We will need to compute the transpose of a graph with the following method."
   ]
  },
  {
   "cell_type": "code",
   "execution_count": 9,
   "metadata": {},
   "outputs": [
    {
     "name": "stdout",
     "output_type": "stream",
     "text": [
      "{'a': ['b', 'c'], 'b': ['c'], 'c': []}\n",
      "{}\n"
     ]
    }
   ],
   "source": [
    "from typing import Dict, List\n",
    "\n",
    "def transpose(g: Dict[str, List]) -> Dict[str, List]:\n",
    "    \"\"\"\n",
    "    Function used to transpose an input graph 'g'. \n",
    "    \n",
    "    Input graph g is a dict where each key is the vertex v and each value\n",
    "    an array of vertices w for which there is a directed edge\n",
    "    from v to w.\n",
    "\n",
    "    Example g = {\n",
    "        \"a\": [\"c\", \"d\"],\n",
    "        \"b\": [\"d\", \"a\"],\n",
    "        \"c\": [],\n",
    "        \"d\": [\"c\"]\n",
    "    }\n",
    "    \"\"\"\n",
    "    transposed_g = {v: [] for v in g.keys()}\n",
    "\n",
    "    for v, adj_v in g.items():\n",
    "        for w in adj_v:\n",
    "            if v not in transposed_g[w]:\n",
    "                transposed_g[w] += [v]\n",
    "\n",
    "    return transposed_g\n",
    "\n",
    "d1 = {\"a\": [\"b\", \"c\"], \"b\": [\"c\"], \"c\": []}\n",
    "\n",
    "print(d1)\n",
    "print(transpose({}))"
   ]
  },
  {
   "cell_type": "code",
   "execution_count": null,
   "metadata": {},
   "outputs": [],
   "source": [
    "from pythonds3 import Stack\n",
    "\n",
    "class DFSGraph(Graph):\n",
    "    def __init__(self):\n",
    "        super().__init__()\n",
    "        self.time = 0\n",
    "        self.components = []\n",
    "\n",
    "    def dfs(self):\n",
    "        for vertex in self:\n",
    "            vertex.color = \"white\"\n",
    "            vertex.previous = -1\n",
    "        for vertex in self:\n",
    "            if vertex.color == \"white\":\n",
    "                self.dfs_visit(vertex)\n",
    "\n",
    "    def transpose(self):\n",
    "        transposed_g = DFSGraph()\n",
    "\n",
    "        for vertex in self:\n",
    "            for neighbor in vertex.get_neighbors():\n",
    "                if neighbor.get_neighbor(vertex) is None:\n",
    "                    transposed_g.add_edge(neighbor, vertex, vertex.get_neighbor(neighbor))\n",
    "\n",
    "        return transposed_g\n",
    "\n",
    "\n",
    "    def dfs_visit(self, start_vertex=None):\n",
    "        if start_vertex is None:\n",
    "            start_vertex = self.get_vertices()[0]\n",
    "        \n",
    "        start_vertex.color = \"gray\"\n",
    "        self.time = self.time + 1\n",
    "        start_vertex.discovery_time = self.time\n",
    "        for next_vertex in start_vertex.get_neighbors():\n",
    "            if next_vertex.color == \"white\":\n",
    "                next_vertex.previous = start_vertex\n",
    "                self.dfs_visit(next_vertex)\n",
    "        start_vertex.color = \"black\"\n",
    "        self.time = self.time + 1\n",
    "        start_vertex.closing_time = self.time\n",
    "\n",
    "    \n",
    "    def dfs_scc_visit(self, start_vertex=None, scc_stack=None):\n",
    "        if start_vertex is None:\n",
    "            start_vertex = self.get_vertices()[0]\n",
    "\n",
    "        if scc_stack is None:\n",
    "            scc_stack = Stack()\n",
    "\n",
    "        start_vertex.color = \"gray\"\n",
    "\n",
    "        scc_stack.push(start_vertex.get_key())\n",
    "\n",
    "        for next_vertex in sorted(start_vertex.get_neighbors(), key=lambda x: x.closing_time, reverse=True):\n",
    "            if next_vertex.color == \"white\":\n",
    "                next_vertex.previous = start_vertex\n",
    "                self.dfs_scc_visit(next_vertex, scc_stack)\n",
    "\n",
    "            if next_vertex.color == \"gray\" and next_vertex.get_key() in scc_stack:\n",
    "                scc = []\n",
    "                while not scc_stack.is_empty():\n",
    "                    scc.append(scc_stack.pop())\n",
    "                self.components += [scc]\n",
    "        start_vertex.color = \"black\"\n",
    "\n",
    "    \n",
    "    def scc_algorithm(self, start_vertex=None):\n",
    "        if start_vertex is None:\n",
    "            start_vertex = self.get_vertices()[0]\n",
    "\n",
    "        self.dfs_visit(start_vertex)\n",
    "        transposed_g = self.transpose()\n",
    "        transposed_g.dfs_scc_visit()\n",
    "\n",
    "        "
   ]
  },
  {
   "cell_type": "markdown",
   "metadata": {},
   "source": []
  }
 ],
 "metadata": {
  "kernelspec": {
   "display_name": "Python 3",
   "language": "python",
   "name": "python3"
  },
  "language_info": {
   "codemirror_mode": {
    "name": "ipython",
    "version": 3
   },
   "file_extension": ".py",
   "mimetype": "text/x-python",
   "name": "python",
   "nbconvert_exporter": "python",
   "pygments_lexer": "ipython3",
   "version": "3.10.8"
  }
 },
 "nbformat": 4,
 "nbformat_minor": 2
}
