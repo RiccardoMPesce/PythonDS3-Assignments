{
 "cells": [
  {
   "cell_type": "markdown",
   "metadata": {},
   "source": [
    "# Chapter 6 - Exercises"
   ]
  },
  {
   "cell_type": "markdown",
   "metadata": {},
   "source": [
    "### 1. Set up a random experiment to test the difference between a sequential search and a binary search on a list of integers.\n",
    "\n",
    "Let's first import the necesssary libraries and define both searching algorithms."
   ]
  },
  {
   "cell_type": "code",
   "execution_count": 3,
   "metadata": {},
   "outputs": [],
   "source": [
    "import time \n",
    "import random \n",
    "\n",
    "import numpy as np \n",
    "import pandas as pd \n",
    "import matplotlib.pyplot as plt \n",
    "\n",
    "def sequential_search(ls, e, is_sorted=False):\n",
    "    for i, n in enumerate(ls):\n",
    "        if e == n:\n",
    "            return i\n",
    "\n",
    "        if is_sorted and ls[i] > e:\n",
    "            break \n",
    "\n",
    "    return -1\n",
    "\n",
    "def binary_search(ls, e):\n",
    "    low = 0\n",
    "    high = len(ls) - 1\n",
    "\n",
    "    while low <= high:\n",
    "        mid = (low + high) // 2 \n",
    "        if e < ls[mid]:\n",
    "            high = mid - 1\n",
    "        elif e > ls[mid]:\n",
    "            low = mid + 1\n",
    "        else:\n",
    "            return mid\n",
    "\n",
    "    return -1 \n",
    "    "
   ]
  },
  {
   "cell_type": "markdown",
   "metadata": {},
   "source": [
    "Let's now set up the experiment, by generating random ordered list (we need them for binary search, otherwise we would not get deterministic results). First let's start with values that really are inside the array."
   ]
  },
  {
   "cell_type": "code",
   "execution_count": 6,
   "metadata": {},
   "outputs": [],
   "source": [
    "def simulate_searches(max_size_exp=6, n_simulations=10):\n",
    "    sizes = [10 ** i for i in range(1, max_size_exp + 1)]\n",
    "    access_sequential = []\n",
    "    access_binary = []\n",
    "\n",
    "    for size in sizes:\n",
    "        a = random.sample(range(size), size)\n",
    "        a.sort()\n",
    "        idx = random.randint(0, size - 1)\n",
    "        element = a[idx]\n",
    "\n",
    "        b = time.time()\n",
    "        _ = sequential_search(a, element, is_sorted=True)\n",
    "        e = time.time()\n",
    "        access_sequential += [e - b]\n",
    "\n",
    "        b = time.time()\n",
    "        _ = binary_search(a, element)\n",
    "        e = time.time()\n",
    "        access_binary += [e - b]\n",
    "\n",
    "    return pd.DataFrame({\"sequential\": access_sequential, \"binary\": access_binary})\n",
    "\n",
    "times = simulate_searches(7)"
   ]
  },
  {
   "cell_type": "markdown",
   "metadata": {},
   "source": [
    "Now let's plot the access times. On the x-axis we have the power to which we are raising 10 to get the input size of the array (`size = 10 ** (x + 1)`) and on the y axis the time in seconds needed to complete the search. In all cases, elements are found inside the array."
   ]
  },
  {
   "cell_type": "code",
   "execution_count": 12,
   "metadata": {},
   "outputs": [
    {
     "data": {
      "image/png": "[encoded data removed]",
      "text/plain": [
       "<Figure size 432x288 with 1 Axes>"
      ]
     },
     "metadata": {
      "needs_background": "light"
     },
     "output_type": "display_data"
    }
   ],
   "source": [
    "times.plot()"
   ]
  },
  {
   "cell_type": "markdown",
   "metadata": {},
   "source": [
    "We see how sequential search takes a huge amount of time (it's exponential because sizes are increasing in an exponential fashion, but it would be linear), while binary search has a very mild increase which is not evident for such a huge case. Feel free to experiment with bigger sizes keeping in mind that it will take more time."
   ]
  }
 ],
 "metadata": {
  "interpreter": {
   "hash": "bdc1c445b68446493975f0f4c1120652b32b7ff2d59b9297499b6aaef4c1ff08"
  },
  "kernelspec": {
   "display_name": "Python 3.9.7 64-bit ('base': conda)",
   "name": "python3"
  },
  "language_info": {
   "codemirror_mode": {
    "name": "ipython",
    "version": 3
   },
   "file_extension": ".py",
   "mimetype": "text/x-python",
   "name": "python",
   "nbconvert_exporter": "python",
   "pygments_lexer": "ipython3",
   "version": "3.9.7"
  },
  "orig_nbformat": 4
 },
 "nbformat": 4,
 "nbformat_minor": 2
}
