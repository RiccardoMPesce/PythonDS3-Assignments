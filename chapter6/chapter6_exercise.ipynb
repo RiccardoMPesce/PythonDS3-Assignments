{
 "cells": [
  {
   "cell_type": "markdown",
   "metadata": {},
   "source": [
    "# Chapter 6 - Exercises"
   ]
  },
  {
   "cell_type": "markdown",
   "metadata": {},
   "source": [
    "### 1. Set up a random experiment to test the difference between a sequential search and a binary search on a list of integers.\n",
    "\n",
    "Let's first import the necesssary libraries and define both searching algorithms."
   ]
  },
  {
   "cell_type": "code",
   "execution_count": 2,
   "metadata": {},
   "outputs": [],
   "source": [
    "import time \n",
    "import random \n",
    "\n",
    "import numpy as np \n",
    "import pandas as pd \n",
    "import matplotlib.pyplot as plt \n",
    "\n",
    "def sequential_search(ls, e, is_sorted=False):\n",
    "    for i, n in enumerate(ls):\n",
    "        if e == n:\n",
    "            return i\n",
    "\n",
    "        if is_sorted and ls[i] > e:\n",
    "            break \n",
    "\n",
    "    return -1\n",
    "\n",
    "def binary_search(ls, e):\n",
    "    low = 0\n",
    "    high = len(ls) - 1\n",
    "\n",
    "    while low <= high:\n",
    "        mid = (low + high) // 2 \n",
    "        if e < ls[mid]:\n",
    "            high = mid - 1\n",
    "        elif e > ls[mid]:\n",
    "            low = mid + 1\n",
    "        else:\n",
    "            return mid\n",
    "\n",
    "    return -1 \n",
    "    "
   ]
  },
  {
   "cell_type": "markdown",
   "metadata": {},
   "source": [
    "Let's now set up the experiment, by generating random ordered list (we need them for binary search, otherwise we would not get deterministic results). First let's start with values that really are inside the array."
   ]
  },
  {
   "cell_type": "code",
   "execution_count": 3,
   "metadata": {},
   "outputs": [],
   "source": [
    "def simulate_searches(max_size_exp=6, n_simulations=10):\n",
    "    sizes = [10 ** i for i in range(1, max_size_exp + 1)]\n",
    "    access_sequential = []\n",
    "    access_binary = []\n",
    "\n",
    "    for size in sizes:\n",
    "        for sim in range(n_simulations):\n",
    "            sequential = []\n",
    "            binary = []\n",
    "            a = random.sample(range(size), size)\n",
    "            a.sort()\n",
    "            idx = random.randint(0, size - 1)\n",
    "            element = a[idx]\n",
    "\n",
    "            b = time.time()\n",
    "            _ = sequential_search(a, element, is_sorted=True)\n",
    "            e = time.time()\n",
    "            sequential += [e - b]\n",
    "\n",
    "            b = time.time()\n",
    "            _ = binary_search(a, element)\n",
    "            e = time.time()\n",
    "            binary += [e - b]\n",
    "        \n",
    "        access_sequential += [np.array(sequential).mean()]\n",
    "        access_binary += [np.array(binary).mean()]\n",
    "\n",
    "    return pd.DataFrame({\"sequential\": access_sequential, \"binary\": access_binary})\n",
    "\n",
    "times = simulate_searches(7, 5)"
   ]
  },
  {
   "cell_type": "markdown",
   "metadata": {},
   "source": [
    "Now let's plot the access times. On the x-axis we have the power to which we are raising 10 to get the input size of the array (`size = 10 ** (x + 1)`) and on the y axis the time in seconds needed to complete the search. In all cases, elements are found inside the array."
   ]
  },
  {
   "cell_type": "code",
   "execution_count": 9,
   "metadata": {},
   "outputs": [
    {
     "data": {
      "text/plain": [
       "<AxesSubplot:>"
      ]
     },
     "execution_count": 9,
     "metadata": {},
     "output_type": "execute_result"
    },
    {
     "data": {
      "image/png": "[encoded data removed]",
      "text/plain": [
       "<Figure size 432x288 with 1 Axes>"
      ]
     },
     "metadata": {
      "needs_background": "light"
     },
     "output_type": "display_data"
    }
   ],
   "source": [
    "times.plot()"
   ]
  },
  {
   "cell_type": "markdown",
   "metadata": {},
   "source": [
    "We see how sequential search takes a huge amount of time (it's exponential because sizes are increasing in an exponential fashion, but it would be linear), while binary search has a very mild increase which is not evident for such a huge case. Feel free to experiment with bigger sizes keeping in mind that it will take more time.\n",
    "It would be great to also experiment with a linearly increasing size as well as different scenarios (for example where elements are not found), I will try to make a more complete experiment over the next questions."
   ]
  },
  {
   "cell_type": "markdown",
   "metadata": {},
   "source": [
    "### 2. Use the binary search functions given in the text (recursive and iterative). Generate a random, ordered list of integers and do a benchmark analysis for each one. What are your results? Can you explain them?\n",
    "\n",
    "Let's first define a recursive binary search function."
   ]
  },
  {
   "cell_type": "code",
   "execution_count": 10,
   "metadata": {},
   "outputs": [],
   "source": [
    "def recursive_binary_search(ls, e):\n",
    "    if len(ls) == 0:\n",
    "        return -1\n",
    "    else:\n",
    "        mid = len(ls) // 2 \n",
    "\n",
    "        if e < ls[mid]:\n",
    "            return recursive_binary_search(ls[:mid], e)\n",
    "        elif e > ls[mid]:\n",
    "            return recursive_binary_search(ls[mid + 1:], e)\n",
    "        else:\n",
    "            return True\n",
    "\n"
   ]
  },
  {
   "cell_type": "markdown",
   "metadata": {},
   "source": [
    "Now let's do some simulations."
   ]
  },
  {
   "cell_type": "code",
   "execution_count": 12,
   "metadata": {},
   "outputs": [],
   "source": [
    "def simulate_binary_searches(max_size_exp=6, n_simulations=10):\n",
    "    sizes = [10 ** i for i in range(1, max_size_exp + 1)]\n",
    "    access_recursive = []\n",
    "    access_iterative = []\n",
    "\n",
    "    for size in sizes:\n",
    "        for sim in range(n_simulations):\n",
    "            recursive = []\n",
    "            iterative = []\n",
    "            a = random.sample(range(size), size)\n",
    "            a.sort()\n",
    "            idx = random.randint(0, size - 1)\n",
    "            element = a[idx]\n",
    "\n",
    "            b = time.time()\n",
    "            _ = sequential_search(a, element, is_sorted=True)\n",
    "            e = time.time()\n",
    "            recursive += [e - b]\n",
    "\n",
    "            b = time.time()\n",
    "            _ = binary_search(a, element)\n",
    "            e = time.time()\n",
    "            iterative += [e - b]\n",
    "        \n",
    "        access_recursive += [np.array(recursive).mean()]\n",
    "        access_iterative += [np.array(iterative).mean()]\n",
    "\n",
    "    return pd.DataFrame({\"recursive\": access_recursive, \"iterative\": access_iterative})\n",
    "\n",
    "times_binary = simulate_binary_searches(7, 5)\n"
   ]
  },
  {
   "cell_type": "markdown",
   "metadata": {},
   "source": [
    "Let's now plot the access times."
   ]
  },
  {
   "cell_type": "code",
   "execution_count": 13,
   "metadata": {},
   "outputs": [
    {
     "data": {
      "text/plain": [
       "<AxesSubplot:>"
      ]
     },
     "execution_count": 13,
     "metadata": {},
     "output_type": "execute_result"
    },
    {
     "data": {
      "image/png": "[encoded data removed]",
      "text/plain": [
       "<Figure size 432x288 with 1 Axes>"
      ]
     },
     "metadata": {
      "needs_background": "light"
     },
     "output_type": "display_data"
    }
   ],
   "source": [
    "times_binary.plot()"
   ]
  },
  {
   "cell_type": "markdown",
   "metadata": {},
   "source": [
    "As expected the recursive approach time increases with size in an exponential fashion due to the overhead of sub-calling the routine itself."
   ]
  },
  {
   "cell_type": "markdown",
   "metadata": {},
   "source": [
    "### 3. Implement the binary search using recursion without the slice operator. Recall that you will need to pass the list along with the starting and ending index values for the sublist. Generate a random, ordered list of integers and do a benchmark analysis."
   ]
  },
  {
   "cell_type": "code",
   "execution_count": null,
   "metadata": {},
   "outputs": [],
   "source": []
  }
 ],
 "metadata": {
  "interpreter": {
   "hash": "bdc1c445b68446493975f0f4c1120652b32b7ff2d59b9297499b6aaef4c1ff08"
  },
  "kernelspec": {
   "display_name": "Python 3.9.7 64-bit ('base': conda)",
   "name": "python3"
  },
  "language_info": {
   "codemirror_mode": {
    "name": "ipython",
    "version": 3
   },
   "file_extension": ".py",
   "mimetype": "text/x-python",
   "name": "python",
   "nbconvert_exporter": "python",
   "pygments_lexer": "ipython3",
   "version": "3.9.7"
  },
  "orig_nbformat": 4
 },
 "nbformat": 4,
 "nbformat_minor": 2
}
