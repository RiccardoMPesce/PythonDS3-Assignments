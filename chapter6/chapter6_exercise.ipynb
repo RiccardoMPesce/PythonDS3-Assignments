{
 "cells": [
  {
   "cell_type": "markdown",
   "metadata": {},
   "source": [
    "# Chapter 6 - Exercises"
   ]
  },
  {
   "cell_type": "markdown",
   "metadata": {},
   "source": [
    "### 1. Set up a random experiment to test the difference between a sequential search and a binary search on a list of integers.\n",
    "\n",
    "Let's first import the necesssary libraries and define both searching algorithms."
   ]
  },
  {
   "cell_type": "code",
   "execution_count": 17,
   "metadata": {},
   "outputs": [],
   "source": [
    "import time \n",
    "import random \n",
    "\n",
    "import numpy as np \n",
    "import pandas as pd \n",
    "import matplotlib.pyplot as plt \n",
    "\n",
    "def sequential_search(ls, e, is_sorted=False):\n",
    "    for i, n in enumerate(ls):\n",
    "        if e == n:\n",
    "            return i\n",
    "\n",
    "        if is_sorted and ls[i] > e:\n",
    "            break \n",
    "\n",
    "    return -1\n",
    "\n",
    "def binary_search(ls, e):\n",
    "    low = 0\n",
    "    high = len(ls) - 1\n",
    "\n",
    "    while low <= high:\n",
    "        mid = (low + high) // 2 \n",
    "        if e < ls[mid]:\n",
    "            high = mid - 1\n",
    "        elif e > ls[mid]:\n",
    "            low = mid + 1\n",
    "        else:\n",
    "            return mid\n",
    "\n",
    "    return -1 \n",
    "    "
   ]
  },
  {
   "cell_type": "markdown",
   "metadata": {},
   "source": [
    "Let's now set up the experiment, by generating random ordered list (we need them for binary search, otherwise we would not get deterministic results). First let's start with values that really are inside the array."
   ]
  },
  {
   "cell_type": "code",
   "execution_count": 18,
   "metadata": {},
   "outputs": [],
   "source": [
    "def simulate_searches(max_size_exp=6, n_simulations=10):\n",
    "    sizes = [10 ** i for i in range(1, max_size_exp + 1)]\n",
    "    access_sequential = []\n",
    "    access_binary = []\n",
    "\n",
    "    for size in sizes:\n",
    "        for sim in range(n_simulations):\n",
    "            sequential = []\n",
    "            binary = []\n",
    "            a = random.sample(range(size), size)\n",
    "            a.sort()\n",
    "            idx = random.randint(0, size - 1)\n",
    "            element = a[idx]\n",
    "\n",
    "            b = time.time()\n",
    "            _ = sequential_search(a, element, is_sorted=True)\n",
    "            e = time.time()\n",
    "            sequential += [e - b]\n",
    "\n",
    "            b = time.time()\n",
    "            _ = binary_search(a, element)\n",
    "            e = time.time()\n",
    "            binary += [e - b]\n",
    "        \n",
    "        access_sequential += [np.array(sequential).mean()]\n",
    "        access_binary += [np.array(binary).mean()]\n",
    "\n",
    "    return pd.DataFrame({\"sequential\": access_sequential, \"binary\": access_binary})\n",
    "\n",
    "times = simulate_searches(7, 5)"
   ]
  },
  {
   "cell_type": "markdown",
   "metadata": {},
   "source": [
    "Now let's plot the access times. On the x-axis we have the power to which we are raising 10 to get the input size of the array (`size = 10 ** (x + 1)`) and on the y axis the time in seconds needed to complete the search. In all cases, elements are found inside the array."
   ]
  },
  {
   "cell_type": "code",
   "execution_count": 19,
   "metadata": {},
   "outputs": [
    {
     "data": {
      "text/plain": [
       "<AxesSubplot:>"
      ]
     },
     "execution_count": 19,
     "metadata": {},
     "output_type": "execute_result"
    },
    {
     "data": {
      "image/png": "[encoded data removed]",
      "text/plain": [
       "<Figure size 432x288 with 1 Axes>"
      ]
     },
     "metadata": {
      "needs_background": "light"
     },
     "output_type": "display_data"
    }
   ],
   "source": [
    "times.plot()"
   ]
  },
  {
   "cell_type": "markdown",
   "metadata": {},
   "source": [
    "We see how sequential search takes a huge amount of time (it's exponential because sizes are increasing in an exponential fashion, but it would be linear), while binary search has a very mild increase which is not evident for such a huge case. Feel free to experiment with bigger sizes keeping in mind that it will take more time.\n",
    "It would be great to also experiment with a linearly increasing size as well as different scenarios (for example where elements are not found), I will try to make a more complete experiment over the next questions."
   ]
  },
  {
   "cell_type": "markdown",
   "metadata": {},
   "source": [
    "### 2. Use the binary search functions given in the text (recursive and iterative). Generate a random, ordered list of integers and do a benchmark analysis for each one. What are your results? Can you explain them?\n",
    "\n",
    "Let's first define a recursive binary search function."
   ]
  },
  {
   "cell_type": "code",
   "execution_count": 20,
   "metadata": {},
   "outputs": [],
   "source": [
    "def recursive_binary_search(ls, e):\n",
    "    if len(ls) == 0:\n",
    "        return False\n",
    "    else:\n",
    "        mid = len(ls) // 2 \n",
    "\n",
    "        if e < ls[mid]:\n",
    "            return recursive_binary_search(ls[:mid], e)\n",
    "        elif e > ls[mid]:\n",
    "            return recursive_binary_search(ls[mid + 1:], e)\n",
    "        else:\n",
    "            return True\n",
    "\n"
   ]
  },
  {
   "cell_type": "markdown",
   "metadata": {},
   "source": [
    "Now let's do some simulations."
   ]
  },
  {
   "cell_type": "code",
   "execution_count": 21,
   "metadata": {},
   "outputs": [],
   "source": [
    "def simulate_binary_searches(max_size_exp=6, n_simulations=10):\n",
    "    sizes = [10 ** i for i in range(1, max_size_exp + 1)]\n",
    "    access_recursive = []\n",
    "    access_iterative = []\n",
    "\n",
    "    for size in sizes:\n",
    "        for sim in range(n_simulations):\n",
    "            recursive = []\n",
    "            iterative = []\n",
    "            a = random.sample(range(size), size)\n",
    "            a.sort()\n",
    "            idx = random.randint(0, size - 1)\n",
    "            element = a[idx]\n",
    "\n",
    "            b = time.time()\n",
    "            _ = binary_search(a, element)\n",
    "            e = time.time()\n",
    "            iterative += [e - b]\n",
    "\n",
    "            b = time.time()\n",
    "            _ = recursive_binary_search(a, element)\n",
    "            e = time.time()\n",
    "            recursive += [e - b]\n",
    "        \n",
    "        access_recursive += [np.array(recursive).mean()]\n",
    "        access_iterative += [np.array(iterative).mean()]\n",
    "\n",
    "    return pd.DataFrame({\"recursive\": access_recursive, \"iterative\": access_iterative})\n",
    "\n",
    "times_binary = simulate_binary_searches(7, 5)\n"
   ]
  },
  {
   "cell_type": "markdown",
   "metadata": {},
   "source": [
    "Let's now plot the access times."
   ]
  },
  {
   "cell_type": "code",
   "execution_count": 22,
   "metadata": {},
   "outputs": [
    {
     "data": {
      "text/plain": [
       "<AxesSubplot:>"
      ]
     },
     "execution_count": 22,
     "metadata": {},
     "output_type": "execute_result"
    },
    {
     "data": {
      "image/png": "[encoded data removed]",
      "text/plain": [
       "<Figure size 432x288 with 1 Axes>"
      ]
     },
     "metadata": {
      "needs_background": "light"
     },
     "output_type": "display_data"
    }
   ],
   "source": [
    "times_binary.plot()"
   ]
  },
  {
   "cell_type": "markdown",
   "metadata": {},
   "source": [
    "As expected the recursive approach time increases with size in an exponential fashion due to the overhead of sub-calling the routine itself."
   ]
  },
  {
   "cell_type": "markdown",
   "metadata": {},
   "source": [
    "### 3. Implement the binary search using recursion without the slice operator. Recall that you will need to pass the list along with the starting and ending index values for the sublist. Generate a random, ordered list of integers and do a benchmark analysis.\n",
    "\n",
    "Let's first define such a function."
   ]
  },
  {
   "cell_type": "code",
   "execution_count": 23,
   "metadata": {},
   "outputs": [
    {
     "data": {
      "text/plain": [
       "True"
      ]
     },
     "execution_count": 23,
     "metadata": {},
     "output_type": "execute_result"
    }
   ],
   "source": [
    "def recursive_binary_search_no_slice(ls, e, low=None, high=None):\n",
    "    if low is None:\n",
    "        low = 0\n",
    "    \n",
    "    if high is None:\n",
    "        high = len(ls)\n",
    "        \n",
    "    if low == high:\n",
    "        return False\n",
    "    else:\n",
    "        mid = (low + high) // 2\n",
    "        if e < ls[mid]:\n",
    "            return recursive_binary_search_no_slice(ls, e, low, mid)\n",
    "        elif e > ls[mid]:\n",
    "            return recursive_binary_search_no_slice(ls, e, mid + 1, high)\n",
    "        else:\n",
    "            return True\n",
    "\n",
    "recursive_binary_search_no_slice([1, 2, 3, 4, 5], 4)"
   ]
  },
  {
   "cell_type": "markdown",
   "metadata": {},
   "source": [
    "Let's now generate a benchmark analysis."
   ]
  },
  {
   "cell_type": "code",
   "execution_count": 24,
   "metadata": {},
   "outputs": [],
   "source": [
    "def simulate_recursive_binary_searches(max_size_exp=6, n_simulations=10):\n",
    "    sizes = [10 ** i for i in range(1, max_size_exp + 1)]\n",
    "    access_slice = []\n",
    "    access_no_slice = []\n",
    "\n",
    "    for size in sizes:\n",
    "        for sim in range(n_simulations):\n",
    "            with_slice = []\n",
    "            no_slice = []\n",
    "            a = random.sample(range(size), size)\n",
    "            a.sort()\n",
    "            idx = random.randint(0, size - 1)\n",
    "            element = a[idx]\n",
    "\n",
    "            b = time.time()\n",
    "            _ = recursive_binary_search(a, element)\n",
    "            e = time.time()\n",
    "            with_slice += [e - b]\n",
    "\n",
    "            b = time.time()\n",
    "            _ = recursive_binary_search_no_slice(a, element)\n",
    "            e = time.time()\n",
    "            no_slice += [e - b]\n",
    "        \n",
    "        access_slice += [np.array(with_slice).mean()]\n",
    "        access_no_slice += [np.array(no_slice).mean()]\n",
    "\n",
    "    return pd.DataFrame({\"slice\": access_slice, \"no_slice\": access_no_slice})\n",
    "\n",
    "times_recursive_binary = simulate_recursive_binary_searches(7, 5)"
   ]
  },
  {
   "cell_type": "markdown",
   "metadata": {},
   "source": [
    "Let's now compare the two."
   ]
  },
  {
   "cell_type": "code",
   "execution_count": 25,
   "metadata": {},
   "outputs": [
    {
     "data": {
      "text/plain": [
       "<AxesSubplot:>"
      ]
     },
     "execution_count": 25,
     "metadata": {},
     "output_type": "execute_result"
    },
    {
     "data": {
      "image/png": "[encoded data removed]",
      "text/plain": [
       "<Figure size 432x288 with 1 Axes>"
      ]
     },
     "metadata": {
      "needs_background": "light"
     },
     "output_type": "display_data"
    }
   ],
   "source": [
    "times_recursive_binary.plot()"
   ]
  },
  {
   "cell_type": "markdown",
   "metadata": {},
   "source": [
    "Non slicing holds a smaller access time compared to the version of the search which slices up the array."
   ]
  },
  {
   "cell_type": "markdown",
   "metadata": {},
   "source": [
    "### 4. Implement the `len` method (`__len__`) for the hash table Map ADT implementation.\n",
    "\n",
    "Let's retrieve the full code from the textbook and implement it."
   ]
  },
  {
   "cell_type": "code",
   "execution_count": 28,
   "metadata": {},
   "outputs": [],
   "source": [
    "class HashTable:\n",
    "    def __init__(self):\n",
    "        self.size = 11\n",
    "        self.slots = [None] * self.size\n",
    "        self.data = [None] * self.size\n",
    "\n",
    "    def put(self, key, data):\n",
    "        hash_value = self.hash_function(key, len(self.slots))\n",
    "\n",
    "        if self.slots[hash_value] is None:\n",
    "            self.slots[hash_value] = key\n",
    "            self.data[hash_value] = data\n",
    "        else:\n",
    "            if self.slots[hash_value] == key:\n",
    "                self.data[hash_value] = data  # replace\n",
    "            else:\n",
    "                next_slot = self.rehash(hash_value, len(self.slots))\n",
    "                while (\n",
    "                    self.slots[next_slot] is not None\n",
    "                    and self.slots[next_slot] != key\n",
    "                ):\n",
    "                    next_slot = self.rehash(next_slot, len(self.slots))\n",
    "\n",
    "                if self.slots[next_slot] is None:\n",
    "                    self.slots[next_slot] = key\n",
    "                    self.data[next_slot] = data\n",
    "                else:\n",
    "                    self.data[next_slot] = data\n",
    "\n",
    "    def hash_function(self, key, size):\n",
    "        return key % size\n",
    "\n",
    "    def rehash(self, old_hash, size):\n",
    "        return (old_hash + 1) % size\n",
    "\n",
    "    def get(self, key):\n",
    "        start_slot = self.hash_function(key, len(self.slots))\n",
    "\n",
    "        position = start_slot\n",
    "        while self.slots[position] is not None:\n",
    "            if self.slots[position] == key:\n",
    "                return self.data[position]\n",
    "            else:\n",
    "                position = self.rehash(position, len(self.slots))\n",
    "                if position == start_slot:\n",
    "                    return None\n",
    "\n",
    "    def __getitem__(self, key):\n",
    "        return self.get(key)\n",
    "\n",
    "    def __setitem__(self, key, data):\n",
    "        self.put(key, data)\n",
    "\n",
    "    def __len__(self):\n",
    "        return sum([int(s is not None) for s in self.slots])\n",
    "        "
   ]
  },
  {
   "cell_type": "markdown",
   "metadata": {},
   "source": [
    "### 5. Implement the `in` method (`__contains__`) for the hash table Map ADT implementation.\n",
    "\n",
    "Let's answer below."
   ]
  },
  {
   "cell_type": "code",
   "execution_count": 1,
   "metadata": {},
   "outputs": [],
   "source": [
    "class HashTable:\n",
    "    def __init__(self):\n",
    "        self.size = 11\n",
    "        self.slots = [None] * self.size\n",
    "        self.data = [None] * self.size\n",
    "\n",
    "    def put(self, key, data):\n",
    "        hash_value = self.hash_function(key, len(self.slots))\n",
    "\n",
    "        if self.slots[hash_value] is None:\n",
    "            self.slots[hash_value] = key\n",
    "            self.data[hash_value] = data\n",
    "        else:\n",
    "            if self.slots[hash_value] == key:\n",
    "                self.data[hash_value] = data  # replace\n",
    "            else:\n",
    "                next_slot = self.rehash(hash_value, len(self.slots))\n",
    "                while (\n",
    "                    self.slots[next_slot] is not None\n",
    "                    and self.slots[next_slot] != key\n",
    "                ):\n",
    "                    next_slot = self.rehash(next_slot, len(self.slots))\n",
    "\n",
    "                if self.slots[next_slot] is None:\n",
    "                    self.slots[next_slot] = key\n",
    "                    self.data[next_slot] = data\n",
    "                else:\n",
    "                    self.data[next_slot] = data\n",
    "\n",
    "    def hash_function(self, key, size):\n",
    "        return key % size\n",
    "\n",
    "    def rehash(self, old_hash, size):\n",
    "        return (old_hash + 1) % size\n",
    "\n",
    "    def get(self, key):\n",
    "        start_slot = self.hash_function(key, len(self.slots))\n",
    "\n",
    "        position = start_slot\n",
    "        while self.slots[position] is not None:\n",
    "            if self.slots[position] == key:\n",
    "                return self.data[position]\n",
    "            else:\n",
    "                position = self.rehash(position, len(self.slots))\n",
    "                if position == start_slot:\n",
    "                    return None\n",
    "\n",
    "    def __getitem__(self, key):\n",
    "        return self.get(key)\n",
    "\n",
    "    def __setitem__(self, key, data):\n",
    "        self.put(key, data)\n",
    "\n",
    "    def __len__(self):\n",
    "        return sum([int(s is not None) for s in self.slots])\n",
    "\n",
    "    def __contains__(self, key):\n",
    "        return key in self.slots\n",
    "        "
   ]
  },
  {
   "cell_type": "markdown",
   "metadata": {},
   "source": [
    "### 6. How can you delete items from a hash table that uses chaining for collision resolution? How about if open addressing is used? What are the special circumstances that must be handled? Implement the `del` method for the `HashTable` class.\n",
    "\n",
    "Since we are using chaining, we might push, due to the circularity of the data structure, some data before the actual key we want to remove. Therefore, what I did is to remove the required key-value pair, as well as all the key-value pairs that would hash to the freed position. These last ones however are saved in two auxillary arrays, so we can hash them back (through the `put` method). This is the easiest and quickest way, though it requires some memory and calling `put()`."
   ]
  },
  {
   "cell_type": "code",
   "execution_count": 32,
   "metadata": {},
   "outputs": [],
   "source": [
    "class HashTable:\n",
    "    def __init__(self):\n",
    "        self.size = 11\n",
    "        self.slots = [None] * self.size\n",
    "        self.data = [None] * self.size\n",
    "\n",
    "    def put(self, key, data):\n",
    "        hash_value = self.hash_function(key, len(self.slots))\n",
    "\n",
    "        if self.slots[hash_value] is None:\n",
    "            self.slots[hash_value] = key\n",
    "            self.data[hash_value] = data\n",
    "        else:\n",
    "            if self.slots[hash_value] == key:\n",
    "                self.data[hash_value] = data  # replace\n",
    "            else:\n",
    "                next_slot = self.rehash(hash_value, len(self.slots))\n",
    "                while (\n",
    "                    self.slots[next_slot] is not None\n",
    "                    and self.slots[next_slot] != key\n",
    "                ):\n",
    "                    next_slot = self.rehash(next_slot, len(self.slots))\n",
    "\n",
    "                if self.slots[next_slot] is None:\n",
    "                    self.slots[next_slot] = key\n",
    "                    self.data[next_slot] = data\n",
    "                else:\n",
    "                    self.data[next_slot] = data\n",
    "\n",
    "    def hash_function(self, key, size):\n",
    "        return key % size\n",
    "\n",
    "    def rehash(self, old_hash, size):\n",
    "        return (old_hash + 1) % size\n",
    "\n",
    "    def get(self, key):\n",
    "        start_slot = self.hash_function(key, len(self.slots))\n",
    "\n",
    "        position = start_slot\n",
    "        while self.slots[position] is not None:\n",
    "            if self.slots[position] == key:\n",
    "                return self.data[position]\n",
    "            else:\n",
    "                position = self.rehash(position, len(self.slots))\n",
    "                if position == start_slot:\n",
    "                    return None\n",
    "\n",
    "    def __getitem__(self, key):\n",
    "        return self.get(key)\n",
    "\n",
    "    def __setitem__(self, key, data):\n",
    "        self.put(key, data)\n",
    "\n",
    "    def __len__(self):\n",
    "        return sum([int(s is not None) for s in self.slots])\n",
    "\n",
    "    def __contains__(self, key):\n",
    "        return key in self.slots\n",
    "\n",
    "    def __delitem__(self, key):\n",
    "        position = self.slots.index(key)\n",
    "        if position >= 0:\n",
    "            self.slots[position] = None\n",
    "            self.data[position] = None\n",
    "            collided_keys = []\n",
    "            collided_values = []\n",
    "            \n",
    "            for i, k in enumerate(self.slots):\n",
    "                if k is not None and self.hash_function(k, self.size) == position:\n",
    "                    collided_keys += [k]\n",
    "                    collided_values += [self.data[i]]\n",
    "                    self.slots[i] = None\n",
    "                    self.data[i] = None\n",
    "\n",
    "            for k, v in zip(collided_keys, collided_values):\n",
    "                self.put(k, v)\n",
    "                "
   ]
  }
 ],
 "metadata": {
  "interpreter": {
   "hash": "bdc1c445b68446493975f0f4c1120652b32b7ff2d59b9297499b6aaef4c1ff08"
  },
  "kernelspec": {
   "display_name": "Python 3.9.7 64-bit ('base': conda)",
   "name": "python3"
  },
  "language_info": {
   "codemirror_mode": {
    "name": "ipython",
    "version": 3
   },
   "file_extension": ".py",
   "mimetype": "text/x-python",
   "name": "python",
   "nbconvert_exporter": "python",
   "pygments_lexer": "ipython3",
   "version": "3.9.7"
  },
  "orig_nbformat": 4
 },
 "nbformat": 4,
 "nbformat_minor": 2
}
