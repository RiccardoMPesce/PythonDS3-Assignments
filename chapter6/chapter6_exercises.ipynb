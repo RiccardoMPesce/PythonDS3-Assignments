{
 "cells": [
  {
   "cell_type": "markdown",
   "metadata": {},
   "source": [
    "# Chapter 6 - Exercises"
   ]
  },
  {
   "cell_type": "markdown",
   "metadata": {},
   "source": [
    "### 1. Using the hash table performance formulas given in the chapter, compute the average number of comparisons necessary when the table is\n",
    "\n",
    "* ### 10% full\n",
    "\n",
    "* ### 25% full\n",
    "\n",
    "* ### 50% full\n",
    "\n",
    "* ### 75% full\n",
    "\n",
    "* ### 90% full\n",
    "\n",
    "* ### 99% full\n",
    "\n",
    "### At what point do you think the hash table is too small? Explain.\n",
    "\n",
    "Let's define first some helper functions to get us the given formulas."
   ]
  },
  {
   "cell_type": "code",
   "execution_count": 1,
   "metadata": {},
   "outputs": [],
   "source": [
    "def successful_search(lf):\n",
    "    return (1 / 2) * (1 + 1 / (1 - lf))\n",
    "\n",
    "def unsuccessful_search(lf):\n",
    "    return (1 / 2) * (1 + ((1 / (1 - lf)) ** 2))\n",
    "\n",
    "def successful_search_chaining(lf):\n",
    "    return 1 + (1 / lf)\n",
    "\n",
    "def unsuccessful_search_chaining(lf):\n",
    "    return lf"
   ]
  },
  {
   "cell_type": "markdown",
   "metadata": {},
   "source": [
    "Let's now compute the average number of searches."
   ]
  },
  {
   "cell_type": "code",
   "execution_count": 4,
   "metadata": {},
   "outputs": [
    {
     "name": "stdout",
     "output_type": "stream",
     "text": [
      "Successful (no chaining) for load factor 0.1: 1.0555555555555556\n",
      "Successful (no chaining) for load factor 0.25: 1.1666666666666665\n",
      "Successful (no chaining) for load factor 0.5: 1.5\n",
      "Successful (no chaining) for load factor 0.75: 2.5\n",
      "Successful (no chaining) for load factor 0.9: 5.500000000000001\n",
      "Successful (no chaining) for load factor 0.99: 50.49999999999996\n",
      "\n",
      "\n",
      "Unuccessful (no chaining) for load factor 0.1: 1.117283950617284\n",
      "Unuccessful (no chaining) for load factor 0.25: 1.3888888888888888\n",
      "Unuccessful (no chaining) for load factor 0.5: 2.5\n",
      "Unuccessful (no chaining) for load factor 0.75: 8.5\n",
      "Unuccessful (no chaining) for load factor 0.9: 50.50000000000002\n",
      "Unuccessful (no chaining) for load factor 0.99: 5000.499999999992\n",
      "\n",
      "\n",
      "Successful (with chaining) for load factor 0.1: 11.0\n",
      "Successful (with chaining) for load factor 0.25: 5.0\n",
      "Successful (with chaining) for load factor 0.5: 3.0\n",
      "Successful (with chaining) for load factor 0.75: 2.333333333333333\n",
      "Successful (with chaining) for load factor 0.9: 2.111111111111111\n",
      "Successful (with chaining) for load factor 0.99: 2.0101010101010104\n",
      "\n",
      "\n",
      "Unsuccessful (with chaining) for load factor 0.1: 0.1\n",
      "Unsuccessful (with chaining) for load factor 0.25: 0.25\n",
      "Unsuccessful (with chaining) for load factor 0.5: 0.5\n",
      "Unsuccessful (with chaining) for load factor 0.75: 0.75\n",
      "Unsuccessful (with chaining) for load factor 0.9: 0.9\n",
      "Unsuccessful (with chaining) for load factor 0.99: 0.99\n"
     ]
    }
   ],
   "source": [
    "for lf in [0.10, 0.25, 0.50, 0.75, 0.90, 0.99]:\n",
    "    print(f\"Successful (no chaining) for load factor {lf}: {successful_search(lf)}\")\n",
    "\n",
    "print(\"\\n\")\n",
    "\n",
    "for lf in [0.10, 0.25, 0.50, 0.75, 0.90, 0.99]:    \n",
    "    print(f\"Unuccessful (no chaining) for load factor {lf}: {unsuccessful_search(lf)}\")\n",
    "\n",
    "print(\"\\n\")\n",
    "\n",
    "for lf in [0.10, 0.25, 0.50, 0.75, 0.90, 0.99]:\n",
    "    print(f\"Successful (with chaining) for load factor {lf}: {successful_search_chaining(lf)}\")\n",
    "    \n",
    "print(\"\\n\")\n",
    "\n",
    "for lf in [0.10, 0.25, 0.50, 0.75, 0.90, 0.99]:\n",
    "    print(f\"Unsuccessful (with chaining) for load factor {lf}: {unsuccessful_search_chaining(lf)}\")\n"
   ]
  },
  {
   "cell_type": "markdown",
   "metadata": {},
   "source": [
    "I can see that after a load factor of 0.5, performances degrade (when not using chaining). We note that when the load factor is 0.99, the number of searches is very huge."
   ]
  },
  {
   "cell_type": "markdown",
   "metadata": {},
   "source": []
  }
 ],
 "metadata": {
  "interpreter": {
   "hash": "bdc1c445b68446493975f0f4c1120652b32b7ff2d59b9297499b6aaef4c1ff08"
  },
  "kernelspec": {
   "display_name": "Python 3.9.7 64-bit ('base': conda)",
   "name": "python3"
  },
  "language_info": {
   "codemirror_mode": {
    "name": "ipython",
    "version": 3
   },
   "file_extension": ".py",
   "mimetype": "text/x-python",
   "name": "python",
   "nbconvert_exporter": "python",
   "pygments_lexer": "ipython3",
   "version": "3.9.7"
  },
  "orig_nbformat": 4
 },
 "nbformat": 4,
 "nbformat_minor": 2
}
