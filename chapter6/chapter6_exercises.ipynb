{
 "cells": [
  {
   "cell_type": "markdown",
   "metadata": {},
   "source": [
    "# Chapter 6 - Exercises"
   ]
  },
  {
   "cell_type": "markdown",
   "metadata": {},
   "source": [
    "### 1. Set up a random experiment to test the difference between a sequential search and a binary search on a list of integers.\n",
    "\n",
    "Let's first import the necesssary libraries and define both searching algorithms."
   ]
  },
  {
   "cell_type": "code",
   "execution_count": 2,
   "metadata": {},
   "outputs": [],
   "source": [
    "import time \n",
    "import random \n",
    "\n",
    "import numpy as np \n",
    "import pandas as pd \n",
    "import matplotlib.pyplot as plt \n",
    "\n",
    "def sequential_search(ls, e, is_sorted=False):\n",
    "    for i, n in enumerate(ls):\n",
    "        if e == n:\n",
    "            return i\n",
    "\n",
    "        if is_sorted and ls[i] > e:\n",
    "            break \n",
    "\n",
    "    return -1\n",
    "\n",
    "def binary_search(ls, e):\n",
    "    low = 0\n",
    "    high = len(ls) - 1\n",
    "\n",
    "    while low <= high:\n",
    "        mid = (low + high) // 2 \n",
    "        if e < ls[mid]:\n",
    "            high = mid - 1\n",
    "        elif e > ls[mid]:\n",
    "            low = mid + 1\n",
    "        else:\n",
    "            return mid\n",
    "\n",
    "    return -1 \n",
    "    "
   ]
  },
  {
   "cell_type": "markdown",
   "metadata": {},
   "source": [
    "Let's now set up the experiment, by generating random ordered list (we need them for binary search, otherwise we would not get deterministic results). First let's start with values that really are inside the array."
   ]
  },
  {
   "cell_type": "code",
   "execution_count": 2,
   "metadata": {},
   "outputs": [],
   "source": [
    "def simulate_searches(max_size_exp=6, n_simulations=10):\n",
    "    sizes = [10 ** i for i in range(1, max_size_exp + 1)]\n",
    "    access_sequential = []\n",
    "    access_binary = []\n",
    "\n",
    "    for size in sizes:\n",
    "        for sim in range(n_simulations):\n",
    "            sequential = []\n",
    "            binary = []\n",
    "            a = random.sample(range(size), size)\n",
    "            a.sort()\n",
    "            idx = random.randint(0, size - 1)\n",
    "            element = a[idx]\n",
    "\n",
    "            b = time.time()\n",
    "            _ = sequential_search(a, element, is_sorted=True)\n",
    "            e = time.time()\n",
    "            sequential += [e - b]\n",
    "\n",
    "            b = time.time()\n",
    "            _ = binary_search(a, element)\n",
    "            e = time.time()\n",
    "            binary += [e - b]\n",
    "        \n",
    "        access_sequential += [np.array(sequential).mean()]\n",
    "        access_binary += [np.array(binary).mean()]\n",
    "\n",
    "    return pd.DataFrame({\"sequential\": access_sequential, \"binary\": access_binary})\n",
    "\n",
    "times = simulate_searches(7, 5)"
   ]
  },
  {
   "cell_type": "markdown",
   "metadata": {},
   "source": [
    "Now let's plot the access times. On the x-axis we have the power to which we are raising 10 to get the input size of the array (`size = 10 ** (x + 1)`) and on the y axis the time in seconds needed to complete the search. In all cases, elements are found inside the array."
   ]
  },
  {
   "cell_type": "code",
   "execution_count": 3,
   "metadata": {},
   "outputs": [
    {
     "data": {
      "text/plain": [
       "<AxesSubplot:>"
      ]
     },
     "execution_count": 3,
     "metadata": {},
     "output_type": "execute_result"
    },
    {
     "data": {
      "image/png": "[encoded data removed]",
      "text/plain": [
       "<Figure size 432x288 with 1 Axes>"
      ]
     },
     "metadata": {
      "needs_background": "light"
     },
     "output_type": "display_data"
    }
   ],
   "source": [
    "times.plot()"
   ]
  },
  {
   "cell_type": "markdown",
   "metadata": {},
   "source": [
    "We see how sequential search takes a huge amount of time (it's exponential because sizes are increasing in an exponential fashion, but it would be linear), while binary search has a very mild increase which is not evident for such a huge case. Feel free to experiment with bigger sizes keeping in mind that it will take more time.\n",
    "It would be great to also experiment with a linearly increasing size as well as different scenarios (for example where elements are not found), I will try to make a more complete experiment over the next questions."
   ]
  },
  {
   "cell_type": "markdown",
   "metadata": {},
   "source": [
    "### 2. Use the binary search functions given in the text (recursive and iterative). Generate a random, ordered list of integers and do a benchmark analysis for each one. What are your results? Can you explain them?\n",
    "\n",
    "Let's first define a recursive binary search function."
   ]
  },
  {
   "cell_type": "code",
   "execution_count": 4,
   "metadata": {},
   "outputs": [],
   "source": [
    "def recursive_binary_search(ls, e):\n",
    "    if len(ls) == 0:\n",
    "        return False\n",
    "    else:\n",
    "        mid = len(ls) // 2 \n",
    "\n",
    "        if e < ls[mid]:\n",
    "            return recursive_binary_search(ls[:mid], e)\n",
    "        elif e > ls[mid]:\n",
    "            return recursive_binary_search(ls[mid + 1:], e)\n",
    "        else:\n",
    "            return True\n",
    "\n"
   ]
  },
  {
   "cell_type": "markdown",
   "metadata": {},
   "source": [
    "Now let's do some simulations."
   ]
  },
  {
   "cell_type": "code",
   "execution_count": 5,
   "metadata": {},
   "outputs": [],
   "source": [
    "def simulate_binary_searches(max_size_exp=6, n_simulations=10):\n",
    "    sizes = [10 ** i for i in range(1, max_size_exp + 1)]\n",
    "    access_recursive = []\n",
    "    access_iterative = []\n",
    "\n",
    "    for size in sizes:\n",
    "        for sim in range(n_simulations):\n",
    "            recursive = []\n",
    "            iterative = []\n",
    "            a = random.sample(range(size), size)\n",
    "            a.sort()\n",
    "            idx = random.randint(0, size - 1)\n",
    "            element = a[idx]\n",
    "\n",
    "            b = time.time()\n",
    "            _ = binary_search(a, element)\n",
    "            e = time.time()\n",
    "            iterative += [e - b]\n",
    "\n",
    "            b = time.time()\n",
    "            _ = recursive_binary_search(a, element)\n",
    "            e = time.time()\n",
    "            recursive += [e - b]\n",
    "        \n",
    "        access_recursive += [np.array(recursive).mean()]\n",
    "        access_iterative += [np.array(iterative).mean()]\n",
    "\n",
    "    return pd.DataFrame({\"recursive\": access_recursive, \"iterative\": access_iterative})\n",
    "\n",
    "times_binary = simulate_binary_searches(7, 5)\n"
   ]
  },
  {
   "cell_type": "markdown",
   "metadata": {},
   "source": [
    "Let's now plot the access times."
   ]
  },
  {
   "cell_type": "code",
   "execution_count": 6,
   "metadata": {},
   "outputs": [
    {
     "data": {
      "text/plain": [
       "<AxesSubplot:>"
      ]
     },
     "execution_count": 6,
     "metadata": {},
     "output_type": "execute_result"
    },
    {
     "data": {
      "image/png": "[encoded data removed]",
      "text/plain": [
       "<Figure size 432x288 with 1 Axes>"
      ]
     },
     "metadata": {
      "needs_background": "light"
     },
     "output_type": "display_data"
    }
   ],
   "source": [
    "times_binary.plot()"
   ]
  },
  {
   "cell_type": "markdown",
   "metadata": {},
   "source": [
    "As expected the recursive approach time increases with size in an exponential fashion due to the overhead of sub-calling the routine itself."
   ]
  },
  {
   "cell_type": "markdown",
   "metadata": {},
   "source": [
    "### 3. Implement the binary search using recursion without the slice operator. Recall that you will need to pass the list along with the starting and ending index values for the sublist. Generate a random, ordered list of integers and do a benchmark analysis.\n",
    "\n",
    "Let's first define such a function."
   ]
  },
  {
   "cell_type": "code",
   "execution_count": 7,
   "metadata": {},
   "outputs": [
    {
     "data": {
      "text/plain": [
       "True"
      ]
     },
     "execution_count": 7,
     "metadata": {},
     "output_type": "execute_result"
    }
   ],
   "source": [
    "def recursive_binary_search_no_slice(ls, e, low=None, high=None):\n",
    "    if low is None:\n",
    "        low = 0\n",
    "    \n",
    "    if high is None:\n",
    "        high = len(ls)\n",
    "        \n",
    "    if low == high:\n",
    "        return False\n",
    "    else:\n",
    "        mid = (low + high) // 2\n",
    "        if e < ls[mid]:\n",
    "            return recursive_binary_search_no_slice(ls, e, low, mid)\n",
    "        elif e > ls[mid]:\n",
    "            return recursive_binary_search_no_slice(ls, e, mid + 1, high)\n",
    "        else:\n",
    "            return True\n",
    "\n",
    "recursive_binary_search_no_slice([1, 2, 3, 4, 5], 4)"
   ]
  },
  {
   "cell_type": "markdown",
   "metadata": {},
   "source": [
    "Let's now generate a benchmark analysis."
   ]
  },
  {
   "cell_type": "code",
   "execution_count": 8,
   "metadata": {},
   "outputs": [],
   "source": [
    "def simulate_recursive_binary_searches(max_size_exp=6, n_simulations=10):\n",
    "    sizes = [10 ** i for i in range(1, max_size_exp + 1)]\n",
    "    access_slice = []\n",
    "    access_no_slice = []\n",
    "\n",
    "    for size in sizes:\n",
    "        for sim in range(n_simulations):\n",
    "            with_slice = []\n",
    "            no_slice = []\n",
    "            a = random.sample(range(size), size)\n",
    "            a.sort()\n",
    "            idx = random.randint(0, size - 1)\n",
    "            element = a[idx]\n",
    "\n",
    "            b = time.time()\n",
    "            _ = recursive_binary_search(a, element)\n",
    "            e = time.time()\n",
    "            with_slice += [e - b]\n",
    "\n",
    "            b = time.time()\n",
    "            _ = recursive_binary_search_no_slice(a, element)\n",
    "            e = time.time()\n",
    "            no_slice += [e - b]\n",
    "        \n",
    "        access_slice += [np.array(with_slice).mean()]\n",
    "        access_no_slice += [np.array(no_slice).mean()]\n",
    "\n",
    "    return pd.DataFrame({\"slice\": access_slice, \"no_slice\": access_no_slice})\n",
    "\n",
    "times_recursive_binary = simulate_recursive_binary_searches(7, 5)"
   ]
  },
  {
   "cell_type": "markdown",
   "metadata": {},
   "source": [
    "Let's now compare the two."
   ]
  },
  {
   "cell_type": "code",
   "execution_count": 9,
   "metadata": {},
   "outputs": [
    {
     "data": {
      "text/plain": [
       "<AxesSubplot:>"
      ]
     },
     "execution_count": 9,
     "metadata": {},
     "output_type": "execute_result"
    },
    {
     "data": {
      "image/png": "[encoded data removed]",
      "text/plain": [
       "<Figure size 432x288 with 1 Axes>"
      ]
     },
     "metadata": {
      "needs_background": "light"
     },
     "output_type": "display_data"
    }
   ],
   "source": [
    "times_recursive_binary.plot()"
   ]
  },
  {
   "cell_type": "markdown",
   "metadata": {},
   "source": [
    "Non slicing holds a smaller access time compared to the version of the search which slices up the array."
   ]
  },
  {
   "cell_type": "markdown",
   "metadata": {},
   "source": [
    "### 4. Implement the `len` method (`__len__`) for the hash table Map ADT implementation.\n",
    "\n",
    "Let's retrieve the full code from the textbook and implement it."
   ]
  },
  {
   "cell_type": "code",
   "execution_count": 10,
   "metadata": {},
   "outputs": [],
   "source": [
    "class HashTable:\n",
    "    def __init__(self):\n",
    "        self.size = 11\n",
    "        self.slots = [None] * self.size\n",
    "        self.data = [None] * self.size\n",
    "\n",
    "    def put(self, key, data):\n",
    "        hash_value = self.hash_function(key, len(self.slots))\n",
    "\n",
    "        if self.slots[hash_value] is None:\n",
    "            self.slots[hash_value] = key\n",
    "            self.data[hash_value] = data\n",
    "        else:\n",
    "            if self.slots[hash_value] == key:\n",
    "                self.data[hash_value] = data  # replace\n",
    "            else:\n",
    "                next_slot = self.rehash(hash_value, len(self.slots))\n",
    "                while (\n",
    "                    self.slots[next_slot] is not None\n",
    "                    and self.slots[next_slot] != key\n",
    "                ):\n",
    "                    next_slot = self.rehash(next_slot, len(self.slots))\n",
    "\n",
    "                if self.slots[next_slot] is None:\n",
    "                    self.slots[next_slot] = key\n",
    "                    self.data[next_slot] = data\n",
    "                else:\n",
    "                    self.data[next_slot] = data\n",
    "\n",
    "    def hash_function(self, key, size):\n",
    "        return key % size\n",
    "\n",
    "    def rehash(self, old_hash, size):\n",
    "        return (old_hash + 1) % size\n",
    "\n",
    "    def get(self, key):\n",
    "        start_slot = self.hash_function(key, len(self.slots))\n",
    "\n",
    "        position = start_slot\n",
    "        while self.slots[position] is not None:\n",
    "            if self.slots[position] == key:\n",
    "                return self.data[position]\n",
    "            else:\n",
    "                position = self.rehash(position, len(self.slots))\n",
    "                if position == start_slot:\n",
    "                    return None\n",
    "\n",
    "    def __getitem__(self, key):\n",
    "        return self.get(key)\n",
    "\n",
    "    def __setitem__(self, key, data):\n",
    "        self.put(key, data)\n",
    "\n",
    "    def __len__(self):\n",
    "        return sum([int(s is not None) for s in self.slots])\n",
    "        "
   ]
  },
  {
   "cell_type": "markdown",
   "metadata": {},
   "source": [
    "### 5. Implement the `in` method (`__contains__`) for the hash table Map ADT implementation.\n",
    "\n",
    "Let's answer below."
   ]
  },
  {
   "cell_type": "code",
   "execution_count": 11,
   "metadata": {},
   "outputs": [],
   "source": [
    "class HashTable:\n",
    "    def __init__(self):\n",
    "        self.size = 11\n",
    "        self.slots = [None] * self.size\n",
    "        self.data = [None] * self.size\n",
    "\n",
    "    def put(self, key, data):\n",
    "        hash_value = self.hash_function(key, len(self.slots))\n",
    "\n",
    "        if self.slots[hash_value] is None:\n",
    "            self.slots[hash_value] = key\n",
    "            self.data[hash_value] = data\n",
    "        else:\n",
    "            if self.slots[hash_value] == key:\n",
    "                self.data[hash_value] = data  # replace\n",
    "            else:\n",
    "                next_slot = self.rehash(hash_value, len(self.slots))\n",
    "                while (\n",
    "                    self.slots[next_slot] is not None\n",
    "                    and self.slots[next_slot] != key\n",
    "                ):\n",
    "                    next_slot = self.rehash(next_slot, len(self.slots))\n",
    "\n",
    "                if self.slots[next_slot] is None:\n",
    "                    self.slots[next_slot] = key\n",
    "                    self.data[next_slot] = data\n",
    "                else:\n",
    "                    self.data[next_slot] = data\n",
    "\n",
    "    def hash_function(self, key, size):\n",
    "        return key % size\n",
    "\n",
    "    def rehash(self, old_hash, size):\n",
    "        return (old_hash + 1) % size\n",
    "\n",
    "    def get(self, key):\n",
    "        start_slot = self.hash_function(key, len(self.slots))\n",
    "\n",
    "        position = start_slot\n",
    "        while self.slots[position] is not None:\n",
    "            if self.slots[position] == key:\n",
    "                return self.data[position]\n",
    "            else:\n",
    "                position = self.rehash(position, len(self.slots))\n",
    "                if position == start_slot:\n",
    "                    return None\n",
    "\n",
    "    def __getitem__(self, key):\n",
    "        return self.get(key)\n",
    "\n",
    "    def __setitem__(self, key, data):\n",
    "        self.put(key, data)\n",
    "\n",
    "    def __len__(self):\n",
    "        return sum([int(s is not None) for s in self.slots])\n",
    "\n",
    "    def __contains__(self, key):\n",
    "        return key in self.slots\n",
    "        "
   ]
  },
  {
   "cell_type": "markdown",
   "metadata": {},
   "source": [
    "### 6. How can you delete items from a hash table that uses chaining for collision resolution? How about if open addressing is used? What are the special circumstances that must be handled? Implement the `del` method for the `HashTable` class.\n",
    "\n",
    "Since we are using chaining, we might push, due to the circularity of the data structure, some data before the actual key we want to remove. Therefore, what I did is to remove the required key-value pair, as well as all the key-value pairs that would hash to the freed position. These last ones however are saved in two auxillary arrays, so we can hash them back (through the `put` method). This is the easiest and quickest way, though it requires some memory and calling `put()`."
   ]
  },
  {
   "cell_type": "code",
   "execution_count": 12,
   "metadata": {},
   "outputs": [],
   "source": [
    "class HashTable:\n",
    "    def __init__(self):\n",
    "        self.size = 11\n",
    "        self.slots = [None] * self.size\n",
    "        self.data = [None] * self.size\n",
    "\n",
    "    def put(self, key, data):\n",
    "        hash_value = self.hash_function(key, len(self.slots))\n",
    "\n",
    "        if self.slots[hash_value] is None:\n",
    "            self.slots[hash_value] = key\n",
    "            self.data[hash_value] = data\n",
    "        else:\n",
    "            if self.slots[hash_value] == key:\n",
    "                self.data[hash_value] = data  # replace\n",
    "            else:\n",
    "                next_slot = self.rehash(hash_value, len(self.slots))\n",
    "                while (\n",
    "                    self.slots[next_slot] is not None\n",
    "                    and self.slots[next_slot] != key\n",
    "                ):\n",
    "                    next_slot = self.rehash(next_slot, len(self.slots))\n",
    "\n",
    "                if self.slots[next_slot] is None:\n",
    "                    self.slots[next_slot] = key\n",
    "                    self.data[next_slot] = data\n",
    "                else:\n",
    "                    self.data[next_slot] = data\n",
    "\n",
    "    def hash_function(self, key, size):\n",
    "        return key % size\n",
    "\n",
    "    def rehash(self, old_hash, size):\n",
    "        return (old_hash + 1) % size\n",
    "\n",
    "    def get(self, key):\n",
    "        start_slot = self.hash_function(key, len(self.slots))\n",
    "\n",
    "        position = start_slot\n",
    "        while self.slots[position] is not None:\n",
    "            if self.slots[position] == key:\n",
    "                return self.data[position]\n",
    "            else:\n",
    "                position = self.rehash(position, len(self.slots))\n",
    "                if position == start_slot:\n",
    "                    return None\n",
    "\n",
    "    def __getitem__(self, key):\n",
    "        return self.get(key)\n",
    "\n",
    "    def __setitem__(self, key, data):\n",
    "        self.put(key, data)\n",
    "\n",
    "    def __len__(self):\n",
    "        return sum([int(s is not None) for s in self.slots])\n",
    "\n",
    "    def __contains__(self, key):\n",
    "        return key in self.slots\n",
    "\n",
    "    def __delitem__(self, key):\n",
    "        position = self.slots.index(key)\n",
    "        if position >= 0:\n",
    "            self.slots[position] = None\n",
    "            self.data[position] = None\n",
    "            collided_keys = []\n",
    "            collided_values = []\n",
    "            \n",
    "            for i, k in enumerate(self.slots):\n",
    "                if k is not None and self.hash_function(k, self.size) == position:\n",
    "                    collided_keys += [k]\n",
    "                    collided_values += [self.data[i]]\n",
    "                    self.slots[i] = None\n",
    "                    self.data[i] = None\n",
    "\n",
    "            for k, v in zip(collided_keys, collided_values):\n",
    "                self.put(k, v)\n",
    "                "
   ]
  },
  {
   "cell_type": "markdown",
   "metadata": {},
   "source": [
    "### 7. In the hash table map implementation, the hash table size was chosen to be 101. If the table gets full, this needs to be increased. Re-implement the `put` method so that the table will automatically resize itself when the loading factor reaches a predetermined value (you can decide the value based on your assessment of load versus performance).\n",
    "\n",
    "We found that once the load factor is greater than 0.25 it starts to diverge quickly. In particular, after 0.50 it becomes huge. Therefore we choose that as the limit after which increasing the table size. However, we leave that decision on the user. We can then see how it works. We modified slightly the code so the user can choose the initial size."
   ]
  },
  {
   "cell_type": "code",
   "execution_count": 13,
   "metadata": {},
   "outputs": [],
   "source": [
    "class HashTable:\n",
    "    def __init__(self, size=10, resize_on=0.5):\n",
    "        self.size = size\n",
    "        self.resize_on = resize_on\n",
    "        self.slots = [None] * self.size\n",
    "        self.data = [None] * self.size\n",
    "\n",
    "    def load_factor(self):\n",
    "        return self.__len__() / self.size\n",
    "\n",
    "    def resize(self, new_size):\n",
    "        self.size = new_size\n",
    "        kv_pairs = [(k, v) for (k, v) in zip(self.slots, self.data) if k is not None and v is not None]\n",
    "        self.slots = [None] * new_size \n",
    "        self.data = [None] * new_size \n",
    "        \n",
    "        for (k, v) in kv_pairs:\n",
    "            self.put(k, v)\n",
    "\n",
    "    def put(self, key, data):\n",
    "        if self.load_factor() >= self.resize_on:\n",
    "            self.resize(self.size * 2)\n",
    "\n",
    "        hash_value = self.hash_function(key, self.size)\n",
    "\n",
    "        if self.slots[hash_value] is None:\n",
    "            self.slots[hash_value] = key\n",
    "            self.data[hash_value] = data\n",
    "        else:\n",
    "            if self.slots[hash_value] == key:\n",
    "                self.data[hash_value] = data  # replace\n",
    "            else:\n",
    "                next_slot = self.rehash(hash_value, self.size)\n",
    "                while (\n",
    "                    self.slots[next_slot] is not None\n",
    "                    and self.slots[next_slot] != key\n",
    "                ):\n",
    "                    next_slot = self.rehash(next_slot, self.size)\n",
    "\n",
    "                if self.slots[next_slot] is None:\n",
    "                    self.slots[next_slot] = key\n",
    "                    self.data[next_slot] = data\n",
    "                else:\n",
    "                    self.data[next_slot] = data\n",
    "\n",
    "    def hash_function(self, key, size):\n",
    "        return key % size\n",
    "\n",
    "    def rehash(self, old_hash, size):\n",
    "        return (old_hash + 1) % size\n",
    "\n",
    "    def get(self, key):\n",
    "        start_slot = self.hash_function(key, self.size)\n",
    "\n",
    "        position = start_slot\n",
    "        while self.slots[position] is not None:\n",
    "            if self.slots[position] == key:\n",
    "                return self.data[position]\n",
    "            else:\n",
    "                position = self.rehash(position, self.size)\n",
    "                if position == start_slot:\n",
    "                    return None\n",
    "\n",
    "    def __getitem__(self, key):\n",
    "        return self.get(key)\n",
    "\n",
    "    def __setitem__(self, key, data):\n",
    "        self.put(key, data)\n",
    "\n",
    "    def __len__(self):\n",
    "        return sum([int(s is not None) for s in self.slots])\n",
    "\n",
    "    def __contains__(self, key):\n",
    "        return key in self.slots\n",
    "\n",
    "    def __delitem__(self, key):\n",
    "        position = self.slots.index(key)\n",
    "        if position >= 0:\n",
    "            self.slots[position] = None\n",
    "            self.data[position] = None\n",
    "            collided_keys = []\n",
    "            collided_values = []\n",
    "            \n",
    "            for i, k in enumerate(self.slots):\n",
    "                if k is not None and self.hash_function(k, self.size) == position:\n",
    "                    collided_keys += [k]\n",
    "                    collided_values += [self.data[i]]\n",
    "                    self.slots[i] = None\n",
    "                    self.data[i] = None\n",
    "\n",
    "            for k, v in zip(collided_keys, collided_values):\n",
    "                self.put(k, v)\n",
    "                "
   ]
  },
  {
   "cell_type": "markdown",
   "metadata": {},
   "source": [
    "### 8. Implement quadratic probing as a rehash technique.\n",
    "\n",
    "We just need to redefine the `rehash` method."
   ]
  },
  {
   "cell_type": "code",
   "execution_count": 14,
   "metadata": {},
   "outputs": [],
   "source": [
    "class HashTable:\n",
    "    def __init__(self, size=10, resize_on=0.5):\n",
    "        self.size = size\n",
    "        self.resize_on = resize_on\n",
    "        self.slots = [None] * self.size\n",
    "        self.data = [None] * self.size\n",
    "\n",
    "    def load_factor(self):\n",
    "        return self.__len__() / self.size\n",
    "\n",
    "    def resize(self, new_size):\n",
    "        self.size = new_size\n",
    "        kv_pairs = [(k, v) for (k, v) in zip(self.slots, self.data) if k is not None and v is not None]\n",
    "        self.slots = [None] * new_size \n",
    "        self.data = [None] * new_size \n",
    "        \n",
    "        for (k, v) in kv_pairs:\n",
    "            self.put(k, v)\n",
    "\n",
    "    def put(self, key, data):\n",
    "        if self.load_factor() >= self.resize_on:\n",
    "            self.resize(self.size * 2)\n",
    "\n",
    "        hash_value = self.hash_function(key)\n",
    "\n",
    "        if self.slots[hash_value] is None:\n",
    "            self.slots[hash_value] = key\n",
    "            self.data[hash_value] = data\n",
    "        else:\n",
    "            if self.slots[hash_value] == key:\n",
    "                self.data[hash_value] = data  # replace\n",
    "            else:\n",
    "                trial = 1\n",
    "                next_slot = self.rehash(hash_value, trial)\n",
    "                while (\n",
    "                    self.slots[next_slot] is not None\n",
    "                    and self.slots[next_slot] != key\n",
    "                ):\n",
    "                    trial += 1\n",
    "                    next_slot = self.rehash(next_slot, trial)\n",
    "\n",
    "                if self.slots[next_slot] is None:\n",
    "                    self.slots[next_slot] = key\n",
    "                    self.data[next_slot] = data\n",
    "                else:\n",
    "                    self.data[next_slot] = data\n",
    "\n",
    "    def hash_function(self, key):\n",
    "        return key % self.size\n",
    "\n",
    "    def rehash(self, old_hash, trial):\n",
    "        return (old_hash + (trial ** 2)) % self.size\n",
    "\n",
    "    def get(self, key):\n",
    "        start_slot = self.hash_function(key, self.size)\n",
    "\n",
    "        position = start_slot\n",
    "        while self.slots[position] is not None:\n",
    "            if self.slots[position] == key:\n",
    "                return self.data[position]\n",
    "            else:\n",
    "                position = self.rehash(position, self.size)\n",
    "                if position == start_slot:\n",
    "                    return None\n",
    "\n",
    "    def __getitem__(self, key):\n",
    "        return self.get(key)\n",
    "\n",
    "    def __setitem__(self, key, data):\n",
    "        self.put(key, data)\n",
    "\n",
    "    def __len__(self):\n",
    "        return sum([int(s is not None) for s in self.slots])\n",
    "\n",
    "    def __contains__(self, key):\n",
    "        return key in self.slots\n",
    "\n",
    "    def __delitem__(self, key):\n",
    "        position = self.slots.index(key)\n",
    "        if position >= 0:\n",
    "            self.slots[position] = None\n",
    "            self.data[position] = None\n",
    "            collided_keys = []\n",
    "            collided_values = []\n",
    "            \n",
    "            for i, k in enumerate(self.slots):\n",
    "                if k is not None and self.hash_function(k, self.size) == position:\n",
    "                    collided_keys += [k]\n",
    "                    collided_values += [self.data[i]]\n",
    "                    self.slots[i] = None\n",
    "                    self.data[i] = None\n",
    "\n",
    "            for k, v in zip(collided_keys, collided_values):\n",
    "                self.put(k, v)\n",
    "                "
   ]
  },
  {
   "cell_type": "markdown",
   "metadata": {},
   "source": [
    "### 9. Using a random number generator, create a list of 500 integers. Perform a benchmark analysis using some of the sorting algorithms from this chapter. What is the difference in execution speed?\n",
    "\n",
    "Let's use the file `sorting_algorithms.py` ([here](./sorting_algorithms.py)) and pipe the output to the file [sorting_times.txt](./sorting_times.txt)."
   ]
  },
  {
   "cell_type": "code",
   "execution_count": 15,
   "metadata": {},
   "outputs": [],
   "source": [
    "! python sorting_algorithms.py >> sorting_times.txt"
   ]
  },
  {
   "cell_type": "markdown",
   "metadata": {},
   "source": [
    "You can now visit the file and see how the algorithms compared."
   ]
  },
  {
   "cell_type": "markdown",
   "metadata": {},
   "source": [
    "### 10. A bubble sort can be modified to “bubble” in both directions. The first pass moves “up” the list, and the second pass moves “down.” This alternating pattern continues until no more passes are necessary. Implement this variation and describe under what circumstances it might be appropriate.\n",
    "\n",
    "Such a version of bubble sort might be appropriate when the array is _almost_ sorted, that is when we have a collection of elements that we keep sorted in memory and at each insertion we want to \"bubble\" the new item/items to the correct position."
   ]
  },
  {
   "cell_type": "code",
   "execution_count": 14,
   "metadata": {},
   "outputs": [],
   "source": [
    "def alternating_bubble_sort(a):\n",
    "    n_swaps = 0\n",
    "    direction = 0\n",
    "    is_sorted = False \n",
    "\n",
    "    while is_sorted is False:\n",
    "        if direction % 2 == 0:\n",
    "            for i in range(len(a) - 1):\n",
    "                if a[i] > a[i + 1]:\n",
    "                    a[i], a[i + 1] = a[i + 1], a[i]\n",
    "                    n_swaps += 1\n",
    "        else:\n",
    "            for i in range(len(a) - 1, 0, -1):\n",
    "                if a[i] < a[i - 1]:\n",
    "                    a[i], a[i - 1] = a[i - 1], a[i]\n",
    "                    n_swaps += 1\n",
    "        \n",
    "        if n_swaps == 0:\n",
    "            is_sorted = True\n",
    "\n",
    "        n_swaps = 0\n",
    "        direction = 1 if direction == 0 else 0\n",
    "            "
   ]
  },
  {
   "cell_type": "markdown",
   "metadata": {},
   "source": [
    "### 11. Perform a benchmark analysis for a shell sort, using different increment sets on the same list.\n",
    "\n",
    "Let's bring here the shell sort function."
   ]
  },
  {
   "cell_type": "code",
   "execution_count": 32,
   "metadata": {},
   "outputs": [],
   "source": [
    "def shell_sort(a, increment=None):\n",
    "    increment = max(0, increment) if increment is not None else len(a) // 2\n",
    "    \n",
    "    for gap in range(increment, 0, -1):\n",
    "        for i in range(gap, len(a), gap):\n",
    "            j = i\n",
    "            while j > 0 and a[j] < a[j - gap]:\n",
    "                a[j], a[j - gap] = a[j - gap], a[j]\n",
    "                j -= gap\n"
   ]
  },
  {
   "cell_type": "markdown",
   "metadata": {},
   "source": [
    "Let's now run the sort with different gaps."
   ]
  },
  {
   "cell_type": "code",
   "execution_count": 58,
   "metadata": {},
   "outputs": [
    {
     "data": {
      "image/png": "[encoded data removed]",
      "text/plain": [
       "<Figure size 432x288 with 1 Axes>"
      ]
     },
     "metadata": {
      "needs_background": "light"
     },
     "output_type": "display_data"
    },
    {
     "data": {
      "image/png": "[encoded data removed]",
      "text/plain": [
       "<Figure size 432x288 with 1 Axes>"
      ]
     },
     "metadata": {
      "needs_background": "light"
     },
     "output_type": "display_data"
    },
    {
     "data": {
      "image/png": "[encoded data removed]",
      "text/plain": [
       "<Figure size 432x288 with 1 Axes>"
      ]
     },
     "metadata": {
      "needs_background": "light"
     },
     "output_type": "display_data"
    },
    {
     "data": {
      "image/png": "[encoded data removed]",
      "text/plain": [
       "<Figure size 432x288 with 1 Axes>"
      ]
     },
     "metadata": {
      "needs_background": "light"
     },
     "output_type": "display_data"
    },
    {
     "data": {
      "image/png": "[encoded data removed]",
      "text/plain": [
       "<Figure size 432x288 with 1 Axes>"
      ]
     },
     "metadata": {
      "needs_background": "light"
     },
     "output_type": "display_data"
    }
   ],
   "source": [
    "for n in [10, 50, 100, 500, 1000]:\n",
    "    a = random.sample(range(n), n)\n",
    "    times = []\n",
    "\n",
    "    for gap in range(1, n + 1):\n",
    "        a_copy = a[:]\n",
    "        s = time.time()\n",
    "        shell_sort(a, increment=gap)\n",
    "        e = time.time()\n",
    "        times += [e - s]\n",
    "\n",
    "    plt.title(f\"With size {n}\")\n",
    "    plt.xlabel(f\"increment\")\n",
    "    plt.ylabel(f\"time\")\n",
    "    plt.plot(range(1, n + 1), times)\n",
    "    plt.show()"
   ]
  },
  {
   "cell_type": "markdown",
   "metadata": {},
   "source": [
    "As we can see above, the time depends on the size of the array and on the increment: indeed, a unitary increment holds the longest time, while a larger increment might give more or less the same performances, definitely better than the increment with one which makes the algorithm degrade to an insertion sort."
   ]
  }
 ],
 "metadata": {
  "interpreter": {
   "hash": "bdc1c445b68446493975f0f4c1120652b32b7ff2d59b9297499b6aaef4c1ff08"
  },
  "kernelspec": {
   "display_name": "Python 3.9.7 64-bit ('base': conda)",
   "name": "python3"
  },
  "language_info": {
   "codemirror_mode": {
    "name": "ipython",
    "version": 3
   },
   "file_extension": ".py",
   "mimetype": "text/x-python",
   "name": "python",
   "nbconvert_exporter": "python",
   "pygments_lexer": "ipython3",
   "version": "3.9.7"
  },
  "orig_nbformat": 4
 },
 "nbformat": 4,
 "nbformat_minor": 2
}
