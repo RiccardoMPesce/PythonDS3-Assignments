{
 "cells": [
  {
   "cell_type": "markdown",
   "source": [
    "# Chapter 4 - Programming Exercises\n",
    "\n",
    "### [Link](https://runestone.academy/runestone/books/published/pythonds3/BasicDS/Exercises.html)"
   ],
   "metadata": {}
  },
  {
   "cell_type": "markdown",
   "source": [
    "### 1. Modify the infix-to-postfix algorithm so that it can handle errors.\n",
    "\n",
    "We have to see what are errors in the context of this algorithm. It turns out this list can present some common errors:\n",
    "* The number of open parentheses must equal the number of closed parentheses.\n",
    "* The token is something else than the ones accepted for the function (`\"ABCDEFGHIJKLMNOPQRSTUVWXYZ0123456789()+-/*\"`)."
   ],
   "metadata": {}
  },
  {
   "cell_type": "code",
   "execution_count": 11,
   "source": [
    "from pythonds3.basic import Stack\n",
    "\n",
    "def infix_to_postfix(infix_expr):\n",
    "    if infix_expr.count(\"(\") != infix_expr.count(\")\"):\n",
    "        print(f\"Error! Closed parentheses (n = {infix_expr.count('(')}) don't match open parentheses (n = {infix_expr.count(')')})!\")\n",
    "        return \n",
    "    \n",
    "    prec = {}\n",
    "    prec[\"*\"] = 3\n",
    "    prec[\"/\"] = 3\n",
    "    prec[\"+\"] = 2\n",
    "    prec[\"-\"] = 2\n",
    "    prec[\"(\"] = 1\n",
    "    op_stack = Stack()\n",
    "    postfix_list = []\n",
    "    token_list = infix_expr.split()\n",
    "\n",
    "    for token in token_list:\n",
    "        if token not in \"ABCDEFGHIJKLMNOPQRSTUVWXYZ0123456789()+-/*\":\n",
    "            print(f\"Error, token {token} not recognized!\")\n",
    "        elif token in \"ABCDEFGHIJKLMNOPQRSTUVWXYZ\" or token in \"0123456789\":\n",
    "            postfix_list.append(token)\n",
    "        elif token == \"(\":\n",
    "            op_stack.push(token)\n",
    "        elif token == \")\":\n",
    "            top_token = op_stack.pop()\n",
    "            while top_token != \"(\":\n",
    "                postfix_list.append(top_token)\n",
    "                top_token = op_stack.pop()\n",
    "        else:\n",
    "            while (not op_stack.is_empty()) and (prec[op_stack.peek()] >= prec[token]):\n",
    "                postfix_list.append(op_stack.pop())\n",
    "            op_stack.push(token)\n",
    "\n",
    "    while not op_stack.is_empty():\n",
    "        postfix_list.append(op_stack.pop())\n",
    "\n",
    "    return \" \".join(postfix_list)"
   ],
   "outputs": [],
   "metadata": {}
  },
  {
   "cell_type": "markdown",
   "source": [
    "### 2. Modify the postfix evaluation algorithm so that it can handle errors.\n",
    "\n",
    "I can see that we have to add an exception when we are diving by zero. I decided to still return infinity."
   ],
   "metadata": {}
  },
  {
   "cell_type": "code",
   "execution_count": 12,
   "source": [
    "import math\n",
    "\n",
    "def postfix_eval(postfix_expr):\n",
    "    operand_stack = Stack()\n",
    "    token_list = postfix_expr.split()\n",
    "\n",
    "    for token in token_list:\n",
    "        if token in \"0123456789\":\n",
    "            operand_stack.push(int(token))\n",
    "        else:\n",
    "            operand2 = operand_stack.pop()\n",
    "            operand1 = operand_stack.pop()\n",
    "            result = do_math(token, operand1, operand2)\n",
    "            operand_stack.push(result)\n",
    "    return operand_stack.pop()\n",
    "\n",
    "\n",
    "def do_math(op, op1, op2):\n",
    "    if op == \"*\":\n",
    "        return op1 * op2\n",
    "    elif op == \"/\":\n",
    "        try:\n",
    "            result = op1 / op2\n",
    "        except ZeroDivisionError:\n",
    "            print(f\"Division by 0 will give an infinite number!\")\n",
    "            result = op1 * math.inf\n",
    "        finally:\n",
    "            return result\n",
    "    elif op == \"+\":\n",
    "        return op1 + op2\n",
    "    else:\n",
    "        return op1 - op2"
   ],
   "outputs": [],
   "metadata": {}
  },
  {
   "cell_type": "markdown",
   "source": [
    "### 3. Implement a direct infix evaluator that combines the functionality of infix-to-postfix conversion and the postfix evaluation algorithm. Your evaluator should process infix tokens from left to right and use two stacks, one for operators and one for operands, to perform the evaluation.\n",
    "\n",
    "Both the modules already defined can be chained to produce a direct infix evaluator, but since we are operating with numbers, we have to modify it so that only numbers are accepted. As bonus point, I will add, as asked during the chapter, the ** (power) operator."
   ],
   "metadata": {}
  },
  {
   "cell_type": "code",
   "execution_count": 13,
   "source": [
    "def direct_infix_evaluator(infix_expr):\n",
    "    if infix_expr.count(\"(\") != infix_expr.count(\")\"):\n",
    "        print(f\"Error! Closed parentheses (n = {infix_expr.count('(')}) don't match open parentheses (n = {infix_expr.count(')')})!\")\n",
    "        return \n",
    "    \n",
    "    prec = {}\n",
    "    prec[\"*\"] = 4\n",
    "    prec[\"/\"] = 4\n",
    "    prec[\"+\"] = 3\n",
    "    prec[\"-\"] = 3\n",
    "    prec[\"^\"] = 2\n",
    "    prec[\"(\"] = 1\n",
    "    op_stack = Stack()\n",
    "    operand_stack = Stack()\n",
    "    postfix_list = []\n",
    "    token_list = infix_expr.replace(\"**\", \"^\").split()\n",
    "\n",
    "    for token in token_list:\n",
    "        if token not in \"0123456789()+-/*^\":\n",
    "            print(f\"Error, token {token} not recognized!\")\n",
    "        elif token in \"ABCDEFGHIJKLMNOPQRSTUVWXYZ\" or token in \"0123456789\":\n",
    "            postfix_list.append(token)\n",
    "        elif token == \"(\":\n",
    "            op_stack.push(token)\n",
    "        elif token == \")\":\n",
    "            top_token = op_stack.pop()\n",
    "            while top_token != \"(\":\n",
    "                postfix_list.append(top_token)\n",
    "                top_token = op_stack.pop()\n",
    "        else:\n",
    "            while (not op_stack.is_empty()) and (prec[op_stack.peek()] >= prec[token]):\n",
    "                postfix_list.append(op_stack.pop())\n",
    "            op_stack.push(token)\n",
    "\n",
    "    while not op_stack.is_empty():\n",
    "        postfix_list.append(op_stack.pop())\n",
    "\n",
    "    postfix_expr = \" \".join(postfix_list)\n",
    "    token_list = postfix_expr.split()\n",
    "\n",
    "    for token in token_list:\n",
    "        if token in \"0123456789\":\n",
    "            operand_stack.push(int(token))\n",
    "        else:\n",
    "            operand2 = operand_stack.pop()\n",
    "            operand1 = operand_stack.pop()\n",
    "            result = do_math(token, operand1, operand2)\n",
    "            operand_stack.push(result)\n",
    "            \n",
    "    return operand_stack.pop()\n"
   ],
   "outputs": [],
   "metadata": {}
  },
  {
   "cell_type": "markdown",
   "source": [
    "Let's now run it with different expressions."
   ],
   "metadata": {}
  },
  {
   "cell_type": "code",
   "execution_count": 14,
   "source": [
    "print(direct_infix_evaluator(\"5 * 3 ** ( 4 - 2 )\"))\n",
    "print(direct_infix_evaluator(\"( ( 3 + 2 ) * ( 6 * ( 1 - 5 ** 3 ) ) )\"))"
   ],
   "outputs": [
    {
     "output_type": "stream",
     "name": "stdout",
     "text": [
      "13\n",
      "-210\n"
     ]
    }
   ],
   "metadata": {}
  },
  {
   "cell_type": "markdown",
   "source": [
    "It seems it's working!"
   ],
   "metadata": {}
  },
  {
   "cell_type": "code",
   "execution_count": null,
   "source": [],
   "outputs": [],
   "metadata": {}
  }
 ],
 "metadata": {
  "orig_nbformat": 4,
  "language_info": {
   "name": "python",
   "version": "3.9.6",
   "mimetype": "text/x-python",
   "codemirror_mode": {
    "name": "ipython",
    "version": 3
   },
   "pygments_lexer": "ipython3",
   "nbconvert_exporter": "python",
   "file_extension": ".py"
  },
  "kernelspec": {
   "name": "python3",
   "display_name": "Python 3.9.6 64-bit ('base': conda)"
  },
  "interpreter": {
   "hash": "a473aa0524f7e71cff5bf41ad0f6e637ac4e671de457aeaaf8dd3e29779b2e94"
  }
 },
 "nbformat": 4,
 "nbformat_minor": 2
}