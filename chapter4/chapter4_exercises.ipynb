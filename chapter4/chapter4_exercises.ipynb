{
 "cells": [
  {
   "cell_type": "markdown",
   "source": [
    "# Chapter 4 - Programming Exercises\n",
    "\n",
    "### [Link](https://runestone.academy/runestone/books/published/pythonds3/BasicDS/Exercises.html)"
   ],
   "metadata": {}
  },
  {
   "cell_type": "markdown",
   "source": [
    "### 1. Modify the infix-to-postfix algorithm so that it can handle errors.\n",
    "\n",
    "We have to see what are errors in the context of this algorithm. It turns out this list can present some common errors:\n",
    "* The number of open parentheses must equal the number of closed parentheses.\n",
    "* The token is something else than the ones accepted for the function (`\"ABCDEFGHIJKLMNOPQRSTUVWXYZ0123456789()+-/*\"`)."
   ],
   "metadata": {}
  },
  {
   "cell_type": "code",
   "execution_count": 1,
   "source": [
    "from pythonds3.basic import Stack\n",
    "\n",
    "def infix_to_postfix(infix_expr):\n",
    "    if infix_expr.count(\"(\") != infix_expr.count(\")\"):\n",
    "        print(f\"Error! Closed parentheses (n = {infix_expr.count('(')}) don't match open parentheses (n = {infix_expr.count(')')})!\")\n",
    "        return \n",
    "    \n",
    "    prec = {}\n",
    "    prec[\"*\"] = 3\n",
    "    prec[\"/\"] = 3\n",
    "    prec[\"+\"] = 2\n",
    "    prec[\"-\"] = 2\n",
    "    prec[\"(\"] = 1\n",
    "    op_stack = Stack()\n",
    "    postfix_list = []\n",
    "    token_list = infix_expr.split()\n",
    "\n",
    "    for token in token_list:\n",
    "        if token not in \"ABCDEFGHIJKLMNOPQRSTUVWXYZ0123456789()+-/*\":\n",
    "            print(f\"Error, token {token} not recognized!\")\n",
    "        elif token in \"ABCDEFGHIJKLMNOPQRSTUVWXYZ\" or token in \"0123456789\":\n",
    "            postfix_list.append(token)\n",
    "        elif token == \"(\":\n",
    "            op_stack.push(token)\n",
    "        elif token == \")\":\n",
    "            top_token = op_stack.pop()\n",
    "            while top_token != \"(\":\n",
    "                postfix_list.append(top_token)\n",
    "                top_token = op_stack.pop()\n",
    "        else:\n",
    "            while (not op_stack.is_empty()) and (prec[op_stack.peek()] >= prec[token]):\n",
    "                postfix_list.append(op_stack.pop())\n",
    "            op_stack.push(token)\n",
    "\n",
    "    while not op_stack.is_empty():\n",
    "        postfix_list.append(op_stack.pop())\n",
    "\n",
    "    return \" \".join(postfix_list)"
   ],
   "outputs": [],
   "metadata": {}
  },
  {
   "cell_type": "markdown",
   "source": [
    "### 2. Modify the postfix evaluation algorithm so that it can handle errors.\n",
    "\n",
    "I can see that we have to add an exception when we are diving by zero. I decided to still return infinity."
   ],
   "metadata": {}
  },
  {
   "cell_type": "code",
   "execution_count": 2,
   "source": [
    "import math\n",
    "\n",
    "def postfix_eval(postfix_expr):\n",
    "    operand_stack = Stack()\n",
    "    token_list = postfix_expr.split()\n",
    "\n",
    "    for token in token_list:\n",
    "        if token in \"0123456789\":\n",
    "            operand_stack.push(int(token))\n",
    "        else:\n",
    "            operand2 = operand_stack.pop()\n",
    "            operand1 = operand_stack.pop()\n",
    "            result = do_math(token, operand1, operand2)\n",
    "            operand_stack.push(result)\n",
    "    return operand_stack.pop()\n",
    "\n",
    "\n",
    "def do_math(op, op1, op2):\n",
    "    if op == \"*\":\n",
    "        return op1 * op2\n",
    "    elif op == \"/\":\n",
    "        try:\n",
    "            result = op1 / op2\n",
    "        except ZeroDivisionError:\n",
    "            print(f\"Division by 0 will give an infinite number!\")\n",
    "            result = op1 * math.inf\n",
    "        finally:\n",
    "            return result\n",
    "    elif op == \"+\":\n",
    "        return op1 + op2\n",
    "    elif op == \"-\":\n",
    "        return op1 - op2\n",
    "    elif op == \"^\":\n",
    "        return op1 ** op2\n",
    "    else:\n",
    "        print(f\"Not a valid operation ({op})! Returning NaN.\")\n",
    "        return math.nan"
   ],
   "outputs": [],
   "metadata": {}
  },
  {
   "cell_type": "markdown",
   "source": [
    "### 3. Implement a direct infix evaluator that combines the functionality of infix-to-postfix conversion and the postfix evaluation algorithm. Your evaluator should process infix tokens from left to right and use two stacks, one for operators and one for operands, to perform the evaluation.\n",
    "\n",
    "Both the modules already defined can be chained to produce a direct infix evaluator, but since we are operating with numbers, we have to modify it so that only numbers are accepted. As bonus point, I will add, as asked during the chapter, the ** (power) operator."
   ],
   "metadata": {}
  },
  {
   "cell_type": "code",
   "execution_count": 9,
   "source": [
    "def direct_infix_evaluator(infix_expr):\n",
    "    if infix_expr.count(\"(\") != infix_expr.count(\")\"):\n",
    "        print(f\"Error! Closed parentheses (n = {infix_expr.count('(')}) don't match open parentheses (n = {infix_expr.count(')')})!\")\n",
    "        return \n",
    "    \n",
    "    prec = {}\n",
    "    prec[\"*\"] = 4\n",
    "    prec[\"/\"] = 4\n",
    "    prec[\"+\"] = 3\n",
    "    prec[\"-\"] = 3\n",
    "    prec[\"^\"] = 2\n",
    "    prec[\"(\"] = 1\n",
    "    op_stack = Stack()\n",
    "    operand_stack = Stack()\n",
    "    postfix_list = []\n",
    "    token_list = infix_expr.replace(\"**\", \"^\").split()\n",
    "\n",
    "    for token in token_list:\n",
    "        if (not token.isnumeric()) and (token not in \"()+-/*^\"):\n",
    "            print(f\"Error, token {token} not recognized!\")\n",
    "        elif token.isnumeric():\n",
    "            postfix_list.append(token)\n",
    "        elif token == \"(\":\n",
    "            op_stack.push(token)\n",
    "        elif token == \")\":\n",
    "            top_token = op_stack.pop()\n",
    "            while top_token != \"(\":\n",
    "                postfix_list.append(top_token)\n",
    "                top_token = op_stack.pop()\n",
    "        else:\n",
    "            while (not op_stack.is_empty()) and (prec[op_stack.peek()] >= prec[token]):\n",
    "                postfix_list.append(op_stack.pop())\n",
    "            op_stack.push(token)\n",
    "\n",
    "    while not op_stack.is_empty():\n",
    "        postfix_list.append(op_stack.pop())\n",
    "\n",
    "    postfix_expr = \" \".join(postfix_list)\n",
    "    token_list = postfix_expr.split()\n",
    "\n",
    "    for token in token_list:\n",
    "        if token in \"0123456789\":\n",
    "            operand_stack.push(int(token))\n",
    "        else:\n",
    "            operand2 = operand_stack.pop()\n",
    "            operand1 = operand_stack.pop()\n",
    "            result = do_math(token, operand1, operand2)\n",
    "            operand_stack.push(result)\n",
    "            \n",
    "    return operand_stack.pop()\n"
   ],
   "outputs": [],
   "metadata": {}
  },
  {
   "cell_type": "markdown",
   "source": [
    "Let's now run it with different expressions."
   ],
   "metadata": {}
  },
  {
   "cell_type": "code",
   "execution_count": 10,
   "source": [
    "print(direct_infix_evaluator(\"5 * 3 ** ( 4 - 2 )\"))\n",
    "print(direct_infix_evaluator(\"( ( 3 + 2 ) * ( 6 * ( 1 - 5 ** 3 ) ) )\"))"
   ],
   "outputs": [
    {
     "output_type": "stream",
     "name": "stdout",
     "text": [
      "225\n",
      "-1920\n"
     ]
    }
   ],
   "metadata": {}
  },
  {
   "cell_type": "markdown",
   "source": [
    "It seems it's working!"
   ],
   "metadata": {}
  },
  {
   "cell_type": "markdown",
   "source": [
    "### 4. Turn your direct infix evaluator from the previous problem into a calculator."
   ],
   "metadata": {}
  },
  {
   "cell_type": "code",
   "execution_count": 11,
   "source": [
    "def calc_simulation():\n",
    "    expr = input(\"Enter an expression (q to quit): \")\n",
    "    while expr != \"q\":\n",
    "        print(f\"Result is {direct_infix_evaluator(expr)}.\")\n",
    "        expr = input(\"Enter another expression (q to quit): \")\n",
    "    print(f\"See ya!\")\n",
    "        "
   ],
   "outputs": [],
   "metadata": {}
  },
  {
   "cell_type": "markdown",
   "source": [
    "Let's test it."
   ],
   "metadata": {}
  },
  {
   "cell_type": "code",
   "execution_count": 13,
   "source": [
    "calc_simulation()"
   ],
   "outputs": [
    {
     "output_type": "stream",
     "name": "stdout",
     "text": [
      "Result is 4.\n",
      "Result is 8.\n",
      "Result is 32.\n",
      "See ya!\n"
     ]
    }
   ],
   "metadata": {}
  },
  {
   "cell_type": "markdown",
   "source": [
    "### 5. Implement the `Queue` ADT, using a list such that the rear of the queue is at the end of the list."
   ],
   "metadata": {}
  },
  {
   "cell_type": "code",
   "execution_count": 14,
   "source": [
    "class QueueRear:\n",
    "    def __init__(self):\n",
    "        self._items = []\n",
    "\n",
    "    def enqueue(self, item):\n",
    "        self._items.append(item)\n",
    "\n",
    "    def dequeue(self):\n",
    "        self._items.pop(0)"
   ],
   "outputs": [],
   "metadata": {}
  },
  {
   "cell_type": "markdown",
   "source": [
    "### 6. Design and implement an experiment to do benchmark comparisons of the two queue implementations. What can you learn from such an experiment?\n",
    "\n",
    "It's easy to convince yourself that in this implementation, the enqueue operation becomes $O(1)$ while the dequeue operation becomes $O(n)$."
   ],
   "metadata": {}
  },
  {
   "cell_type": "code",
   "execution_count": 32,
   "source": [
    "import time\n",
    "\n",
    "from pythonds3.basic import Queue\n",
    "\n",
    "import numpy as np \n",
    "import matplotlib.pyplot as plt\n",
    "\n",
    "im1_times_enq = []\n",
    "im2_times_enq = []\n",
    "im1_times_deq = []\n",
    "im2_times_deq = []\n",
    "\n",
    "im1 = Queue()\n",
    "im2 = QueueRear()\n",
    "\n",
    "BASE = 2\n",
    "MAX_EXP = 16\n",
    "\n",
    "sizes = [BASE ** i for i in range(MAX_EXP + 1)]\n",
    "\n",
    "for size in sizes:\n",
    "    for n in np.arange(size):\n",
    "        im1.enqueue(n)\n",
    "        im2.enqueue(n)\n",
    "\n",
    "    es1 = time.time()\n",
    "    im1.enqueue(n + 1)\n",
    "    ee1 = time.time()\n",
    "    im1_times_enq.append(ee1 - es1)\n",
    "\n",
    "    es2 = time.time()\n",
    "    im2.enqueue(n + 1)\n",
    "    ee2 = time.time()\n",
    "    im2_times_enq.append(ee2 - es2)\n",
    "    \n",
    "    ds1 = time.time()\n",
    "    i = im1.dequeue()\n",
    "    de1 = time.time()\n",
    "    im1_times_deq.append(de1 - ds1)\n",
    "\n",
    "    ds2 = time.time()\n",
    "    i = im2.dequeue()\n",
    "    de2 = time.time()\n",
    "    im2_times_deq.append(de2 - ds2)\n",
    "\n",
    "im1_times_enq = np.array(im1_times_enq)\n",
    "im2_times_enq = np.array(im2_times_enq)\n",
    "im1_times_deq = np.array(im1_times_deq)\n",
    "im2_times_deq = np.array(im2_times_deq)\n",
    "\n",
    "x = np.arange(MAX_EXP + 1)\n",
    "ys = [im1_times_enq, im2_times_enq, im1_times_deq, im2_times_deq]\n",
    "\n",
    "fig, axs = plt.subplots(2, 2, sharex=\"all\", sharey=\"all\")\n",
    "\n",
    "axs[0, 0].scatter(x, ys[0])\n",
    "axs[0, 1].scatter(x, ys[1])\n",
    "axs[1, 0].scatter(x, ys[2])\n",
    "axs[1, 1].scatter(x, ys[3])"
   ],
   "outputs": [
    {
     "output_type": "execute_result",
     "data": {
      "text/plain": [
       "<matplotlib.collections.PathCollection at 0x143f7d2e0>"
      ]
     },
     "metadata": {},
     "execution_count": 32
    },
    {
     "output_type": "display_data",
     "data": {
      "text/plain": [
       "<Figure size 432x288 with 4 Axes>"
      ],
      "image/png": "[encoded data removed]"
     },
     "metadata": {
      "needs_background": "light"
     }
    }
   ],
   "metadata": {}
  },
  {
   "cell_type": "markdown",
   "source": [
    "We see what we stated at the beginning: for `enqueue()` the first implementation is of linear complexity while `dequeue()` is constant. For the second implementation we have the opposite facts as we switched the implementation."
   ],
   "metadata": {}
  },
  {
   "cell_type": "markdown",
   "source": [],
   "metadata": {}
  }
 ],
 "metadata": {
  "orig_nbformat": 4,
  "language_info": {
   "name": "python",
   "version": "3.9.6",
   "mimetype": "text/x-python",
   "codemirror_mode": {
    "name": "ipython",
    "version": 3
   },
   "pygments_lexer": "ipython3",
   "nbconvert_exporter": "python",
   "file_extension": ".py"
  },
  "kernelspec": {
   "name": "python3",
   "display_name": "Python 3.9.6 64-bit ('base': conda)"
  },
  "interpreter": {
   "hash": "a473aa0524f7e71cff5bf41ad0f6e637ac4e671de457aeaaf8dd3e29779b2e94"
  }
 },
 "nbformat": 4,
 "nbformat_minor": 2
}