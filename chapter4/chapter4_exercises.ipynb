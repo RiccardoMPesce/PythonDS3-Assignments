{
 "cells": [
  {
   "cell_type": "markdown",
   "source": [
    "# Chapter 4 - Programming Exercises\n",
    "\n",
    "### [Link](https://runestone.academy/runestone/books/published/pythonds3/BasicDS/Exercises.html)"
   ],
   "metadata": {}
  },
  {
   "cell_type": "markdown",
   "source": [
    "### 1. Modify the infix-to-postfix algorithm so that it can handle errors.\n",
    "\n",
    "We have to see what are errors in the context of this algorithm. It turns out this list can present some common errors:\n",
    "* The number of open parentheses must equal the number of closed parentheses.\n",
    "* The token is something else than the ones accepted for the function (`\"ABCDEFGHIJKLMNOPQRSTUVWXYZ0123456789()+-/*\"`)."
   ],
   "metadata": {}
  },
  {
   "cell_type": "code",
   "execution_count": 12,
   "source": [
    "from pythonds3.basic import Stack\n",
    "\n",
    "def infix_to_postfix(infix_expr):\n",
    "    if infix_expr.count(\"(\") != infix_expr.count(\")\"):\n",
    "        print(f\"Error! Closed parentheses (n = {infix_expr.count('(')}) don't match open parentheses (n = {infix_expr.count(')')})!\")\n",
    "        return \n",
    "    \n",
    "    prec = {}\n",
    "    prec[\"*\"] = 3\n",
    "    prec[\"/\"] = 3\n",
    "    prec[\"+\"] = 2\n",
    "    prec[\"-\"] = 2\n",
    "    prec[\"(\"] = 1\n",
    "    op_stack = Stack()\n",
    "    postfix_list = []\n",
    "    token_list = infix_expr.split()\n",
    "\n",
    "    for token in token_list:\n",
    "        if token not in \"ABCDEFGHIJKLMNOPQRSTUVWXYZ0123456789()+-/*\":\n",
    "            print(f\"Error, token {token} not recognized!\")\n",
    "        elif token in \"ABCDEFGHIJKLMNOPQRSTUVWXYZ\" or token in \"0123456789\":\n",
    "            postfix_list.append(token)\n",
    "        elif token == \"(\":\n",
    "            op_stack.push(token)\n",
    "        elif token == \")\":\n",
    "            top_token = op_stack.pop()\n",
    "            while top_token != \"(\":\n",
    "                postfix_list.append(top_token)\n",
    "                top_token = op_stack.pop()\n",
    "        else:\n",
    "            while (not op_stack.is_empty()) and (prec[op_stack.peek()] >= prec[token]):\n",
    "                postfix_list.append(op_stack.pop())\n",
    "            op_stack.push(token)\n",
    "\n",
    "    while not op_stack.is_empty():\n",
    "        postfix_list.append(op_stack.pop())\n",
    "\n",
    "    return \" \".join(postfix_list)"
   ],
   "outputs": [],
   "metadata": {}
  },
  {
   "cell_type": "markdown",
   "source": [
    "### 2. Modify the postfix evaluation algorithm so that it can handle errors.\n",
    "\n",
    "I can see that we have to add an exception when we are diving by zero. I decided to still return infinity."
   ],
   "metadata": {}
  },
  {
   "cell_type": "code",
   "execution_count": 13,
   "source": [
    "import math\n",
    "\n",
    "def postfix_eval(postfix_expr):\n",
    "    operand_stack = Stack()\n",
    "    token_list = postfix_expr.split()\n",
    "\n",
    "    for token in token_list:\n",
    "        if token in \"0123456789\":\n",
    "            operand_stack.push(int(token))\n",
    "        else:\n",
    "            operand2 = operand_stack.pop()\n",
    "            operand1 = operand_stack.pop()\n",
    "            result = do_math(token, operand1, operand2)\n",
    "            operand_stack.push(result)\n",
    "    return operand_stack.pop()\n",
    "\n",
    "\n",
    "def do_math(op, op1, op2):\n",
    "    if op == \"*\":\n",
    "        return op1 * op2\n",
    "    elif op == \"/\":\n",
    "        try:\n",
    "            result = op1 / op2\n",
    "        except ZeroDivisionError:\n",
    "            print(f\"Division by 0 will give an infinite number!\")\n",
    "            result = op1 * math.inf\n",
    "        finally:\n",
    "            return result\n",
    "    elif op == \"+\":\n",
    "        return op1 + op2\n",
    "    elif op == \"-\":\n",
    "        return op1 - op2\n",
    "    elif op == \"^\":\n",
    "        return op1 ** op2\n",
    "    else:\n",
    "        print(f\"Not a valid operation ({op})! Returning NaN.\")\n",
    "        return math.nan"
   ],
   "outputs": [],
   "metadata": {}
  },
  {
   "cell_type": "markdown",
   "source": [
    "### 3. Implement a direct infix evaluator that combines the functionality of infix-to-postfix conversion and the postfix evaluation algorithm. Your evaluator should process infix tokens from left to right and use two stacks, one for operators and one for operands, to perform the evaluation.\n",
    "\n",
    "Both the modules already defined can be chained to produce a direct infix evaluator, but since we are operating with numbers, we have to modify it so that only numbers are accepted. As bonus point, I will add, as asked during the chapter, the ** (power) operator."
   ],
   "metadata": {}
  },
  {
   "cell_type": "code",
   "execution_count": 14,
   "source": [
    "def direct_infix_evaluator(infix_expr):\n",
    "    if infix_expr.count(\"(\") != infix_expr.count(\")\"):\n",
    "        print(f\"Error! Closed parentheses (n = {infix_expr.count('(')}) don't match open parentheses (n = {infix_expr.count(')')})!\")\n",
    "        return \n",
    "    \n",
    "    prec = {}\n",
    "    prec[\"*\"] = 4\n",
    "    prec[\"/\"] = 4\n",
    "    prec[\"+\"] = 3\n",
    "    prec[\"-\"] = 3\n",
    "    prec[\"^\"] = 2\n",
    "    prec[\"(\"] = 1\n",
    "    op_stack = Stack()\n",
    "    operand_stack = Stack()\n",
    "    postfix_list = []\n",
    "    token_list = infix_expr.replace(\"**\", \"^\").split()\n",
    "\n",
    "    for token in token_list:\n",
    "        if (not token.isnumeric()) and (token not in \"()+-/*^\"):\n",
    "            print(f\"Error, token {token} not recognized!\")\n",
    "        elif token.isnumeric():\n",
    "            postfix_list.append(token)\n",
    "        elif token == \"(\":\n",
    "            op_stack.push(token)\n",
    "        elif token == \")\":\n",
    "            top_token = op_stack.pop()\n",
    "            while top_token != \"(\":\n",
    "                postfix_list.append(top_token)\n",
    "                top_token = op_stack.pop()\n",
    "        else:\n",
    "            while (not op_stack.is_empty()) and (prec[op_stack.peek()] >= prec[token]):\n",
    "                postfix_list.append(op_stack.pop())\n",
    "            op_stack.push(token)\n",
    "\n",
    "    while not op_stack.is_empty():\n",
    "        postfix_list.append(op_stack.pop())\n",
    "\n",
    "    postfix_expr = \" \".join(postfix_list)\n",
    "    token_list = postfix_expr.split()\n",
    "\n",
    "    for token in token_list:\n",
    "        if token in \"0123456789\":\n",
    "            operand_stack.push(int(token))\n",
    "        else:\n",
    "            operand2 = operand_stack.pop()\n",
    "            operand1 = operand_stack.pop()\n",
    "            result = do_math(token, operand1, operand2)\n",
    "            operand_stack.push(result)\n",
    "            \n",
    "    return operand_stack.pop()\n"
   ],
   "outputs": [],
   "metadata": {}
  },
  {
   "cell_type": "markdown",
   "source": [
    "Let's now run it with different expressions."
   ],
   "metadata": {}
  },
  {
   "cell_type": "code",
   "execution_count": 15,
   "source": [
    "print(direct_infix_evaluator(\"5 * 3 ** ( 4 - 2 )\"))\n",
    "print(direct_infix_evaluator(\"( ( 3 + 2 ) * ( 6 * ( 1 - 5 ** 3 ) ) )\"))"
   ],
   "outputs": [
    {
     "output_type": "stream",
     "name": "stdout",
     "text": [
      "225\n",
      "-1920\n"
     ]
    }
   ],
   "metadata": {}
  },
  {
   "cell_type": "markdown",
   "source": [
    "It seems it's working!"
   ],
   "metadata": {}
  },
  {
   "cell_type": "markdown",
   "source": [
    "### 4. Turn your direct infix evaluator from the previous problem into a calculator."
   ],
   "metadata": {}
  },
  {
   "cell_type": "code",
   "execution_count": 16,
   "source": [
    "def calc_simulation():\n",
    "    expr = input(\"Enter an expression (q to quit): \")\n",
    "    while expr != \"q\":\n",
    "        print(f\"Result is {direct_infix_evaluator(expr)}.\")\n",
    "        expr = input(\"Enter another expression (q to quit): \")\n",
    "    print(f\"See ya!\")\n",
    "        "
   ],
   "outputs": [],
   "metadata": {}
  },
  {
   "cell_type": "markdown",
   "source": [
    "### 5. Implement the `Queue` ADT, using a list such that the rear of the queue is at the end of the list."
   ],
   "metadata": {}
  },
  {
   "cell_type": "code",
   "execution_count": 17,
   "source": [
    "class QueueRear:\n",
    "    def __init__(self):\n",
    "        self._items = []\n",
    "\n",
    "    def enqueue(self, item):\n",
    "        self._items.append(item)\n",
    "\n",
    "    def dequeue(self):\n",
    "        self._items.pop(0)"
   ],
   "outputs": [],
   "metadata": {}
  },
  {
   "cell_type": "markdown",
   "source": [
    "### 6. Design and implement an experiment to do benchmark comparisons of the two queue implementations. What can you learn from such an experiment?\n",
    "\n",
    "It's easy to convince yourself that in this implementation, the enqueue operation becomes $O(1)$ while the dequeue operation becomes $O(n)$."
   ],
   "metadata": {}
  },
  {
   "cell_type": "code",
   "execution_count": 18,
   "source": [
    "import time\n",
    "\n",
    "from pythonds3.basic import Queue\n",
    "\n",
    "import numpy as np \n",
    "import matplotlib.pyplot as plt\n",
    "\n",
    "im1_times_enq = []\n",
    "im2_times_enq = []\n",
    "im1_times_deq = []\n",
    "im2_times_deq = []\n",
    "\n",
    "im1 = Queue()\n",
    "im2 = QueueRear()\n",
    "\n",
    "BASE = 2\n",
    "MAX_EXP = 16\n",
    "\n",
    "sizes = [BASE ** i for i in range(MAX_EXP + 1)]\n",
    "\n",
    "for size in sizes:\n",
    "    for n in np.arange(size):\n",
    "        im1.enqueue(n)\n",
    "        im2.enqueue(n)\n",
    "\n",
    "    es1 = time.time()\n",
    "    im1.enqueue(n + 1)\n",
    "    ee1 = time.time()\n",
    "    im1_times_enq.append(ee1 - es1)\n",
    "\n",
    "    es2 = time.time()\n",
    "    im2.enqueue(n + 1)\n",
    "    ee2 = time.time()\n",
    "    im2_times_enq.append(ee2 - es2)\n",
    "    \n",
    "    ds1 = time.time()\n",
    "    i = im1.dequeue()\n",
    "    de1 = time.time()\n",
    "    im1_times_deq.append(de1 - ds1)\n",
    "\n",
    "    ds2 = time.time()\n",
    "    i = im2.dequeue()\n",
    "    de2 = time.time()\n",
    "    im2_times_deq.append(de2 - ds2)\n",
    "\n",
    "im1_times_enq = np.array(im1_times_enq)\n",
    "im2_times_enq = np.array(im2_times_enq)\n",
    "im1_times_deq = np.array(im1_times_deq)\n",
    "im2_times_deq = np.array(im2_times_deq)\n",
    "\n",
    "x = np.arange(MAX_EXP + 1)\n",
    "ys = [im1_times_enq, im2_times_enq, im1_times_deq, im2_times_deq]\n",
    "\n",
    "fig, axs = plt.subplots(2, 2, sharex=\"all\", sharey=\"all\")\n",
    "\n",
    "axs[0, 0].scatter(x, ys[0])\n",
    "axs[0, 1].scatter(x, ys[1])\n",
    "axs[1, 0].scatter(x, ys[2])\n",
    "axs[1, 1].scatter(x, ys[3])"
   ],
   "outputs": [
    {
     "output_type": "execute_result",
     "data": {
      "text/plain": [
       "<matplotlib.collections.PathCollection at 0x1184bdeb0>"
      ]
     },
     "metadata": {},
     "execution_count": 18
    },
    {
     "output_type": "display_data",
     "data": {
      "text/plain": [
       "<Figure size 432x288 with 4 Axes>"
      ],
      "image/svg+xml": "<?xml version=\"1.0\" encoding=\"utf-8\" standalone=\"no\"?>\n<!DOCTYPE svg PUBLIC \"-//W3C//DTD SVG 1.1//EN\"\n  \"http://www.w3.org/Graphics/SVG/1.1/DTD/svg11.dtd\">\n<svg height=\"249.742231pt\" version=\"1.1\" viewBox=\"0 0 397.553125 249.742231\" width=\"397.553125pt\" xmlns=\"http://www.w3.org/2000/svg\" xmlns:xlink=\"http://www.w3.org/1999/xlink\">\n <metadata>\n  <rdf:RDF xmlns:cc=\"http://creativecommons.org/ns#\" xmlns:dc=\"http://purl.org/dc/elements/1.1/\" xmlns:rdf=\"http://www.w3.org/1999/02/22-rdf-syntax-ns#\">\n   <cc:Work>\n    <dc:type rdf:resource=\"http://purl.org/dc/dcmitype/StillImage\"/>\n    <dc:date>2021-08-11T13:31:41.949233</dc:date>\n    <dc:format>image/svg+xml</dc:format>\n    <dc:creator>\n     <cc:Agent>\n      <dc:title>Matplotlib v3.4.2, https://matplotlib.org/</dc:title>\n     </cc:Agent>\n    </dc:creator>\n   </cc:Work>\n  </rdf:RDF>\n </metadata>\n <defs>\n  <style type=\"text/css\">*{stroke-linecap:butt;stroke-linejoin:round;}</style>\n </defs>\n <g id=\"figure_1\">\n  <g id=\"patch_1\">\n   <path d=\"M 0 249.742231 \nL 397.553125 249.742231 \nL 397.553125 0 \nL 0 0 \nz\n\" style=\"fill:none;\"/>\n  </g>\n  <g id=\"axes_1\">\n   <g id=\"patch_2\">\n    <path d=\"M 55.553125 107.260469 \nL 207.734943 107.260469 \nL 207.734943 8.424106 \nL 55.553125 8.424106 \nz\n\" style=\"fill:#ffffff;\"/>\n   </g>\n   <g id=\"PathCollection_1\">\n    <defs>\n     <path d=\"M 0 3 \nC 0.795609 3 1.55874 2.683901 2.12132 2.12132 \nC 2.683901 1.55874 3 0.795609 3 0 \nC 3 -0.795609 2.683901 -1.55874 2.12132 -2.12132 \nC 1.55874 -2.683901 0.795609 -3 0 -3 \nC -0.795609 -3 -1.55874 -2.683901 -2.12132 -2.12132 \nC -2.683901 -1.55874 -3 -0.795609 -3 0 \nC -3 0.795609 -2.683901 1.55874 -2.12132 2.12132 \nC -1.55874 2.683901 -0.795609 3 0 3 \nz\n\" id=\"m8569b51e3f\" style=\"stroke:#1f77b4;\"/>\n    </defs>\n    <g clip-path=\"url(#pfa1ac08d8d)\">\n     <use style=\"fill:#1f77b4;stroke:#1f77b4;\" x=\"62.47048\" xlink:href=\"#m8569b51e3f\" y=\"97.808586\"/>\n     <use style=\"fill:#1f77b4;stroke:#1f77b4;\" x=\"71.117175\" xlink:href=\"#m8569b51e3f\" y=\"86.723043\"/>\n     <use style=\"fill:#1f77b4;stroke:#1f77b4;\" x=\"79.763869\" xlink:href=\"#m8569b51e3f\" y=\"102.038595\"/>\n     <use style=\"fill:#1f77b4;stroke:#1f77b4;\" x=\"88.410563\" xlink:href=\"#m8569b51e3f\" y=\"102.767907\"/>\n     <use style=\"fill:#1f77b4;stroke:#1f77b4;\" x=\"97.057257\" xlink:href=\"#m8569b51e3f\" y=\"101.455146\"/>\n     <use style=\"fill:#1f77b4;stroke:#1f77b4;\" x=\"105.703951\" xlink:href=\"#m8569b51e3f\" y=\"101.455146\"/>\n     <use style=\"fill:#1f77b4;stroke:#1f77b4;\" x=\"114.350646\" xlink:href=\"#m8569b51e3f\" y=\"100.871696\"/>\n     <use style=\"fill:#1f77b4;stroke:#1f77b4;\" x=\"122.99734\" xlink:href=\"#m8569b51e3f\" y=\"102.184458\"/>\n     <use style=\"fill:#1f77b4;stroke:#1f77b4;\" x=\"131.644034\" xlink:href=\"#m8569b51e3f\" y=\"102.184458\"/>\n     <use style=\"fill:#1f77b4;stroke:#1f77b4;\" x=\"140.290728\" xlink:href=\"#m8569b51e3f\" y=\"102.184458\"/>\n     <use style=\"fill:#1f77b4;stroke:#1f77b4;\" x=\"148.937423\" xlink:href=\"#m8569b51e3f\" y=\"100.871696\"/>\n     <use style=\"fill:#1f77b4;stroke:#1f77b4;\" x=\"157.584117\" xlink:href=\"#m8569b51e3f\" y=\"99.121347\"/>\n     <use style=\"fill:#1f77b4;stroke:#1f77b4;\" x=\"166.230811\" xlink:href=\"#m8569b51e3f\" y=\"97.954448\"/>\n     <use style=\"fill:#1f77b4;stroke:#1f77b4;\" x=\"174.877505\" xlink:href=\"#m8569b51e3f\" y=\"94.891338\"/>\n     <use style=\"fill:#1f77b4;stroke:#1f77b4;\" x=\"183.524199\" xlink:href=\"#m8569b51e3f\" y=\"87.598217\"/>\n     <use style=\"fill:#1f77b4;stroke:#1f77b4;\" x=\"192.170894\" xlink:href=\"#m8569b51e3f\" y=\"73.595427\"/>\n     <use style=\"fill:#1f77b4;stroke:#1f77b4;\" x=\"200.817588\" xlink:href=\"#m8569b51e3f\" y=\"50.11158\"/>\n    </g>\n   </g>\n   <g id=\"matplotlib.axis_1\">\n    <g id=\"xtick_1\">\n     <g id=\"line2d_1\">\n      <defs>\n       <path d=\"M 0 0 \nL 0 3.5 \n\" id=\"maccdc52eb6\" style=\"stroke:#000000;stroke-width:0.8;\"/>\n      </defs>\n      <g>\n       <use style=\"stroke:#000000;stroke-width:0.8;\" x=\"62.47048\" xlink:href=\"#maccdc52eb6\" y=\"107.260469\"/>\n      </g>\n     </g>\n    </g>\n    <g id=\"xtick_2\">\n     <g id=\"line2d_2\">\n      <g>\n       <use style=\"stroke:#000000;stroke-width:0.8;\" x=\"105.703951\" xlink:href=\"#maccdc52eb6\" y=\"107.260469\"/>\n      </g>\n     </g>\n    </g>\n    <g id=\"xtick_3\">\n     <g id=\"line2d_3\">\n      <g>\n       <use style=\"stroke:#000000;stroke-width:0.8;\" x=\"148.937423\" xlink:href=\"#maccdc52eb6\" y=\"107.260469\"/>\n      </g>\n     </g>\n    </g>\n    <g id=\"xtick_4\">\n     <g id=\"line2d_4\">\n      <g>\n       <use style=\"stroke:#000000;stroke-width:0.8;\" x=\"192.170894\" xlink:href=\"#maccdc52eb6\" y=\"107.260469\"/>\n      </g>\n     </g>\n    </g>\n   </g>\n   <g id=\"matplotlib.axis_2\">\n    <g id=\"ytick_1\">\n     <g id=\"line2d_5\">\n      <defs>\n       <path d=\"M 0 0 \nL -3.5 0 \n\" id=\"mfd29a46191\" style=\"stroke:#000000;stroke-width:0.8;\"/>\n      </defs>\n      <g>\n       <use style=\"stroke:#000000;stroke-width:0.8;\" x=\"55.553125\" xlink:href=\"#mfd29a46191\" y=\"102.767907\"/>\n      </g>\n     </g>\n     <g id=\"text_1\">\n      <!-- 0.00000 -->\n      <g transform=\"translate(7.2 106.567126)scale(0.1 -0.1)\">\n       <defs>\n        <path d=\"M 2034 4250 \nQ 1547 4250 1301 3770 \nQ 1056 3291 1056 2328 \nQ 1056 1369 1301 889 \nQ 1547 409 2034 409 \nQ 2525 409 2770 889 \nQ 3016 1369 3016 2328 \nQ 3016 3291 2770 3770 \nQ 2525 4250 2034 4250 \nz\nM 2034 4750 \nQ 2819 4750 3233 4129 \nQ 3647 3509 3647 2328 \nQ 3647 1150 3233 529 \nQ 2819 -91 2034 -91 \nQ 1250 -91 836 529 \nQ 422 1150 422 2328 \nQ 422 3509 836 4129 \nQ 1250 4750 2034 4750 \nz\n\" id=\"DejaVuSans-30\" transform=\"scale(0.015625)\"/>\n        <path d=\"M 684 794 \nL 1344 794 \nL 1344 0 \nL 684 0 \nL 684 794 \nz\n\" id=\"DejaVuSans-2e\" transform=\"scale(0.015625)\"/>\n       </defs>\n       <use xlink:href=\"#DejaVuSans-30\"/>\n       <use x=\"63.623047\" xlink:href=\"#DejaVuSans-2e\"/>\n       <use x=\"95.410156\" xlink:href=\"#DejaVuSans-30\"/>\n       <use x=\"159.033203\" xlink:href=\"#DejaVuSans-30\"/>\n       <use x=\"222.65625\" xlink:href=\"#DejaVuSans-30\"/>\n       <use x=\"286.279297\" xlink:href=\"#DejaVuSans-30\"/>\n       <use x=\"349.902344\" xlink:href=\"#DejaVuSans-30\"/>\n      </g>\n     </g>\n    </g>\n    <g id=\"ytick_2\">\n     <g id=\"line2d_6\">\n      <g>\n       <use style=\"stroke:#000000;stroke-width:0.8;\" x=\"55.553125\" xlink:href=\"#mfd29a46191\" y=\"72.178344\"/>\n      </g>\n     </g>\n     <g id=\"text_2\">\n      <!-- 0.00005 -->\n      <g transform=\"translate(7.2 75.977563)scale(0.1 -0.1)\">\n       <defs>\n        <path d=\"M 691 4666 \nL 3169 4666 \nL 3169 4134 \nL 1269 4134 \nL 1269 2991 \nQ 1406 3038 1543 3061 \nQ 1681 3084 1819 3084 \nQ 2600 3084 3056 2656 \nQ 3513 2228 3513 1497 \nQ 3513 744 3044 326 \nQ 2575 -91 1722 -91 \nQ 1428 -91 1123 -41 \nQ 819 9 494 109 \nL 494 744 \nQ 775 591 1075 516 \nQ 1375 441 1709 441 \nQ 2250 441 2565 725 \nQ 2881 1009 2881 1497 \nQ 2881 1984 2565 2268 \nQ 2250 2553 1709 2553 \nQ 1456 2553 1204 2497 \nQ 953 2441 691 2322 \nL 691 4666 \nz\n\" id=\"DejaVuSans-35\" transform=\"scale(0.015625)\"/>\n       </defs>\n       <use xlink:href=\"#DejaVuSans-30\"/>\n       <use x=\"63.623047\" xlink:href=\"#DejaVuSans-2e\"/>\n       <use x=\"95.410156\" xlink:href=\"#DejaVuSans-30\"/>\n       <use x=\"159.033203\" xlink:href=\"#DejaVuSans-30\"/>\n       <use x=\"222.65625\" xlink:href=\"#DejaVuSans-30\"/>\n       <use x=\"286.279297\" xlink:href=\"#DejaVuSans-30\"/>\n       <use x=\"349.902344\" xlink:href=\"#DejaVuSans-35\"/>\n      </g>\n     </g>\n    </g>\n    <g id=\"ytick_3\">\n     <g id=\"line2d_7\">\n      <g>\n       <use style=\"stroke:#000000;stroke-width:0.8;\" x=\"55.553125\" xlink:href=\"#mfd29a46191\" y=\"41.588782\"/>\n      </g>\n     </g>\n     <g id=\"text_3\">\n      <!-- 0.00010 -->\n      <g transform=\"translate(7.2 45.388)scale(0.1 -0.1)\">\n       <defs>\n        <path d=\"M 794 531 \nL 1825 531 \nL 1825 4091 \nL 703 3866 \nL 703 4441 \nL 1819 4666 \nL 2450 4666 \nL 2450 531 \nL 3481 531 \nL 3481 0 \nL 794 0 \nL 794 531 \nz\n\" id=\"DejaVuSans-31\" transform=\"scale(0.015625)\"/>\n       </defs>\n       <use xlink:href=\"#DejaVuSans-30\"/>\n       <use x=\"63.623047\" xlink:href=\"#DejaVuSans-2e\"/>\n       <use x=\"95.410156\" xlink:href=\"#DejaVuSans-30\"/>\n       <use x=\"159.033203\" xlink:href=\"#DejaVuSans-30\"/>\n       <use x=\"222.65625\" xlink:href=\"#DejaVuSans-30\"/>\n       <use x=\"286.279297\" xlink:href=\"#DejaVuSans-31\"/>\n       <use x=\"349.902344\" xlink:href=\"#DejaVuSans-30\"/>\n      </g>\n     </g>\n    </g>\n    <g id=\"ytick_4\">\n     <g id=\"line2d_8\">\n      <g>\n       <use style=\"stroke:#000000;stroke-width:0.8;\" x=\"55.553125\" xlink:href=\"#mfd29a46191\" y=\"10.999219\"/>\n      </g>\n     </g>\n     <g id=\"text_4\">\n      <!-- 0.00015 -->\n      <g transform=\"translate(7.2 14.798437)scale(0.1 -0.1)\">\n       <use xlink:href=\"#DejaVuSans-30\"/>\n       <use x=\"63.623047\" xlink:href=\"#DejaVuSans-2e\"/>\n       <use x=\"95.410156\" xlink:href=\"#DejaVuSans-30\"/>\n       <use x=\"159.033203\" xlink:href=\"#DejaVuSans-30\"/>\n       <use x=\"222.65625\" xlink:href=\"#DejaVuSans-30\"/>\n       <use x=\"286.279297\" xlink:href=\"#DejaVuSans-31\"/>\n       <use x=\"349.902344\" xlink:href=\"#DejaVuSans-35\"/>\n      </g>\n     </g>\n    </g>\n   </g>\n   <g id=\"patch_3\">\n    <path d=\"M 55.553125 107.260469 \nL 55.553125 8.424106 \n\" style=\"fill:none;stroke:#000000;stroke-linecap:square;stroke-linejoin:miter;stroke-width:0.8;\"/>\n   </g>\n   <g id=\"patch_4\">\n    <path d=\"M 207.734943 107.260469 \nL 207.734943 8.424106 \n\" style=\"fill:none;stroke:#000000;stroke-linecap:square;stroke-linejoin:miter;stroke-width:0.8;\"/>\n   </g>\n   <g id=\"patch_5\">\n    <path d=\"M 55.553125 107.260469 \nL 207.734943 107.260469 \n\" style=\"fill:none;stroke:#000000;stroke-linecap:square;stroke-linejoin:miter;stroke-width:0.8;\"/>\n   </g>\n   <g id=\"patch_6\">\n    <path d=\"M 55.553125 8.424106 \nL 207.734943 8.424106 \n\" style=\"fill:none;stroke:#000000;stroke-linecap:square;stroke-linejoin:miter;stroke-width:0.8;\"/>\n   </g>\n  </g>\n  <g id=\"axes_2\">\n   <g id=\"patch_7\">\n    <path d=\"M 238.171307 107.260469 \nL 390.353125 107.260469 \nL 390.353125 8.424106 \nL 238.171307 8.424106 \nz\n\" style=\"fill:#ffffff;\"/>\n   </g>\n   <g id=\"PathCollection_2\">\n    <g clip-path=\"url(#p44bfcf39a1)\">\n     <use style=\"fill:#1f77b4;stroke:#1f77b4;\" x=\"245.088662\" xlink:href=\"#m8569b51e3f\" y=\"102.184458\"/>\n     <use style=\"fill:#1f77b4;stroke:#1f77b4;\" x=\"253.735356\" xlink:href=\"#m8569b51e3f\" y=\"102.184458\"/>\n     <use style=\"fill:#1f77b4;stroke:#1f77b4;\" x=\"262.382051\" xlink:href=\"#m8569b51e3f\" y=\"102.184458\"/>\n     <use style=\"fill:#1f77b4;stroke:#1f77b4;\" x=\"271.028745\" xlink:href=\"#m8569b51e3f\" y=\"94.162025\"/>\n     <use style=\"fill:#1f77b4;stroke:#1f77b4;\" x=\"279.675439\" xlink:href=\"#m8569b51e3f\" y=\"101.455146\"/>\n     <use style=\"fill:#1f77b4;stroke:#1f77b4;\" x=\"288.322133\" xlink:href=\"#m8569b51e3f\" y=\"102.184458\"/>\n     <use style=\"fill:#1f77b4;stroke:#1f77b4;\" x=\"296.968827\" xlink:href=\"#m8569b51e3f\" y=\"101.601008\"/>\n     <use style=\"fill:#1f77b4;stroke:#1f77b4;\" x=\"305.615522\" xlink:href=\"#m8569b51e3f\" y=\"102.038595\"/>\n     <use style=\"fill:#1f77b4;stroke:#1f77b4;\" x=\"314.262216\" xlink:href=\"#m8569b51e3f\" y=\"102.184458\"/>\n     <use style=\"fill:#1f77b4;stroke:#1f77b4;\" x=\"322.90891\" xlink:href=\"#m8569b51e3f\" y=\"102.184458\"/>\n     <use style=\"fill:#1f77b4;stroke:#1f77b4;\" x=\"331.555604\" xlink:href=\"#m8569b51e3f\" y=\"102.038595\"/>\n     <use style=\"fill:#1f77b4;stroke:#1f77b4;\" x=\"340.202299\" xlink:href=\"#m8569b51e3f\" y=\"102.184458\"/>\n     <use style=\"fill:#1f77b4;stroke:#1f77b4;\" x=\"348.848993\" xlink:href=\"#m8569b51e3f\" y=\"102.184458\"/>\n     <use style=\"fill:#1f77b4;stroke:#1f77b4;\" x=\"357.495687\" xlink:href=\"#m8569b51e3f\" y=\"102.184458\"/>\n     <use style=\"fill:#1f77b4;stroke:#1f77b4;\" x=\"366.142381\" xlink:href=\"#m8569b51e3f\" y=\"101.601008\"/>\n     <use style=\"fill:#1f77b4;stroke:#1f77b4;\" x=\"374.789075\" xlink:href=\"#m8569b51e3f\" y=\"101.455146\"/>\n     <use style=\"fill:#1f77b4;stroke:#1f77b4;\" x=\"383.43577\" xlink:href=\"#m8569b51e3f\" y=\"101.455146\"/>\n    </g>\n   </g>\n   <g id=\"matplotlib.axis_3\">\n    <g id=\"xtick_5\">\n     <g id=\"line2d_9\">\n      <g>\n       <use style=\"stroke:#000000;stroke-width:0.8;\" x=\"245.088662\" xlink:href=\"#maccdc52eb6\" y=\"107.260469\"/>\n      </g>\n     </g>\n    </g>\n    <g id=\"xtick_6\">\n     <g id=\"line2d_10\">\n      <g>\n       <use style=\"stroke:#000000;stroke-width:0.8;\" x=\"288.322133\" xlink:href=\"#maccdc52eb6\" y=\"107.260469\"/>\n      </g>\n     </g>\n    </g>\n    <g id=\"xtick_7\">\n     <g id=\"line2d_11\">\n      <g>\n       <use style=\"stroke:#000000;stroke-width:0.8;\" x=\"331.555604\" xlink:href=\"#maccdc52eb6\" y=\"107.260469\"/>\n      </g>\n     </g>\n    </g>\n    <g id=\"xtick_8\">\n     <g id=\"line2d_12\">\n      <g>\n       <use style=\"stroke:#000000;stroke-width:0.8;\" x=\"374.789075\" xlink:href=\"#maccdc52eb6\" y=\"107.260469\"/>\n      </g>\n     </g>\n    </g>\n   </g>\n   <g id=\"matplotlib.axis_4\">\n    <g id=\"ytick_5\">\n     <g id=\"line2d_13\">\n      <g>\n       <use style=\"stroke:#000000;stroke-width:0.8;\" x=\"238.171307\" xlink:href=\"#mfd29a46191\" y=\"102.767907\"/>\n      </g>\n     </g>\n    </g>\n    <g id=\"ytick_6\">\n     <g id=\"line2d_14\">\n      <g>\n       <use style=\"stroke:#000000;stroke-width:0.8;\" x=\"238.171307\" xlink:href=\"#mfd29a46191\" y=\"72.178344\"/>\n      </g>\n     </g>\n    </g>\n    <g id=\"ytick_7\">\n     <g id=\"line2d_15\">\n      <g>\n       <use style=\"stroke:#000000;stroke-width:0.8;\" x=\"238.171307\" xlink:href=\"#mfd29a46191\" y=\"41.588782\"/>\n      </g>\n     </g>\n    </g>\n    <g id=\"ytick_8\">\n     <g id=\"line2d_16\">\n      <g>\n       <use style=\"stroke:#000000;stroke-width:0.8;\" x=\"238.171307\" xlink:href=\"#mfd29a46191\" y=\"10.999219\"/>\n      </g>\n     </g>\n    </g>\n   </g>\n   <g id=\"patch_8\">\n    <path d=\"M 238.171307 107.260469 \nL 238.171307 8.424106 \n\" style=\"fill:none;stroke:#000000;stroke-linecap:square;stroke-linejoin:miter;stroke-width:0.8;\"/>\n   </g>\n   <g id=\"patch_9\">\n    <path d=\"M 390.353125 107.260469 \nL 390.353125 8.424106 \n\" style=\"fill:none;stroke:#000000;stroke-linecap:square;stroke-linejoin:miter;stroke-width:0.8;\"/>\n   </g>\n   <g id=\"patch_10\">\n    <path d=\"M 238.171307 107.260469 \nL 390.353125 107.260469 \n\" style=\"fill:none;stroke:#000000;stroke-linecap:square;stroke-linejoin:miter;stroke-width:0.8;\"/>\n   </g>\n   <g id=\"patch_11\">\n    <path d=\"M 238.171307 8.424106 \nL 390.353125 8.424106 \n\" style=\"fill:none;stroke:#000000;stroke-linecap:square;stroke-linejoin:miter;stroke-width:0.8;\"/>\n   </g>\n  </g>\n  <g id=\"axes_3\">\n   <g id=\"patch_12\">\n    <path d=\"M 55.553125 225.864106 \nL 207.734943 225.864106 \nL 207.734943 127.027742 \nL 55.553125 127.027742 \nz\n\" style=\"fill:#ffffff;\"/>\n   </g>\n   <g id=\"PathCollection_3\">\n    <g clip-path=\"url(#pda146d39a3)\">\n     <use style=\"fill:#1f77b4;stroke:#1f77b4;\" x=\"62.47048\" xlink:href=\"#m8569b51e3f\" y=\"220.058782\"/>\n     <use style=\"fill:#1f77b4;stroke:#1f77b4;\" x=\"71.117175\" xlink:href=\"#m8569b51e3f\" y=\"220.642232\"/>\n     <use style=\"fill:#1f77b4;stroke:#1f77b4;\" x=\"79.763869\" xlink:href=\"#m8569b51e3f\" y=\"220.788094\"/>\n     <use style=\"fill:#1f77b4;stroke:#1f77b4;\" x=\"88.410563\" xlink:href=\"#m8569b51e3f\" y=\"220.204644\"/>\n     <use style=\"fill:#1f77b4;stroke:#1f77b4;\" x=\"97.057257\" xlink:href=\"#m8569b51e3f\" y=\"220.788094\"/>\n     <use style=\"fill:#1f77b4;stroke:#1f77b4;\" x=\"105.703951\" xlink:href=\"#m8569b51e3f\" y=\"220.642232\"/>\n     <use style=\"fill:#1f77b4;stroke:#1f77b4;\" x=\"114.350646\" xlink:href=\"#m8569b51e3f\" y=\"220.788094\"/>\n     <use style=\"fill:#1f77b4;stroke:#1f77b4;\" x=\"122.99734\" xlink:href=\"#m8569b51e3f\" y=\"221.371544\"/>\n     <use style=\"fill:#1f77b4;stroke:#1f77b4;\" x=\"131.644034\" xlink:href=\"#m8569b51e3f\" y=\"221.371544\"/>\n     <use style=\"fill:#1f77b4;stroke:#1f77b4;\" x=\"140.290728\" xlink:href=\"#m8569b51e3f\" y=\"220.642232\"/>\n     <use style=\"fill:#1f77b4;stroke:#1f77b4;\" x=\"148.937423\" xlink:href=\"#m8569b51e3f\" y=\"220.788094\"/>\n     <use style=\"fill:#1f77b4;stroke:#1f77b4;\" x=\"157.584117\" xlink:href=\"#m8569b51e3f\" y=\"220.788094\"/>\n     <use style=\"fill:#1f77b4;stroke:#1f77b4;\" x=\"166.230811\" xlink:href=\"#m8569b51e3f\" y=\"220.204644\"/>\n     <use style=\"fill:#1f77b4;stroke:#1f77b4;\" x=\"174.877505\" xlink:href=\"#m8569b51e3f\" y=\"220.788094\"/>\n     <use style=\"fill:#1f77b4;stroke:#1f77b4;\" x=\"183.524199\" xlink:href=\"#m8569b51e3f\" y=\"219.475332\"/>\n     <use style=\"fill:#1f77b4;stroke:#1f77b4;\" x=\"192.170894\" xlink:href=\"#m8569b51e3f\" y=\"220.204644\"/>\n     <use style=\"fill:#1f77b4;stroke:#1f77b4;\" x=\"200.817588\" xlink:href=\"#m8569b51e3f\" y=\"220.058782\"/>\n    </g>\n   </g>\n   <g id=\"matplotlib.axis_5\">\n    <g id=\"xtick_9\">\n     <g id=\"line2d_17\">\n      <g>\n       <use style=\"stroke:#000000;stroke-width:0.8;\" x=\"62.47048\" xlink:href=\"#maccdc52eb6\" y=\"225.864106\"/>\n      </g>\n     </g>\n     <g id=\"text_5\">\n      <!-- 0 -->\n      <g transform=\"translate(59.28923 240.462543)scale(0.1 -0.1)\">\n       <use xlink:href=\"#DejaVuSans-30\"/>\n      </g>\n     </g>\n    </g>\n    <g id=\"xtick_10\">\n     <g id=\"line2d_18\">\n      <g>\n       <use style=\"stroke:#000000;stroke-width:0.8;\" x=\"105.703951\" xlink:href=\"#maccdc52eb6\" y=\"225.864106\"/>\n      </g>\n     </g>\n     <g id=\"text_6\">\n      <!-- 5 -->\n      <g transform=\"translate(102.522701 240.462543)scale(0.1 -0.1)\">\n       <use xlink:href=\"#DejaVuSans-35\"/>\n      </g>\n     </g>\n    </g>\n    <g id=\"xtick_11\">\n     <g id=\"line2d_19\">\n      <g>\n       <use style=\"stroke:#000000;stroke-width:0.8;\" x=\"148.937423\" xlink:href=\"#maccdc52eb6\" y=\"225.864106\"/>\n      </g>\n     </g>\n     <g id=\"text_7\">\n      <!-- 10 -->\n      <g transform=\"translate(142.574923 240.462543)scale(0.1 -0.1)\">\n       <use xlink:href=\"#DejaVuSans-31\"/>\n       <use x=\"63.623047\" xlink:href=\"#DejaVuSans-30\"/>\n      </g>\n     </g>\n    </g>\n    <g id=\"xtick_12\">\n     <g id=\"line2d_20\">\n      <g>\n       <use style=\"stroke:#000000;stroke-width:0.8;\" x=\"192.170894\" xlink:href=\"#maccdc52eb6\" y=\"225.864106\"/>\n      </g>\n     </g>\n     <g id=\"text_8\">\n      <!-- 15 -->\n      <g transform=\"translate(185.808394 240.462543)scale(0.1 -0.1)\">\n       <use xlink:href=\"#DejaVuSans-31\"/>\n       <use x=\"63.623047\" xlink:href=\"#DejaVuSans-35\"/>\n      </g>\n     </g>\n    </g>\n   </g>\n   <g id=\"matplotlib.axis_6\">\n    <g id=\"ytick_9\">\n     <g id=\"line2d_21\">\n      <g>\n       <use style=\"stroke:#000000;stroke-width:0.8;\" x=\"55.553125\" xlink:href=\"#mfd29a46191\" y=\"221.371544\"/>\n      </g>\n     </g>\n     <g id=\"text_9\">\n      <!-- 0.00000 -->\n      <g transform=\"translate(7.2 225.170762)scale(0.1 -0.1)\">\n       <use xlink:href=\"#DejaVuSans-30\"/>\n       <use x=\"63.623047\" xlink:href=\"#DejaVuSans-2e\"/>\n       <use x=\"95.410156\" xlink:href=\"#DejaVuSans-30\"/>\n       <use x=\"159.033203\" xlink:href=\"#DejaVuSans-30\"/>\n       <use x=\"222.65625\" xlink:href=\"#DejaVuSans-30\"/>\n       <use x=\"286.279297\" xlink:href=\"#DejaVuSans-30\"/>\n       <use x=\"349.902344\" xlink:href=\"#DejaVuSans-30\"/>\n      </g>\n     </g>\n    </g>\n    <g id=\"ytick_10\">\n     <g id=\"line2d_22\">\n      <g>\n       <use style=\"stroke:#000000;stroke-width:0.8;\" x=\"55.553125\" xlink:href=\"#mfd29a46191\" y=\"190.781981\"/>\n      </g>\n     </g>\n     <g id=\"text_10\">\n      <!-- 0.00005 -->\n      <g transform=\"translate(7.2 194.5812)scale(0.1 -0.1)\">\n       <use xlink:href=\"#DejaVuSans-30\"/>\n       <use x=\"63.623047\" xlink:href=\"#DejaVuSans-2e\"/>\n       <use x=\"95.410156\" xlink:href=\"#DejaVuSans-30\"/>\n       <use x=\"159.033203\" xlink:href=\"#DejaVuSans-30\"/>\n       <use x=\"222.65625\" xlink:href=\"#DejaVuSans-30\"/>\n       <use x=\"286.279297\" xlink:href=\"#DejaVuSans-30\"/>\n       <use x=\"349.902344\" xlink:href=\"#DejaVuSans-35\"/>\n      </g>\n     </g>\n    </g>\n    <g id=\"ytick_11\">\n     <g id=\"line2d_23\">\n      <g>\n       <use style=\"stroke:#000000;stroke-width:0.8;\" x=\"55.553125\" xlink:href=\"#mfd29a46191\" y=\"160.192418\"/>\n      </g>\n     </g>\n     <g id=\"text_11\">\n      <!-- 0.00010 -->\n      <g transform=\"translate(7.2 163.991637)scale(0.1 -0.1)\">\n       <use xlink:href=\"#DejaVuSans-30\"/>\n       <use x=\"63.623047\" xlink:href=\"#DejaVuSans-2e\"/>\n       <use x=\"95.410156\" xlink:href=\"#DejaVuSans-30\"/>\n       <use x=\"159.033203\" xlink:href=\"#DejaVuSans-30\"/>\n       <use x=\"222.65625\" xlink:href=\"#DejaVuSans-30\"/>\n       <use x=\"286.279297\" xlink:href=\"#DejaVuSans-31\"/>\n       <use x=\"349.902344\" xlink:href=\"#DejaVuSans-30\"/>\n      </g>\n     </g>\n    </g>\n    <g id=\"ytick_12\">\n     <g id=\"line2d_24\">\n      <g>\n       <use style=\"stroke:#000000;stroke-width:0.8;\" x=\"55.553125\" xlink:href=\"#mfd29a46191\" y=\"129.602855\"/>\n      </g>\n     </g>\n     <g id=\"text_12\">\n      <!-- 0.00015 -->\n      <g transform=\"translate(7.2 133.402074)scale(0.1 -0.1)\">\n       <use xlink:href=\"#DejaVuSans-30\"/>\n       <use x=\"63.623047\" xlink:href=\"#DejaVuSans-2e\"/>\n       <use x=\"95.410156\" xlink:href=\"#DejaVuSans-30\"/>\n       <use x=\"159.033203\" xlink:href=\"#DejaVuSans-30\"/>\n       <use x=\"222.65625\" xlink:href=\"#DejaVuSans-30\"/>\n       <use x=\"286.279297\" xlink:href=\"#DejaVuSans-31\"/>\n       <use x=\"349.902344\" xlink:href=\"#DejaVuSans-35\"/>\n      </g>\n     </g>\n    </g>\n   </g>\n   <g id=\"patch_13\">\n    <path d=\"M 55.553125 225.864106 \nL 55.553125 127.027742 \n\" style=\"fill:none;stroke:#000000;stroke-linecap:square;stroke-linejoin:miter;stroke-width:0.8;\"/>\n   </g>\n   <g id=\"patch_14\">\n    <path d=\"M 207.734943 225.864106 \nL 207.734943 127.027742 \n\" style=\"fill:none;stroke:#000000;stroke-linecap:square;stroke-linejoin:miter;stroke-width:0.8;\"/>\n   </g>\n   <g id=\"patch_15\">\n    <path d=\"M 55.553125 225.864106 \nL 207.734943 225.864106 \n\" style=\"fill:none;stroke:#000000;stroke-linecap:square;stroke-linejoin:miter;stroke-width:0.8;\"/>\n   </g>\n   <g id=\"patch_16\">\n    <path d=\"M 55.553125 127.027742 \nL 207.734943 127.027742 \n\" style=\"fill:none;stroke:#000000;stroke-linecap:square;stroke-linejoin:miter;stroke-width:0.8;\"/>\n   </g>\n  </g>\n  <g id=\"axes_4\">\n   <g id=\"patch_17\">\n    <path d=\"M 238.171307 225.864106 \nL 390.353125 225.864106 \nL 390.353125 127.027742 \nL 238.171307 127.027742 \nz\n\" style=\"fill:#ffffff;\"/>\n   </g>\n   <g id=\"PathCollection_4\">\n    <g clip-path=\"url(#p53e7cbdeb8)\">\n     <use style=\"fill:#1f77b4;stroke:#1f77b4;\" x=\"245.088662\" xlink:href=\"#m8569b51e3f\" y=\"220.788094\"/>\n     <use style=\"fill:#1f77b4;stroke:#1f77b4;\" x=\"253.735356\" xlink:href=\"#m8569b51e3f\" y=\"220.788094\"/>\n     <use style=\"fill:#1f77b4;stroke:#1f77b4;\" x=\"262.382051\" xlink:href=\"#m8569b51e3f\" y=\"220.788094\"/>\n     <use style=\"fill:#1f77b4;stroke:#1f77b4;\" x=\"271.028745\" xlink:href=\"#m8569b51e3f\" y=\"220.058782\"/>\n     <use style=\"fill:#1f77b4;stroke:#1f77b4;\" x=\"279.675439\" xlink:href=\"#m8569b51e3f\" y=\"220.788094\"/>\n     <use style=\"fill:#1f77b4;stroke:#1f77b4;\" x=\"288.322133\" xlink:href=\"#m8569b51e3f\" y=\"220.788094\"/>\n     <use style=\"fill:#1f77b4;stroke:#1f77b4;\" x=\"296.968827\" xlink:href=\"#m8569b51e3f\" y=\"220.058782\"/>\n     <use style=\"fill:#1f77b4;stroke:#1f77b4;\" x=\"305.615522\" xlink:href=\"#m8569b51e3f\" y=\"221.371544\"/>\n     <use style=\"fill:#1f77b4;stroke:#1f77b4;\" x=\"314.262216\" xlink:href=\"#m8569b51e3f\" y=\"221.371544\"/>\n     <use style=\"fill:#1f77b4;stroke:#1f77b4;\" x=\"322.90891\" xlink:href=\"#m8569b51e3f\" y=\"220.788094\"/>\n     <use style=\"fill:#1f77b4;stroke:#1f77b4;\" x=\"331.555604\" xlink:href=\"#m8569b51e3f\" y=\"220.204644\"/>\n     <use style=\"fill:#1f77b4;stroke:#1f77b4;\" x=\"340.202299\" xlink:href=\"#m8569b51e3f\" y=\"220.058782\"/>\n     <use style=\"fill:#1f77b4;stroke:#1f77b4;\" x=\"348.848993\" xlink:href=\"#m8569b51e3f\" y=\"217.724984\"/>\n     <use style=\"fill:#1f77b4;stroke:#1f77b4;\" x=\"357.495687\" xlink:href=\"#m8569b51e3f\" y=\"215.245323\"/>\n     <use style=\"fill:#1f77b4;stroke:#1f77b4;\" x=\"366.142381\" xlink:href=\"#m8569b51e3f\" y=\"204.889092\"/>\n     <use style=\"fill:#1f77b4;stroke:#1f77b4;\" x=\"374.789075\" xlink:href=\"#m8569b51e3f\" y=\"179.946621\"/>\n     <use style=\"fill:#1f77b4;stroke:#1f77b4;\" x=\"383.43577\" xlink:href=\"#m8569b51e3f\" y=\"131.520304\"/>\n    </g>\n   </g>\n   <g id=\"matplotlib.axis_7\">\n    <g id=\"xtick_13\">\n     <g id=\"line2d_25\">\n      <g>\n       <use style=\"stroke:#000000;stroke-width:0.8;\" x=\"245.088662\" xlink:href=\"#maccdc52eb6\" y=\"225.864106\"/>\n      </g>\n     </g>\n     <g id=\"text_13\">\n      <!-- 0 -->\n      <g transform=\"translate(241.907412 240.462543)scale(0.1 -0.1)\">\n       <use xlink:href=\"#DejaVuSans-30\"/>\n      </g>\n     </g>\n    </g>\n    <g id=\"xtick_14\">\n     <g id=\"line2d_26\">\n      <g>\n       <use style=\"stroke:#000000;stroke-width:0.8;\" x=\"288.322133\" xlink:href=\"#maccdc52eb6\" y=\"225.864106\"/>\n      </g>\n     </g>\n     <g id=\"text_14\">\n      <!-- 5 -->\n      <g transform=\"translate(285.140883 240.462543)scale(0.1 -0.1)\">\n       <use xlink:href=\"#DejaVuSans-35\"/>\n      </g>\n     </g>\n    </g>\n    <g id=\"xtick_15\">\n     <g id=\"line2d_27\">\n      <g>\n       <use style=\"stroke:#000000;stroke-width:0.8;\" x=\"331.555604\" xlink:href=\"#maccdc52eb6\" y=\"225.864106\"/>\n      </g>\n     </g>\n     <g id=\"text_15\">\n      <!-- 10 -->\n      <g transform=\"translate(325.193104 240.462543)scale(0.1 -0.1)\">\n       <use xlink:href=\"#DejaVuSans-31\"/>\n       <use x=\"63.623047\" xlink:href=\"#DejaVuSans-30\"/>\n      </g>\n     </g>\n    </g>\n    <g id=\"xtick_16\">\n     <g id=\"line2d_28\">\n      <g>\n       <use style=\"stroke:#000000;stroke-width:0.8;\" x=\"374.789075\" xlink:href=\"#maccdc52eb6\" y=\"225.864106\"/>\n      </g>\n     </g>\n     <g id=\"text_16\">\n      <!-- 15 -->\n      <g transform=\"translate(368.426575 240.462543)scale(0.1 -0.1)\">\n       <use xlink:href=\"#DejaVuSans-31\"/>\n       <use x=\"63.623047\" xlink:href=\"#DejaVuSans-35\"/>\n      </g>\n     </g>\n    </g>\n   </g>\n   <g id=\"matplotlib.axis_8\">\n    <g id=\"ytick_13\">\n     <g id=\"line2d_29\">\n      <g>\n       <use style=\"stroke:#000000;stroke-width:0.8;\" x=\"238.171307\" xlink:href=\"#mfd29a46191\" y=\"221.371544\"/>\n      </g>\n     </g>\n    </g>\n    <g id=\"ytick_14\">\n     <g id=\"line2d_30\">\n      <g>\n       <use style=\"stroke:#000000;stroke-width:0.8;\" x=\"238.171307\" xlink:href=\"#mfd29a46191\" y=\"190.781981\"/>\n      </g>\n     </g>\n    </g>\n    <g id=\"ytick_15\">\n     <g id=\"line2d_31\">\n      <g>\n       <use style=\"stroke:#000000;stroke-width:0.8;\" x=\"238.171307\" xlink:href=\"#mfd29a46191\" y=\"160.192418\"/>\n      </g>\n     </g>\n    </g>\n    <g id=\"ytick_16\">\n     <g id=\"line2d_32\">\n      <g>\n       <use style=\"stroke:#000000;stroke-width:0.8;\" x=\"238.171307\" xlink:href=\"#mfd29a46191\" y=\"129.602855\"/>\n      </g>\n     </g>\n    </g>\n   </g>\n   <g id=\"patch_18\">\n    <path d=\"M 238.171307 225.864106 \nL 238.171307 127.027742 \n\" style=\"fill:none;stroke:#000000;stroke-linecap:square;stroke-linejoin:miter;stroke-width:0.8;\"/>\n   </g>\n   <g id=\"patch_19\">\n    <path d=\"M 390.353125 225.864106 \nL 390.353125 127.027742 \n\" style=\"fill:none;stroke:#000000;stroke-linecap:square;stroke-linejoin:miter;stroke-width:0.8;\"/>\n   </g>\n   <g id=\"patch_20\">\n    <path d=\"M 238.171307 225.864106 \nL 390.353125 225.864106 \n\" style=\"fill:none;stroke:#000000;stroke-linecap:square;stroke-linejoin:miter;stroke-width:0.8;\"/>\n   </g>\n   <g id=\"patch_21\">\n    <path d=\"M 238.171307 127.027742 \nL 390.353125 127.027742 \n\" style=\"fill:none;stroke:#000000;stroke-linecap:square;stroke-linejoin:miter;stroke-width:0.8;\"/>\n   </g>\n  </g>\n </g>\n <defs>\n  <clipPath id=\"pfa1ac08d8d\">\n   <rect height=\"98.836364\" width=\"152.181818\" x=\"55.553125\" y=\"8.424106\"/>\n  </clipPath>\n  <clipPath id=\"p44bfcf39a1\">\n   <rect height=\"98.836364\" width=\"152.181818\" x=\"238.171307\" y=\"8.424106\"/>\n  </clipPath>\n  <clipPath id=\"pda146d39a3\">\n   <rect height=\"98.836364\" width=\"152.181818\" x=\"55.553125\" y=\"127.027742\"/>\n  </clipPath>\n  <clipPath id=\"p53e7cbdeb8\">\n   <rect height=\"98.836364\" width=\"152.181818\" x=\"238.171307\" y=\"127.027742\"/>\n  </clipPath>\n </defs>\n</svg>\n",
      "image/png": "[encoded data removed]"
     },
     "metadata": {
      "needs_background": "light"
     }
    }
   ],
   "metadata": {}
  },
  {
   "cell_type": "markdown",
   "source": [
    "We see what we stated at the beginning: for `enqueue()` the first implementation is of linear complexity while `dequeue()` is constant. For the second implementation we have the opposite facts as we switched the implementation."
   ],
   "metadata": {}
  },
  {
   "cell_type": "markdown",
   "source": [
    "### 7. It is possible to implement a queue such that both enqueue and dequeue have 𝑂(1) performance on average. In this case it means that most of the time enqueue and dequeue will be 𝑂(1) except in one particular circumstance where dequeue will be 𝑂(𝑛). Create an implementation of a queue that would have an average performance of 𝑂(1) for enqueue and dequeue operations.\n",
    "\n",
    "This has to be revised, but one thing is to use a list which keeps track of the last index we dequeued (so the dequeue using by indexing). In this way, both operations are $O(1)$. Since this list can potentially become very large, once the `head_index` reaches the last item, we refresh the list and the index itself."
   ],
   "metadata": {}
  },
  {
   "cell_type": "code",
   "execution_count": 19,
   "source": [
    "class ConstantTimeQueue:\n",
    "    def __init__(self):\n",
    "        self.queue = []\n",
    "        self.head_index = 0\n",
    "        self.size = 0\n",
    "\n",
    "    def enqueue(self, item):\n",
    "        self.queue.append(item)\n",
    "        self.size += 1\n",
    "\n",
    "    def dequeue(self):\n",
    "        if self.head_index >= self.size:\n",
    "            print(\"Nothing to dequeue!\")\n",
    "        elif self.head_index == self.size - 1:\n",
    "            item = self.queue[self.head_index]\n",
    "            self.queue = []\n",
    "            self.size = 0\n",
    "            self.head_index = 0\n",
    "            return item \n",
    "        else:\n",
    "            item = self.queue[self.head_index]\n",
    "            self.head_index += 1\n",
    "            return item\n",
    "        "
   ],
   "outputs": [],
   "metadata": {}
  },
  {
   "cell_type": "markdown",
   "source": [],
   "metadata": {}
  },
  {
   "cell_type": "markdown",
   "source": [
    "### 8. Consider a real life situation. Formulate a question and then design a simulation that can help to answer it. Possible situations include:\n",
    "\n",
    "* ### Cars lined up at a car wash\n",
    "* ### Customers at a grocery store check-out\n",
    "* ### Airplanes taking off and landing on a runway\n",
    "* ### A bank teller\n",
    "\n",
    "### Be sure to state any assumptions that you make and provide any probabilistic data that must be considered as part of the scenario.\n",
    "\n",
    "* For the car wash scenario, I would simulate car waiting their turns in a first come first served fashion: a __Queue__ is a suitable data structure.\n",
    "* Same as above, since users arrive in line, without any other complex assumption to make regarding the problem.\n",
    "* Here we have to consider the departure and arrival times which are different for each flight: we use this time to create a \"priority\" for each flight asking to take off/land, two queues are necessary, and they are dequeued in order of priority.\n",
    "* In the front desk, a bank teller would theoretically treat customers in a first come first served fashion, but since new banks have dedicated priority for _premium_ customers, we might use here a priority solution as well, which for every 1 standard customer, it processes 3 premium customers (if any of course).\n",
    "\n",
    "Let's translate these formulations to code."
   ],
   "metadata": {}
  },
  {
   "cell_type": "code",
   "execution_count": 20,
   "source": [
    "import random\n",
    "import time\n",
    "import string\n",
    "\n",
    "from pythonds3 import Queue\n",
    "\n",
    "class CarWash:\n",
    "    def __init__(self):\n",
    "        self.waiting_queue = Queue()\n",
    "\n",
    "    def simulate(self, n_epochs=300, time_to_clean=3):\n",
    "        epochs = 0\n",
    "        entered = 0\n",
    "        served = 0\n",
    "        \n",
    "        while epochs < n_epochs:\n",
    "            appear = bool(epochs + random.randint(0, int(time.time())) % 2)\n",
    "            if appear:\n",
    "                car_plate = \"\".join(random.choices(string.ascii_uppercase + string.digits, k=10))\n",
    "                print(f\"Car {car_plate} appeared in queue!\")\n",
    "                self.waiting_queue.enqueue(car_plate)\n",
    "                entered += 0\n",
    "            \n",
    "            if epochs % time_to_clean == 0 and (not self.waiting_queue.is_empty()):\n",
    "                print(f\"Car {self.waiting_queue.dequeue()} served!\")\n",
    "                served += 1\n",
    "\n",
    "            epochs += 1\n",
    "        \n",
    "        return entered, served\n",
    "\n",
    "class CheckoutCart:\n",
    "    def __init__(self):\n",
    "        self.waiting_line = Queue()\n",
    "\n",
    "    def simulate(self, n_epochs=300, max_size_cart=5, time_per_item=1):\n",
    "        epochs = 0\n",
    "        entered = 0\n",
    "        served = 0\n",
    "        \n",
    "        time_left_last_customer = 0\n",
    "        last_customer = -1\n",
    "        \n",
    "        while epochs < n_epochs:\n",
    "            appear = random.randint(0, int(time.time())) % 2 == 0\n",
    "            if appear:\n",
    "                cart_size = random.randint(1, max_size_cart)\n",
    "                print(f\"Customer no. {entered + 1} got in line with {cart_size}!\")\n",
    "                self.waiting_line.enqueue((entered + 1, cart_size))\n",
    "                entered += 1\n",
    "            \n",
    "            if time_left_last_customer > 0:\n",
    "                print(f\"Still checking out customer {last_customer}!\")\n",
    "                time_left_last_customer -= 1\n",
    "                if time_left_last_customer == 0:\n",
    "                    print(f\"Served customer {last_customer}! Total customers served: {served + 1}\")\n",
    "                    served += 1\n",
    "            elif time_left_last_customer == 0 and (not self.waiting_line.is_empty()):\n",
    "                c_number, c_cart_size = self.waiting_line.dequeue()\n",
    "                time_left_last_customer = time_per_item * c_cart_size\n",
    "                last_customer = c_number\n",
    "                print(f\"Serving customer {c_number} with cart size {c_cart_size} (taking {time_left_last_customer} epochs)!\")\n",
    "            else:\n",
    "                print(f\"Empty line!\")\n",
    "            \n",
    "            epochs += 1\n",
    "        \n",
    "        return entered, served\n",
    "\n",
    "class AirportRunaway:\n",
    "    def __init__(self):\n",
    "        self.departures = Queue()\n",
    "        self.landings = Queue()\n",
    "\n",
    "    def assign_priority(self, timestamp):\n",
    "        return 10 ** 10 / int(timestamp)\n",
    "\n",
    "    def simulate(self, n_epochs=300):\n",
    "        epochs = 0\n",
    "\n",
    "        while epochs < n_epochs:\n",
    "            appear = random.randint(0, int(time.time())) % 2 == 0\n",
    "            if appear:\n",
    "                timestamp = time.time()\n",
    "                operation = \"departure\" if random.randint(0, int(timestamp)) % 2 == 0 else \"landing\"\n",
    "                flight_code = \"\".join(random.choices(string.ascii_uppercase + string.digits, k=8))\n",
    "                priority = self.assign_priority(timestamp) \n",
    "                flight_dictionary = {\"time\": timestamp, \"operation\": operation, \"flight_code\": flight_code, \"priority\": priority}\n",
    "                print(f\"Flight no. {flight_code} in {operation} with priority {priority}!\")\n",
    "                if operation == \"departure\":\n",
    "                    self.departures.enqueue(flight_dictionary)\n",
    "                else:\n",
    "                    self.landings.enqueue(flight_dictionary)\n",
    "\n",
    "            \n",
    "            next_departure = self.departures.dequeue() if not self.departures.is_empty() else None\n",
    "            next_landing = self.landings.dequeue() if not self.landings.is_empty() else None\n",
    "            ls = [next_departure, next_landing]\n",
    "\n",
    "            if None not in ls:\n",
    "                if next_landing[\"priority\"] >= next_departure[\"priority\"]:\n",
    "                    print(f\"Serving {next_landing['flight_code']} {next_landing['operation']}!\")\n",
    "                    print(f\"Serving {next_departure['flight_code']} {next_departure['operation']}!\")\n",
    "                else:\n",
    "                    print(f\"Serving {next_departure['flight_code']} {next_departure['operation']}!\")\n",
    "                    print(f\"Serving {next_landing['flight_code']} {next_landing['operation']}!\")\n",
    "\n",
    "            epochs += 1\n",
    "\n",
    "class BankTeller:\n",
    "    def __init__(self):\n",
    "        self.standard_line = Queue()\n",
    "        self.priority_line = Queue()\n",
    "\n",
    "    def simulate(self, n_epochs=300):\n",
    "        epochs = 0\n",
    "        arrived = 0\n",
    "        served = 0\n",
    "        client_in_process = None\n",
    "        next_end = -1\n",
    "        next_clients = Queue()\n",
    "\n",
    "        while epochs < n_epochs:\n",
    "            appear = random.randint(0, int(time.time())) % 2 == 0\n",
    "            if appear:\n",
    "                is_standard = random.randint(0, 3) != 0\n",
    "                if is_standard:\n",
    "                    print(f\"Client {arrived + 1} arrived (normal priority)!\")\n",
    "                    start = epochs\n",
    "                    process_time = random.randint(0, n_epochs // (epochs + 1))\n",
    "                    client = {\"n\": arrived + 1, \"process_time\": process_time}\n",
    "                    self.standard_line.enqueue(client)\n",
    "                else:\n",
    "                    print(f\"Client {arrived + 1} arrived (premium priority)!\")\n",
    "                    start = epochs\n",
    "                    process_time = random.randint(0, n_epochs // (epochs + 1))\n",
    "                    client = {\"n\": arrived + 1, \"process_time\": process_time}\n",
    "                    self.priority_line.enqueue(client)\n",
    "                \n",
    "                arrived += 1\n",
    "\n",
    "            for _ in range(3):\n",
    "                if not self.priority_line.is_empty():\n",
    "                    next_clients.enqueue(self.priority_line.dequeue())\n",
    "\n",
    "            if not self.standard_line.is_empty():\n",
    "                next_clients.enqueue(self.standard_line.dequeue())\n",
    "\n",
    "            if client_in_process is None and (not next_clients.is_empty()):\n",
    "                client_in_process = next_clients.dequeue()\n",
    "                print(f\"Now serving customer {client_in_process['n']}!\")\n",
    "                next_end = epochs + client_in_process[\"process_time\"]\n",
    "\n",
    "            if next_end == epochs:\n",
    "                print(f\"Served customer {client_in_process['n']}!\")\n",
    "                client_in_process = None \n",
    "                next_end = -1\n",
    "            else:\n",
    "                print(f\"Still serving customer {client_in_process['n']}!\")\n",
    "\n",
    "            epochs += 1    \n",
    "    "
   ],
   "outputs": [],
   "metadata": {}
  },
  {
   "cell_type": "markdown",
   "source": [
    "They're not realistic simulations but the idea is clear on how to handle different situations where we have a normal and pure first come first served approach and those particular situations where we need to work with priorities."
   ],
   "metadata": {}
  },
  {
   "cell_type": "markdown",
   "source": [
    "### 9. Modify the Hot Potato simulation to allow for a randomly chosen counting value so that each pass is not predictable from the previous one.\n",
    "\n",
    "The random count `n` will be between 1 and the previously defined `num`."
   ],
   "metadata": {}
  },
  {
   "cell_type": "code",
   "execution_count": 21,
   "source": [
    "def hot_potato(name_list, num):\n",
    "    sim_queue = Queue()\n",
    "    for name in name_list:\n",
    "        sim_queue.enqueue(name)\n",
    "\n",
    "    while sim_queue.size() > 1:\n",
    "        n = random.randint(1, num)\n",
    "        for i in range(n):\n",
    "            sim_queue.enqueue(sim_queue.dequeue())\n",
    "\n",
    "        sim_queue.dequeue()\n",
    "\n",
    "    return sim_queue.dequeue()\n",
    "    "
   ],
   "outputs": [],
   "metadata": {}
  },
  {
   "cell_type": "markdown",
   "source": [
    "### 10. Implement a radix sorting machine. A radix sort for base 10 integers is a mechanical sorting technique that utilizes a collection of bins, one main bin and 10 digit bins. Each bin acts like a queue and maintains its values in the order that they arrive. The algorithm begins by placing each number in the main bin. Then it considers each value digit by digit. The first value is removed and placed in a digit bin corresponding to the digit being considered. For example, if the ones digit is being considered, 534 is placed in digit bin 4 and 667 is placed in digit bin 7. Once all the values are placed in the corresponding digit bins, the values are collected from bin 0 to bin 9 and placed back in the main bin. The process continues with the tens digit, the hundreds, and so on. After the last digit is processed, the main bin contains the values in order."
   ],
   "metadata": {}
  },
  {
   "cell_type": "code",
   "execution_count": 56,
   "source": [
    "def radix_sort_machine(a):\n",
    "    bins = [Queue() for _ in range(11)]\n",
    "    ret_a = []\n",
    "\n",
    "    for n in a:\n",
    "        bins[0].enqueue(n)\n",
    "\n",
    "    for i in range(1, 10):\n",
    "        for _ in range(len(a)):\n",
    "            val = bins[0].dequeue()\n",
    "            index = int(str(val)[-i]) if val >= 10 ** (i - 1) else 0\n",
    "            bins[index].enqueue(val)\n",
    "\n",
    "        for j in range(1, 10):\n",
    "            while not bins[j].is_empty():\n",
    "                bins[0].enqueue(bins[j].dequeue())\n",
    "\n",
    "    while not bins[0].is_empty():\n",
    "        ret_a.append(bins[0].dequeue())\n",
    "\n",
    "    return ret_a\n"
   ],
   "outputs": [],
   "metadata": {}
  },
  {
   "cell_type": "markdown",
   "source": [
    "And now let's test it."
   ],
   "metadata": {}
  },
  {
   "cell_type": "code",
   "execution_count": 64,
   "source": [
    "TIMES = 5\n",
    "LEN = 10\n",
    "MAX_EXP = 5\n",
    "\n",
    "arrays = [[random.randint(0, 10 ** MAX_EXP) for _ in range(MAX_LEN)] for _ in range(TIMES)]\n",
    "for a in arrays:\n",
    "    print(f\"Sorting array {a}. Result is {radix_sort_machine(a)}!\")"
   ],
   "outputs": [
    {
     "output_type": "stream",
     "name": "stdout",
     "text": [
      "Sorting array [56370, 23029, 18612, 57444, 72002, 75433, 95367, 47740, 27227, 70877]. Result is [18612, 23029, 27227, 47740, 56370, 57444, 70877, 72002, 75433, 95367]!\n",
      "Sorting array [4298, 63795, 57975, 66836, 9167, 53872, 88568, 68752, 36495, 57618]. Result is [4298, 9167, 36495, 53872, 57618, 57975, 63795, 66836, 68752, 88568]!\n",
      "Sorting array [58057, 38872, 74660, 38359, 36882, 608, 56712, 98922, 51121, 93159]. Result is [608, 36882, 38359, 38872, 51121, 56712, 58057, 74660, 93159, 98922]!\n",
      "Sorting array [79613, 85136, 85585, 62845, 72416, 55785, 10701, 75233, 22169, 28101]. Result is [10701, 22169, 28101, 55785, 62845, 72416, 75233, 79613, 85136, 85585]!\n",
      "Sorting array [56468, 54857, 16994, 20693, 441, 62540, 59870, 10930, 19918, 6437]. Result is [441, 6437, 10930, 16994, 19918, 20693, 54857, 56468, 59870, 62540]!\n"
     ]
    }
   ],
   "metadata": {}
  },
  {
   "cell_type": "markdown",
   "source": [
    "It looks like it works!"
   ],
   "metadata": {}
  },
  {
   "cell_type": "code",
   "execution_count": null,
   "source": [],
   "outputs": [],
   "metadata": {}
  }
 ],
 "metadata": {
  "orig_nbformat": 4,
  "language_info": {
   "name": "python",
   "version": "3.9.6",
   "mimetype": "text/x-python",
   "codemirror_mode": {
    "name": "ipython",
    "version": 3
   },
   "pygments_lexer": "ipython3",
   "nbconvert_exporter": "python",
   "file_extension": ".py"
  },
  "kernelspec": {
   "name": "python3",
   "display_name": "Python 3.9.6 64-bit ('base': conda)"
  },
  "interpreter": {
   "hash": "a473aa0524f7e71cff5bf41ad0f6e637ac4e671de457aeaaf8dd3e29779b2e94"
  }
 },
 "nbformat": 4,
 "nbformat_minor": 2
}