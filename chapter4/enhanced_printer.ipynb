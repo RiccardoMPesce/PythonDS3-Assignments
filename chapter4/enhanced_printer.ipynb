{
 "cells": [
  {
   "cell_type": "markdown",
   "source": [
    "# Enhanced Printer\n",
    "\n",
    "### Extra exercise in chapter 4 ([link](https://runestone.academy/runestone/books/published/pythonds3/BasicDS/SimulationPrintingTasks.html))"
   ],
   "metadata": {}
  },
  {
   "cell_type": "markdown",
   "source": [
    "A larger number of students definitely requires a different pages per minute speed. In particular, we can parameterize the number of students in the simulation, so that the actual number of students can be taken into account when choosing the pages per minute rate. This is the code before any modification."
   ],
   "metadata": {}
  },
  {
   "cell_type": "code",
   "execution_count": 2,
   "source": [
    "import random\n",
    "from pythonds3.basic import Queue\n",
    "\n",
    "\n",
    "class Printer:\n",
    "    def __init__(self, ppm):\n",
    "        self.page_rate = ppm\n",
    "        self.current_task = None\n",
    "        self.time_remaining = 0\n",
    "\n",
    "    def tick(self):\n",
    "        if self.current_task is not None:\n",
    "            self.time_remaining = self.time_remaining - 1\n",
    "            if self.time_remaining <= 0:\n",
    "                self.current_task = None\n",
    "\n",
    "    def busy(self):\n",
    "        return self.current_task is not None\n",
    "\n",
    "    def start_next(self, new_task):\n",
    "        self.current_task = new_task\n",
    "        self.time_remaining = new_task.get_pages() * 60 / self.page_rate\n",
    "\n",
    "\n",
    "class Task:\n",
    "    def __init__(self, time):\n",
    "        self.timestamp = time\n",
    "        self.pages = random.randrange(1, 21)\n",
    "\n",
    "    def get_stamp(self):\n",
    "        return self.timestamp\n",
    "\n",
    "    def get_pages(self):\n",
    "        return self.pages\n",
    "\n",
    "    def wait_time(self, current_time):\n",
    "        return current_time - self.timestamp\n",
    "\n",
    "\n",
    "def simulation(num_milliseconds, pages_per_minute):\n",
    "    lab_printer = Printer(pages_per_minute)\n",
    "    print_queue = Queue()\n",
    "    waiting_times = []\n",
    "\n",
    "    for current_millisecond in range(num_milliseconds):\n",
    "        if new_print_task():\n",
    "            task = Task(current_millisecond)\n",
    "            print_queue.enqueue(task)\n",
    "\n",
    "        if (not lab_printer.busy()) and (not print_queue.is_empty()):\n",
    "            nexttask = print_queue.dequeue()\n",
    "            waiting_times.append(nexttask.wait_time(current_millisecond))\n",
    "            lab_printer.start_next(nexttask)\n",
    "\n",
    "        lab_printer.tick()\n",
    "\n",
    "    average_wait = sum(waiting_times) / len(waiting_times)\n",
    "    print(\"Average Wait %6.2f millisecs %3d tasks remaining.\" % (average_wait, print_queue.size()))\n",
    "\n",
    "\n",
    "def new_print_task():\n",
    "    num = random.randrange(1, 181)\n",
    "    return num == 180\n",
    "    "
   ],
   "outputs": [],
   "metadata": {}
  },
  {
   "cell_type": "markdown",
   "source": [
    "The code with the proper modification is as shown below. Let's modify the `simulation()` method, by taking as a parameter the number of students rather than the speed."
   ],
   "metadata": {}
  },
  {
   "cell_type": "code",
   "execution_count": 20,
   "source": [
    "MAX_SPEED = 20\n",
    "\n",
    "def simulation(num_milliseconds, num_students):\n",
    "    num_minutes = (num_milliseconds / 1000) / 60\n",
    "    candidate_speed = num_students // num_minutes + 1 \n",
    "    pages_per_minute = candidate_speed if candidate_speed <= MAX_SPEED else MAX_SPEED\n",
    "    lab_printer = Printer(pages_per_minute)\n",
    "    print_queue = Queue()\n",
    "    waiting_times = []\n",
    "\n",
    "    for current_millisecond in range(num_milliseconds):\n",
    "        if new_print_task():\n",
    "            task = Task(current_millisecond)\n",
    "            print_queue.enqueue(task)\n",
    "\n",
    "        if (not lab_printer.busy()) and (not print_queue.is_empty()):\n",
    "            nexttask = print_queue.dequeue()\n",
    "            waiting_times.append(nexttask.wait_time(current_millisecond))\n",
    "            lab_printer.start_next(nexttask)\n",
    "\n",
    "        lab_printer.tick()\n",
    "\n",
    "    average_wait = sum(waiting_times) / len(waiting_times)\n",
    "    print(f\"Average Wait {average_wait:6.2f} millisecs {print_queue.size():3d} tasks remaining.\")"
   ],
   "outputs": [],
   "metadata": {}
  },
  {
   "cell_type": "markdown",
   "source": [
    "In this way, we are selecting a speed that grows with the number of students but at the same time decreases with the number of milliseconds (since this is the time set to finish the simulation), while always being lower than the maximum speed set by an hypothetical printer (it usually takes a little more than one second). Let us try a simulation now, with an increasing number of students."
   ],
   "metadata": {}
  },
  {
   "cell_type": "code",
   "execution_count": 29,
   "source": [
    "for i in range(1, 11):\n",
    "    simulation(3600, i)"
   ],
   "outputs": [
    {
     "output_type": "stream",
     "name": "stdout",
     "text": [
      "Average Wait   4.41 millisecs   0 tasks remaining.\n",
      "Average Wait   1.76 millisecs   0 tasks remaining.\n",
      "Average Wait   1.38 millisecs   0 tasks remaining.\n",
      "Average Wait   2.96 millisecs   0 tasks remaining.\n",
      "Average Wait   1.86 millisecs   0 tasks remaining.\n",
      "Average Wait   1.90 millisecs   0 tasks remaining.\n",
      "Average Wait   4.21 millisecs   0 tasks remaining.\n",
      "Average Wait   8.23 millisecs   0 tasks remaining.\n",
      "Average Wait   5.05 millisecs   2 tasks remaining.\n",
      "Average Wait   1.08 millisecs   0 tasks remaining.\n"
     ]
    }
   ],
   "metadata": {}
  }
 ],
 "metadata": {
  "orig_nbformat": 4,
  "language_info": {
   "name": "python",
   "version": "3.9.6",
   "mimetype": "text/x-python",
   "codemirror_mode": {
    "name": "ipython",
    "version": 3
   },
   "pygments_lexer": "ipython3",
   "nbconvert_exporter": "python",
   "file_extension": ".py"
  },
  "kernelspec": {
   "name": "python3",
   "display_name": "Python 3.9.6 64-bit ('base': conda)"
  },
  "interpreter": {
   "hash": "a473aa0524f7e71cff5bf41ad0f6e637ac4e671de457aeaaf8dd3e29779b2e94"
  }
 },
 "nbformat": 4,
 "nbformat_minor": 2
}