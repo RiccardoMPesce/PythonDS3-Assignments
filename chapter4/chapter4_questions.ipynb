{
 "cells": [
  {
   "cell_type": "markdown",
   "source": [
    "# Chapter 4 - Discussion Questions \n",
    "\n",
    "### [Link](https://runestone.academy/runestone/books/published/pythonds3/BasicDS/DiscussionQuestions.html) "
   ],
   "metadata": {}
  },
  {
   "cell_type": "markdown",
   "source": [
    "### 1. Convert the following values to binary using “divide by 2.” Show the stack of remainders.\n",
    "\n",
    "* 17\n",
    "* 45\n",
    "* 96\n",
    "\n",
    "We can run an interactive Python function to achieve this: it will return the binary string together with the intermediate results."
   ],
   "metadata": {}
  },
  {
   "cell_type": "code",
   "execution_count": 3,
   "source": [
    "def divide_by_two(n):\n",
    "    res = []\n",
    "    remainders = []\n",
    "\n",
    "    while n > 0:\n",
    "        res.append(n // 2)\n",
    "        remainders.append(str(n % 2))\n",
    "        n //= 2\n",
    "\n",
    "    return \"\".join(remainders), res"
   ],
   "outputs": [],
   "metadata": {}
  },
  {
   "cell_type": "markdown",
   "source": [
    "Now let's run it on the numbers given in our exercise."
   ],
   "metadata": {}
  },
  {
   "cell_type": "code",
   "execution_count": 4,
   "source": [
    "for n in [17, 45, 96]:\n",
    "    b, r = divide_by_two(n)\n",
    "    print(f\"Binary number for {n} is {b} with stack of remainders {r}.\")"
   ],
   "outputs": [
    {
     "output_type": "stream",
     "name": "stdout",
     "text": [
      "Binary number for 17 is 10001 with stack of remainders [8, 4, 2, 1, 0].\n",
      "Binary number for 45 is 101101 with stack of remainders [22, 11, 5, 2, 1, 0].\n",
      "Binary number for 96 is 0000011 with stack of remainders [48, 24, 12, 6, 3, 1, 0].\n"
     ]
    }
   ],
   "metadata": {}
  },
  {
   "cell_type": "markdown",
   "source": [
    "### 2. Convert the following infix expressions to prefix (use full parentheses):\n",
    "\n",
    "* (A+B)\\*(C+D)\\*(E+F)\n",
    "* A+((B+C)\\*(D+E))\n",
    "* A\\*B\\*C\\*D+E+F\n",
    "\n",
    "This can easily be solved by visual inspection.\n",
    "\n",
    "* \\* \\* \\* + A B + C D + E F\n",
    "* \\+ A \\* + B C + D E\n",
    "* \\+ \\+ \\* \\* \\* A B C D E F\n",
    "\n",
    "We can test this with the appropriate script."
   ],
   "metadata": {}
  },
  {
   "cell_type": "code",
   "execution_count": 5,
   "source": [
    "from pythonds3.basic import Stack\n",
    "\n",
    "def infix_to_prefix(s):\n",
    "    \"\"\" \n",
    "    Converts an infix string into the respective prefix representation.\n",
    "    \"\"\"\n",
    "    tokens = list(s)\n",
    "    operands = Stack()\n",
    "    operators = Stack()\n",
    "    \n",
    "    infix_repr = []\n",
    "\n",
    "    precedence = {\"+\": 1, \"-\": 1, \"*\": 2, \"/\": 2, \"(\": 3}\n",
    "\n",
    "    for token in tokens:\n",
    "        if token == \"(\":\n",
    "            operands.push(token)\n",
    "        elif token == \")\":\n",
    "            new_token = str(operators.pop()) + \" \" + str(operators.pop())\n",
    "            while operands.peek() != \"(\":\n",
    "                new_token = operands.pop() + \" \" + new_token\n",
    "            operands.pop()\n",
    "            operators.push(new_token)\n",
    "        elif token in precedence.keys():\n",
    "            lower_prec = []\n",
    "            while (not operands.is_empty()) and operands.peek() != \"(\" and precedence[operands.peek()] > precedence[token]:\n",
    "                lower_prec.append(operands.pop())\n",
    "            operands.push(token)\n",
    "            for tok in lower_prec:\n",
    "                operands.push(tok)\n",
    "        else:\n",
    "            operators.push(token)\n",
    "\n",
    "    while not operators.is_empty():\n",
    "        infix_repr += [operators.pop()]\n",
    "    \n",
    "    infix_repr = infix_repr[::-1]\n",
    "\n",
    "    while not operands.is_empty():\n",
    "        infix_repr = [operands.pop()] + infix_repr\n",
    "\n",
    "    return \" \".join(infix_repr)\n"
   ],
   "outputs": [],
   "metadata": {}
  },
  {
   "cell_type": "markdown",
   "source": [
    "Let's verify the results."
   ],
   "metadata": {}
  },
  {
   "cell_type": "code",
   "execution_count": 6,
   "source": [
    "print(infix_to_prefix(\"(A+B)*(C+D)*(E+F)\"))\n",
    "print(infix_to_prefix(\"A+((B+C)*(D+E))\"))\n",
    "print(infix_to_prefix(\"A*B*C*D+E+F\"))"
   ],
   "outputs": [
    {
     "output_type": "stream",
     "name": "stdout",
     "text": [
      "* * + B A + D C + F E\n",
      "+ A * + E D + C B\n",
      "+ + * * * A B C D E F\n"
     ]
    }
   ],
   "metadata": {}
  },
  {
   "cell_type": "markdown",
   "source": [
    "Results are consistent with what we initially computed."
   ],
   "metadata": {}
  },
  {
   "cell_type": "markdown",
   "source": [
    "### 3. Convert the above infix expressions to postfix (use full parentheses).\n",
    "\n",
    "To do this, we can convert the expressions by hand:\n",
    "* (A B \\+) (C D \\+) \\* (E F \\+) \\*\n",
    "* A ((B C \\+) (D E \\+) \\*) \\+\n",
    "* (A B C D \\* \\* \\*) E \\+ F \\+"
   ],
   "metadata": {}
  },
  {
   "cell_type": "markdown",
   "source": [
    "### 4. Convert the above infix expressions to postfix using the direct conversion algorithm. Show the stack as the conversion takes place.\n",
    "\n",
    "We can get the conversion algorithm from the chapter, and slightly modify it for our purposes."
   ],
   "metadata": {}
  },
  {
   "cell_type": "code",
   "execution_count": 22,
   "source": [
    "def infix_to_postfix(infix_expr):\n",
    "    prec = {}\n",
    "    prec[\"*\"] = 3\n",
    "    prec[\"/\"] = 3\n",
    "    prec[\"+\"] = 2\n",
    "    prec[\"-\"] = 2\n",
    "    prec[\"(\"] = 1\n",
    "    op_stack = Stack()\n",
    "    postfix_list = []\n",
    "    token_list = list(infix_expr)\n",
    "\n",
    "    for token in token_list:\n",
    "        print(f\"Reading token {token}, current operations stack {op_stack._items}.\")\n",
    "        if token in \"ABCDEFGHIJKLMNOPQRSTUVWXYZ\" or token in \"0123456789\":\n",
    "            postfix_list.append(token)\n",
    "        elif token == \"(\":\n",
    "            op_stack.push(token)\n",
    "        elif token == \")\":\n",
    "            top_token = op_stack.pop()\n",
    "            while top_token != \"(\":\n",
    "                postfix_list.append(top_token)\n",
    "                top_token = op_stack.pop()\n",
    "        else:\n",
    "            while (not op_stack.is_empty()) and (prec[op_stack.peek()] >= prec[token]):\n",
    "                postfix_list.append(op_stack.pop())\n",
    "            op_stack.push(token)\n",
    "\n",
    "    while not op_stack.is_empty():\n",
    "        print(f\"Emptying stack. Current operands to pop out {op_stack._items}.\")\n",
    "        postfix_list.append(op_stack.pop())\n",
    "\n",
    "    return \" \".join(postfix_list)\n",
    "    "
   ],
   "outputs": [],
   "metadata": {}
  },
  {
   "cell_type": "markdown",
   "source": [
    "Now let's run if with the three infix strings."
   ],
   "metadata": {}
  },
  {
   "cell_type": "code",
   "execution_count": 25,
   "source": [
    "print(infix_to_postfix(\"(A+B)*(C+D)*(E+F)\"))\n",
    "print(\"\\n\")\n",
    "print(infix_to_postfix(\"A+((B+C)*(D+E))\"))\n",
    "print(\"\\n\")\n",
    "print(infix_to_postfix(\"A*B*C*D+E+F\"))"
   ],
   "outputs": [
    {
     "output_type": "stream",
     "name": "stdout",
     "text": [
      "Reading token (, current operations stack [].\n",
      "Reading token A, current operations stack ['('].\n",
      "Reading token +, current operations stack ['('].\n",
      "Reading token B, current operations stack ['(', '+'].\n",
      "Reading token ), current operations stack ['(', '+'].\n",
      "Reading token *, current operations stack [].\n",
      "Reading token (, current operations stack ['*'].\n",
      "Reading token C, current operations stack ['*', '('].\n",
      "Reading token +, current operations stack ['*', '('].\n",
      "Reading token D, current operations stack ['*', '(', '+'].\n",
      "Reading token ), current operations stack ['*', '(', '+'].\n",
      "Reading token *, current operations stack ['*'].\n",
      "Reading token (, current operations stack ['*'].\n",
      "Reading token E, current operations stack ['*', '('].\n",
      "Reading token +, current operations stack ['*', '('].\n",
      "Reading token F, current operations stack ['*', '(', '+'].\n",
      "Reading token ), current operations stack ['*', '(', '+'].\n",
      "Emptying stack. Current operands to pop out ['*'].\n",
      "A B + C D + * E F + *\n",
      "\n",
      "\n",
      "Reading token A, current operations stack [].\n",
      "Reading token +, current operations stack [].\n",
      "Reading token (, current operations stack ['+'].\n",
      "Reading token (, current operations stack ['+', '('].\n",
      "Reading token B, current operations stack ['+', '(', '('].\n",
      "Reading token +, current operations stack ['+', '(', '('].\n",
      "Reading token C, current operations stack ['+', '(', '(', '+'].\n",
      "Reading token ), current operations stack ['+', '(', '(', '+'].\n",
      "Reading token *, current operations stack ['+', '('].\n",
      "Reading token (, current operations stack ['+', '(', '*'].\n",
      "Reading token D, current operations stack ['+', '(', '*', '('].\n",
      "Reading token +, current operations stack ['+', '(', '*', '('].\n",
      "Reading token E, current operations stack ['+', '(', '*', '(', '+'].\n",
      "Reading token ), current operations stack ['+', '(', '*', '(', '+'].\n",
      "Reading token ), current operations stack ['+', '(', '*'].\n",
      "Emptying stack. Current operands to pop out ['+'].\n",
      "A B C + D E + * +\n",
      "\n",
      "\n",
      "Reading token A, current operations stack [].\n",
      "Reading token *, current operations stack [].\n",
      "Reading token B, current operations stack ['*'].\n",
      "Reading token *, current operations stack ['*'].\n",
      "Reading token C, current operations stack ['*'].\n",
      "Reading token *, current operations stack ['*'].\n",
      "Reading token D, current operations stack ['*'].\n",
      "Reading token +, current operations stack ['*'].\n",
      "Reading token E, current operations stack ['+'].\n",
      "Reading token +, current operations stack ['+'].\n",
      "Reading token F, current operations stack ['+'].\n",
      "Emptying stack. Current operands to pop out ['+'].\n",
      "A B * C * D * E + F +\n"
     ]
    }
   ],
   "metadata": {}
  },
  {
   "cell_type": "markdown",
   "source": [
    "It seems that it works!"
   ],
   "metadata": {}
  },
  {
   "cell_type": "markdown",
   "source": [
    "### 5. Evaluate the following postfix expressions. Show the stack as each operand and operator is processed.\n",
    "* `2 3 * 4 +`\n",
    "* `1 2 + 3 + 4 + 5 +`\n",
    "* `1 2 3 4 5 * + * +`\n",
    "\n",
    "Again, let's get the code from the chapter and adapt it for our purposes."
   ],
   "metadata": {}
  },
  {
   "cell_type": "code",
   "execution_count": 26,
   "source": [
    "def postfix_eval(postfix_expr):\n",
    "    operand_stack = Stack()\n",
    "    token_list = postfix_expr.split()\n",
    "\n",
    "    for token in token_list:\n",
    "        print(f\"Reading token {token}. Current operations stack {operand_stack._items}.\")\n",
    "        if token in \"0123456789\":\n",
    "            operand_stack.push(int(token))\n",
    "        else:\n",
    "            operand2 = operand_stack.pop()\n",
    "            operand1 = operand_stack.pop()\n",
    "            print(f\"Running operation {token} on {operand1} and {operand2}.\")\n",
    "            result = do_math(token, operand1, operand2)\n",
    "            operand_stack.push(result)\n",
    "    \n",
    "    return operand_stack.pop()\n",
    "\n",
    "\n",
    "def do_math(op, op1, op2):\n",
    "    if op == \"*\":\n",
    "        return op1 * op2\n",
    "    elif op == \"/\":\n",
    "        return op1 / op2\n",
    "    elif op == \"+\":\n",
    "        return op1 + op2\n",
    "    else:\n",
    "        return op1 - op2\n"
   ],
   "outputs": [],
   "metadata": {}
  },
  {
   "cell_type": "markdown",
   "source": [
    "And now let's run the function with our script."
   ],
   "metadata": {}
  },
  {
   "cell_type": "code",
   "execution_count": 27,
   "source": [
    "print(postfix_eval(\"2 3 * 4 +\"))\n",
    "print(\"\\n\")\n",
    "print(postfix_eval(\"1 2 + 3 + 4 + 5 +\"))\n",
    "print(\"\\n\")\n",
    "print(postfix_eval(\"1 2 3 4 5 * + * +\"))"
   ],
   "outputs": [
    {
     "output_type": "stream",
     "name": "stdout",
     "text": [
      "Reading token 2. Current operations stack [].\n",
      "Reading token 3. Current operations stack [2].\n",
      "Reading token *. Current operations stack [2, 3].\n",
      "Running operation * on 2 and 3.\n",
      "Reading token 4. Current operations stack [6].\n",
      "Reading token +. Current operations stack [6, 4].\n",
      "Running operation + on 6 and 4.\n",
      "10\n",
      "\n",
      "\n",
      "Reading token 1. Current operations stack [].\n",
      "Reading token 2. Current operations stack [1].\n",
      "Reading token +. Current operations stack [1, 2].\n",
      "Running operation + on 1 and 2.\n",
      "Reading token 3. Current operations stack [3].\n",
      "Reading token +. Current operations stack [3, 3].\n",
      "Running operation + on 3 and 3.\n",
      "Reading token 4. Current operations stack [6].\n",
      "Reading token +. Current operations stack [6, 4].\n",
      "Running operation + on 6 and 4.\n",
      "Reading token 5. Current operations stack [10].\n",
      "Reading token +. Current operations stack [10, 5].\n",
      "Running operation + on 10 and 5.\n",
      "15\n",
      "\n",
      "\n",
      "Reading token 1. Current operations stack [].\n",
      "Reading token 2. Current operations stack [1].\n",
      "Reading token 3. Current operations stack [1, 2].\n",
      "Reading token 4. Current operations stack [1, 2, 3].\n",
      "Reading token 5. Current operations stack [1, 2, 3, 4].\n",
      "Reading token *. Current operations stack [1, 2, 3, 4, 5].\n",
      "Running operation * on 4 and 5.\n",
      "Reading token +. Current operations stack [1, 2, 3, 20].\n",
      "Running operation + on 3 and 20.\n",
      "Reading token *. Current operations stack [1, 2, 23].\n",
      "Running operation * on 2 and 23.\n",
      "Reading token +. Current operations stack [1, 46].\n",
      "Running operation + on 1 and 46.\n",
      "47\n"
     ]
    }
   ],
   "metadata": {}
  },
  {
   "cell_type": "markdown",
   "source": [
    "### 6. The alternative implementation of the Queue ADT is to use a list such that the rear of the queue is at the end of the list. What would this mean for Big-O performance?\n",
    "\n",
    "Knowing the Big-O performances of the `list` operations `append()` and `insert()`, the operation `enqueue()` would be $O(1)$ while `dequeue()` would be $O(n)$."
   ],
   "metadata": {}
  },
  {
   "cell_type": "markdown",
   "source": [
    "### 7. What is the result of carrying out both steps of the linked list `add` method in reverse order? What kind of reference results? What types of problems may result?\n",
    "\n",
    "Reversing the steps would simply assign `head` to the new node before the new node itself points to the head. In this way we will lose the whole linked list having lost the reference to the first element."
   ],
   "metadata": {}
  },
  {
   "cell_type": "markdown",
   "source": [
    "### 8. Explain how the linked list `remove` method works when the item to be removed is in the last node.\n",
    "\n",
    "The last element's `next` is set to `None`. "
   ],
   "metadata": {}
  },
  {
   "cell_type": "markdown",
   "source": [
    "### 9. Explain how the `remove` method works when the item is in the only node in the linked list.\n",
    "\n",
    "In this case, the `head` is set to `None`."
   ],
   "metadata": {}
  }
 ],
 "metadata": {
  "orig_nbformat": 4,
  "language_info": {
   "name": "python",
   "version": "3.9.6",
   "mimetype": "text/x-python",
   "codemirror_mode": {
    "name": "ipython",
    "version": 3
   },
   "pygments_lexer": "ipython3",
   "nbconvert_exporter": "python",
   "file_extension": ".py"
  },
  "kernelspec": {
   "name": "python3",
   "display_name": "Python 3.9.6 64-bit ('base': conda)"
  },
  "interpreter": {
   "hash": "a473aa0524f7e71cff5bf41ad0f6e637ac4e671de457aeaaf8dd3e29779b2e94"
  }
 },
 "nbformat": 4,
 "nbformat_minor": 2
}