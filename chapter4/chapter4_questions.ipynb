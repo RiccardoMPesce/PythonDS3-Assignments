{
 "cells": [
  {
   "cell_type": "markdown",
   "source": [
    "# Chapter 4 - Discussion Questions \n",
    "\n",
    "### [Link](https://runestone.academy/runestone/books/published/pythonds3/BasicDS/DiscussionQuestions.html) "
   ],
   "metadata": {}
  },
  {
   "cell_type": "markdown",
   "source": [],
   "metadata": {}
  }
 ],
 "metadata": {
  "orig_nbformat": 4,
  "language_info": {
   "name": "python"
  }
 },
 "nbformat": 4,
 "nbformat_minor": 2
}