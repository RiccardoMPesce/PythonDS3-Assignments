{
 "cells": [
  {
   "cell_type": "markdown",
   "source": [
    "# Chapter 4 - Discussion Questions \n",
    "\n",
    "### [Link](https://runestone.academy/runestone/books/published/pythonds3/BasicDS/DiscussionQuestions.html) "
   ],
   "metadata": {}
  },
  {
   "cell_type": "markdown",
   "source": [
    "### 1. Convert the following values to binary using “divide by 2.” Show the stack of remainders.\n",
    "\n",
    "* 17\n",
    "* 45\n",
    "* 96\n",
    "\n",
    "We can run an interactive Python function to achieve this: it will return the binary string together with the intermediate results."
   ],
   "metadata": {}
  },
  {
   "cell_type": "code",
   "execution_count": 6,
   "source": [
    "def divide_by_two(n):\n",
    "    res = []\n",
    "    remainders = []\n",
    "\n",
    "    while n > 0:\n",
    "        res.append(n // 2)\n",
    "        remainders.append(str(n % 2))\n",
    "        n //= 2\n",
    "\n",
    "    return \"\".join(remainders), res"
   ],
   "outputs": [],
   "metadata": {}
  },
  {
   "cell_type": "markdown",
   "source": [
    "Now let's run it on the numbers given in our exercise."
   ],
   "metadata": {}
  },
  {
   "cell_type": "code",
   "execution_count": 7,
   "source": [
    "for n in [17, 45, 96]:\n",
    "    b, r = divide_by_two(n)\n",
    "    print(f\"Binary number for {n} is {b} with stack of remainders {r}.\")"
   ],
   "outputs": [
    {
     "output_type": "stream",
     "name": "stdout",
     "text": [
      "Binary number for 17 is 10001 with stack of remainders [8, 4, 2, 1, 0].\n",
      "Binary number for 45 is 101101 with stack of remainders [22, 11, 5, 2, 1, 0].\n",
      "Binary number for 96 is 0000011 with stack of remainders [48, 24, 12, 6, 3, 1, 0].\n"
     ]
    }
   ],
   "metadata": {}
  },
  {
   "cell_type": "markdown",
   "source": [
    "### 2. Convert the following infix expressions to prefix (use full parentheses):\n",
    "\n",
    "* (A+B)\\*(C+D)\\*(E+F)\n",
    "* A+((B+C)\\*(D+E))\n",
    "* A\\*B\\*C\\*D+E+F\n",
    "\n",
    "This can easily be solved by visual inspection.\n",
    "\n",
    "* \\* \\* \\* + A B + C D + E F\n",
    "* \\+ A \\* + B C + D E\n",
    "* \\+ \\+ \\* \\* \\* A B C D E F\n",
    "\n",
    "We can test this with the appropriate script."
   ],
   "metadata": {}
  },
  {
   "cell_type": "code",
   "execution_count": 43,
   "source": [
    "from pythonds3.basic import Stack\n",
    "\n",
    "def infix_to_prefix(s):\n",
    "    \"\"\" \n",
    "    Converts an infix string into the respective prefix representation.\n",
    "    \"\"\"\n",
    "    tokens = list(s)\n",
    "    operands = Stack()\n",
    "    operators = Stack()\n",
    "    \n",
    "    infix_repr = []\n",
    "\n",
    "    precedence = {\"+\": 1, \"-\": 1, \"*\": 2, \"/\": 2, \"(\": 3}\n",
    "\n",
    "    for token in tokens:\n",
    "        if token == \"(\":\n",
    "            operands.push(token)\n",
    "        elif token == \")\":\n",
    "            new_token = str(operators.pop()) + \" \" + str(operators.pop())\n",
    "            while operands.peek() != \"(\":\n",
    "                new_token = operands.pop() + \" \" + new_token\n",
    "            operands.pop()\n",
    "            operators.push(new_token)\n",
    "        elif token in precedence.keys():\n",
    "            lower_prec = []\n",
    "            while (not operands.is_empty()) and operands.peek() != \"(\" and precedence[operands.peek()] > precedence[token]:\n",
    "                lower_prec.append(operands.pop())\n",
    "            operands.push(token)\n",
    "            for tok in lower_prec:\n",
    "                operands.push(tok)\n",
    "        else:\n",
    "            operators.push(token)\n",
    "\n",
    "    while not operators.is_empty():\n",
    "        infix_repr += [operators.pop()]\n",
    "    \n",
    "    infix_repr = infix_repr[::-1]\n",
    "\n",
    "    while not operands.is_empty():\n",
    "        infix_repr = [operands.pop()] + infix_repr\n",
    "\n",
    "    return \" \".join(infix_repr)\n"
   ],
   "outputs": [],
   "metadata": {}
  },
  {
   "cell_type": "markdown",
   "source": [
    "Let's verify the results."
   ],
   "metadata": {}
  },
  {
   "cell_type": "code",
   "execution_count": 45,
   "source": [
    "print(infix_to_prefix(\"(A+B)*(C+D)*(E+F)\"))\n",
    "print(infix_to_prefix(\"A+((B+C)*(D+E))\"))\n",
    "print(infix_to_prefix(\"A*B*C*D+E+F\"))"
   ],
   "outputs": [
    {
     "output_type": "stream",
     "name": "stdout",
     "text": [
      "* * + B A + D C + F E\n",
      "+ A * + E D + C B\n",
      "+ + * * * A B C D E F\n"
     ]
    }
   ],
   "metadata": {}
  },
  {
   "cell_type": "markdown",
   "source": [
    "Results are consistent with what we initially computed."
   ],
   "metadata": {}
  },
  {
   "cell_type": "code",
   "execution_count": null,
   "source": [],
   "outputs": [],
   "metadata": {}
  }
 ],
 "metadata": {
  "orig_nbformat": 4,
  "language_info": {
   "name": "python",
   "version": "3.9.6",
   "mimetype": "text/x-python",
   "codemirror_mode": {
    "name": "ipython",
    "version": 3
   },
   "pygments_lexer": "ipython3",
   "nbconvert_exporter": "python",
   "file_extension": ".py"
  },
  "kernelspec": {
   "name": "python3",
   "display_name": "Python 3.9.6 64-bit ('base': conda)"
  },
  "interpreter": {
   "hash": "a473aa0524f7e71cff5bf41ad0f6e637ac4e671de457aeaaf8dd3e29779b2e94"
  }
 },
 "nbformat": 4,
 "nbformat_minor": 2
}