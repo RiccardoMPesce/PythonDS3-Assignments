{
 "cells": [
  {
   "cell_type": "markdown",
   "metadata": {},
   "source": [
    "# Chapter 7 - Exercises"
   ]
  },
  {
   "cell_type": "markdown",
   "metadata": {},
   "source": [
    "### 1. Extend the `build_parse_tree` function to handle mathematical expressions that do not have spaces between every character."
   ]
  },
  {
   "cell_type": "code",
   "execution_count": 1,
   "metadata": {},
   "outputs": [
    {
     "name": "stdout",
     "output_type": "stream",
     "text": [
      "  (  (    110      +    5      )     *    3                  )  \n",
      "* + 110 5 3 "
     ]
    }
   ],
   "source": [
    "import re\n",
    "import operator\n",
    "\n",
    "from binary_tree import BinaryTree\n",
    "from pythonds3 import Stack\n",
    "\n",
    "def build_parse_tree_no_space(fp_expr, debug=False):\n",
    "    # Only modification is this below line\n",
    "    fp_expr_no_space = re.sub(r\"(\\d*)\", r\" \\1 \", fp_expr)\n",
    "    \n",
    "    if debug:\n",
    "        print(fp_expr_no_space)\n",
    "    \n",
    "    fp_list = fp_expr_no_space.split()\n",
    "\n",
    "    p_stack = Stack()\n",
    "    expr_tree = BinaryTree(\"\")\n",
    "    p_stack.push(expr_tree)\n",
    "    current_tree = expr_tree\n",
    "\n",
    "    for i in fp_list:\n",
    "        if i == \"(\":\n",
    "            current_tree.insert_left(\"\")\n",
    "            p_stack.push(current_tree)\n",
    "            current_tree = current_tree.left_child\n",
    "\n",
    "        elif i in [\"+\", \"-\", \"*\", \"/\"]:\n",
    "            current_tree.root = i\n",
    "            current_tree.insert_right(\"\")\n",
    "            p_stack.push(current_tree)\n",
    "            current_tree = current_tree.right_child\n",
    "\n",
    "        elif i == \")\":\n",
    "            current_tree = p_stack.pop()\n",
    "\n",
    "        elif i not in [\"+\", \"-\", \"*\", \"/\", \")\"]:\n",
    "            try:\n",
    "                current_tree.root = int(i)\n",
    "                parent = p_stack.pop()\n",
    "                current_tree = parent\n",
    "\n",
    "            except ValueError:\n",
    "                raise ValueError(f\"token '{i}' is not a valid integer\")\n",
    "\n",
    "    return expr_tree\n",
    "\n",
    "t = build_parse_tree_no_space(\"(( 110 + 5 ) * 3     )\", debug=True)\n",
    "t.preorder()"
   ]
  },
  {
   "cell_type": "markdown",
   "metadata": {},
   "source": [
    "### 2. Modify the `build_parse_tree` and `evaluate` functions to handle boolean statements (and, or, and not). Remember that “not” is a unary operator, so this will complicate your code somewhat."
   ]
  },
  {
   "cell_type": "code",
   "execution_count": 1,
   "metadata": {},
   "outputs": [
    {
     "name": "stdout",
     "output_type": "stream",
     "text": [
      "     (     !     (    1      +    0      )     )  \n",
      "['(', '!', '(', '1', '+', '0', ')', ')']\n",
      "!  + 1 0 Parsed operator '!'\n"
     ]
    },
    {
     "data": {
      "text/plain": [
       "0.0"
      ]
     },
     "execution_count": 1,
     "metadata": {},
     "output_type": "execute_result"
    }
   ],
   "source": [
    "import re\n",
    "import operator\n",
    "\n",
    "from binary_tree import BinaryTree\n",
    "from pythonds3 import Stack\n",
    "\n",
    "def build_parse_tree_no_space_bool(fp_expr, debug=False):\n",
    "    fp_expr_no_space = re.sub(r\"(\\d*)\", r\" \\1 \", fp_expr)\n",
    "    \n",
    "    if debug:\n",
    "        print(fp_expr_no_space)\n",
    "    \n",
    "    fp_list = fp_expr_no_space.split()\n",
    "\n",
    "    if debug:\n",
    "        print(fp_list)\n",
    "\n",
    "    p_stack = Stack()\n",
    "    expr_tree = BinaryTree(\"\")\n",
    "    p_stack.push(expr_tree)\n",
    "    current_tree = expr_tree\n",
    "\n",
    "    for i in fp_list:\n",
    "        if i == \"(\":\n",
    "            current_tree.insert_left(\"\")\n",
    "            p_stack.push(current_tree)\n",
    "            current_tree = current_tree.left_child\n",
    "\n",
    "        elif i in [\"+\", \"-\", \"*\", \"/\", \"&\", \"|\", \"!\"]:\n",
    "            if i == \"!\":\n",
    "                parent = p_stack.pop()\n",
    "                current_tree = parent\n",
    "            current_tree.root = i\n",
    "            current_tree.insert_right(\"\")\n",
    "            p_stack.push(current_tree)\n",
    "            current_tree = current_tree.right_child\n",
    "\n",
    "        elif i == \")\":\n",
    "            current_tree = p_stack.pop()\n",
    "\n",
    "        elif i not in [\"+\", \"-\", \"*\", \"/\", \")\", \"&\", \"|\", \"!\"]:\n",
    "            try:\n",
    "                current_tree.root = int(i)\n",
    "                parent = p_stack.pop()\n",
    "                current_tree = parent\n",
    "\n",
    "            except ValueError:\n",
    "                raise ValueError(f\"token '{i}' is not a valid integer\")\n",
    "\n",
    "    return expr_tree\n",
    "\n",
    "def evaluate_bool(parse_tree, debug=False):\n",
    "    operators = {\n",
    "        \"+\": operator.add,\n",
    "        \"-\": operator.sub,\n",
    "        \"*\": operator.mul,\n",
    "        \"/\": operator.truediv,\n",
    "        \"&\": operator.and_,\n",
    "        \"|\": operator.or_,\n",
    "        \"!\": operator.not_\n",
    "    }\n",
    "\n",
    "    left_child = parse_tree.left_child\n",
    "    right_child = parse_tree.right_child\n",
    "\n",
    "    if left_child is not None and right_child is not None and parse_tree.root != \"!\":\n",
    "        fn = operators[parse_tree.root]\n",
    "        if debug:\n",
    "            print(f\"Parsed operator '{parse_tree.root}'\")\n",
    "        return fn(evaluate_bool(left_child), evaluate_bool(right_child))\n",
    "    elif right_child is not None and parse_tree.root == \"!\":\n",
    "        fn = operators[parse_tree.root]\n",
    "        if debug:\n",
    "            print(f\"Parsed operator '{parse_tree.root}'\")\n",
    "        return float(fn(evaluate_bool(right_child)))\n",
    "    else:\n",
    "        return parse_tree.root\n",
    "\n",
    "t = build_parse_tree_no_space_bool(\" ( ! ( 1 + 0 ) )\", True)\n",
    "t.preorder()\n",
    "evaluate_bool(t, True)"
   ]
  },
  {
   "cell_type": "markdown",
   "metadata": {},
   "source": [
    "### 3. Using the `find_successor` method, write a non-recursive inorder traversal for a binary search tree."
   ]
  },
  {
   "cell_type": "code",
   "execution_count": null,
   "metadata": {},
   "outputs": [],
   "source": [
    "def inorder(tree):\n",
    "    if tree == None:\n",
    "        return\n",
    "    else:\n",
    "        cur = tree.find_min()\n",
    "        while cur:\n",
    "            print(cur.key)\n",
    "            cur = cur.find_successor()\n"
   ]
  },
  {
   "cell_type": "markdown",
   "metadata": {},
   "source": [
    "### 4. A _threaded_ binary tree maintains a reference from each node to its successor. Modify the code for a binary search tree to make it threaded, then write a non-recursive inorder traversal method for the threaded binary search tree.\n",
    "\n",
    "Implementation is found [here](./threaded_binary_tree.py)."
   ]
  },
  {
   "cell_type": "markdown",
   "metadata": {},
   "source": [
    "### 5. Modify our implementation of the binary search tree so that it handles duplicate keys properly. That is, if a key is already in the tree then the new payload should replace the old rather than add another node with the same key.\n",
    "\n",
    "Implementation is found [here](./binary_search_tree_update_duplicate.py)"
   ]
  },
  {
   "cell_type": "markdown",
   "metadata": {},
   "source": []
  }
 ],
 "metadata": {
  "kernelspec": {
   "display_name": "Python 3.10.6",
   "language": "python",
   "name": "python3"
  },
  "language_info": {
   "codemirror_mode": {
    "name": "ipython",
    "version": 3
   },
   "file_extension": ".py",
   "mimetype": "text/x-python",
   "name": "python",
   "nbconvert_exporter": "python",
   "pygments_lexer": "ipython3",
   "version": "3.10.6"
  },
  "orig_nbformat": 4,
  "vscode": {
   "interpreter": {
    "hash": "b993bb7fe9f252cf9d963d8e47ecc74b34214b07d64415b6e5de81a041c3daca"
   }
  }
 },
 "nbformat": 4,
 "nbformat_minor": 2
}
