{
 "cells": [
  {
   "cell_type": "markdown",
   "metadata": {},
   "source": [
    "# Chapter 7 - Exercises"
   ]
  },
  {
   "cell_type": "markdown",
   "metadata": {},
   "source": [
    "### 1. Extend the `build_parse_tree` function to handle mathematical expressions that do not have spaces between every character."
   ]
  },
  {
   "cell_type": "code",
   "execution_count": 11,
   "metadata": {},
   "outputs": [
    {
     "name": "stdout",
     "output_type": "stream",
     "text": [
      "* + 10 5 3 "
     ]
    }
   ],
   "source": [
    "import re\n",
    "import operator\n",
    "\n",
    "from pythonds3 import BinaryTree, Stack\n",
    "\n",
    "def build_parse_tree_no_space(fp_expr):\n",
    "    # Only modification is this below line\n",
    "    fp_expr_no_space = re.sub(r\"(\\d*)\", r\" \\1 \", fp_expr)\n",
    "    \n",
    "    fp_list = fp_expr_no_space.split()\n",
    "\n",
    "    p_stack = Stack()\n",
    "    expr_tree = BinaryTree(\"\")\n",
    "    p_stack.push(expr_tree)\n",
    "    current_tree = expr_tree\n",
    "\n",
    "    for i in fp_list:\n",
    "        if i == \"(\":\n",
    "            current_tree.insert_left(\"\")\n",
    "            p_stack.push(current_tree)\n",
    "            current_tree = current_tree.left_child\n",
    "\n",
    "        elif i in [\"+\", \"-\", \"*\", \"/\"]:\n",
    "            current_tree.root = i\n",
    "            current_tree.insert_right(\"\")\n",
    "            p_stack.push(current_tree)\n",
    "            current_tree = current_tree.right_child\n",
    "\n",
    "        elif i == \")\":\n",
    "            current_tree = p_stack.pop()\n",
    "\n",
    "        elif i not in [\"+\", \"-\", \"*\", \"/\", \")\"]:\n",
    "            try:\n",
    "                current_tree.root = int(i)\n",
    "                parent = p_stack.pop()\n",
    "                current_tree = parent\n",
    "\n",
    "            except ValueError:\n",
    "                raise ValueError(f\"token '{i}' is not a valid integer\")\n",
    "\n",
    "    return expr_tree\n",
    "\n",
    "t = build_parse_tree_no_space(\"((10 + 5 ) * 3     )\")\n",
    "t.preorder()"
   ]
  },
  {
   "cell_type": "markdown",
   "metadata": {},
   "source": [
    "### 2. Modify the `build_parse_tree` and `evaluate` functions to handle boolean statements (and, or, and not). Remember that “not” is a unary operator, so this will complicate your code somewhat."
   ]
  },
  {
   "cell_type": "code",
   "execution_count": 13,
   "metadata": {},
   "outputs": [
    {
     "name": "stdout",
     "output_type": "stream",
     "text": [
      "& | 1 "
     ]
    },
    {
     "data": {
      "text/plain": [
       "'&'"
      ]
     },
     "execution_count": 13,
     "metadata": {},
     "output_type": "execute_result"
    }
   ],
   "source": [
    "import re\n",
    "import operator\n",
    "\n",
    "from pythonds3 import BinaryTree, Stack\n",
    "\n",
    "def build_parse_tree_no_space_bool(fp_expr):\n",
    "    # Only modification is this below line\n",
    "    fp_expr_no_space = re.sub(r\"(\\d*)\", r\" \\1 \", fp_expr)\n",
    "    \n",
    "    fp_list = fp_expr_no_space.split()\n",
    "\n",
    "    p_stack = Stack()\n",
    "    expr_tree = BinaryTree(\"\")\n",
    "    p_stack.push(expr_tree)\n",
    "    current_tree = expr_tree\n",
    "\n",
    "    for i in fp_list:\n",
    "        if i == \"(\":\n",
    "            current_tree.insert_left(\"\")\n",
    "            p_stack.push(current_tree)\n",
    "            current_tree = current_tree.left_child\n",
    "\n",
    "        elif i in [\"+\", \"-\", \"*\", \"/\", \"&\", \"|\"]:\n",
    "            current_tree.root = i\n",
    "            current_tree.insert_right(\"\")\n",
    "            p_stack.push(current_tree)\n",
    "            current_tree = current_tree.right_child\n",
    "\n",
    "        elif i == \"!\":\n",
    "            pass\n",
    "\n",
    "        elif i == \")\":\n",
    "            current_tree = p_stack.pop()\n",
    "\n",
    "        elif i not in [\"+\", \"-\", \"*\", \"/\", \"&\", \"|\", \"!\", \")\"]:\n",
    "            try:\n",
    "                current_tree.root = int(i)\n",
    "                parent = p_stack.pop()\n",
    "                current_tree = parent\n",
    "\n",
    "            except ValueError:\n",
    "                raise ValueError(f\"token '{i}' is not a valid integer\")\n",
    "\n",
    "    return expr_tree\n",
    "\n",
    "def evaluate(parse_tree):\n",
    "    operators = {\n",
    "        \"+\": operator.add,\n",
    "        \"-\": operator.sub,\n",
    "        \"*\": operator.mul,\n",
    "        \"/\": operator.truediv,\n",
    "        \"&\": operator.and_,\n",
    "        \"|\": operator.or_,\n",
    "        \"!\": operator.not_\n",
    "    }\n",
    "\n",
    "    left_child = parse_tree.left_child\n",
    "    right_child = parse_tree.right_child\n",
    "\n",
    "    if left_child and right_child:\n",
    "        fn = operators[parse_tree.root]\n",
    "        return fn(evaluate(left_child), evaluate(right_child))\n",
    "    elif left_child and parse_tree.root == \"!\":\n",
    "        fn = operators[parse_tree.root]\n",
    "        return fn(evaluate(left_child))\n",
    "    else:\n",
    "        return parse_tree.root\n",
    "\n",
    "t = build_parse_tree_no_space_bool(\"( ! ( 1 ) & ( 1 | 0 ) )\")\n",
    "t.preorder()\n",
    "evaluate(t)"
   ]
  },
  {
   "cell_type": "markdown",
   "metadata": {},
   "source": []
  },
  {
   "cell_type": "markdown",
   "metadata": {},
   "source": []
  }
 ],
 "metadata": {
  "kernelspec": {
   "display_name": "Python 3.10.5 ('base')",
   "language": "python",
   "name": "python3"
  },
  "language_info": {
   "codemirror_mode": {
    "name": "ipython",
    "version": 3
   },
   "file_extension": ".py",
   "mimetype": "text/x-python",
   "name": "python",
   "nbconvert_exporter": "python",
   "pygments_lexer": "ipython3",
   "version": "3.10.5"
  },
  "orig_nbformat": 4,
  "vscode": {
   "interpreter": {
    "hash": "c6e4e9f98eb68ad3b7c296f83d20e6de614cb42e90992a65aa266555a3137d0d"
   }
  }
 },
 "nbformat": 4,
 "nbformat_minor": 2
}
