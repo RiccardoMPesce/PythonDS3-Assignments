{
 "cells": [
  {
   "cell_type": "markdown",
   "metadata": {},
   "source": [
    "# Chapter 7 - Exercises"
   ]
  },
  {
   "cell_type": "markdown",
   "metadata": {},
   "source": [
    "### 1. Extend the `build_parse_tree` function to handle mathematical expressions that do not have spaces between every character."
   ]
  },
  {
   "cell_type": "code",
   "execution_count": 8,
   "metadata": {},
   "outputs": [
    {
     "name": "stdout",
     "output_type": "stream",
     "text": [
      "  (  (    110      +    5      )     *    3                  )  \n",
      "  (  (    110      +    5      )     *    3                  )  \n",
      "  ( 1   +  H  )  \n",
      "  ( 1   +  H  )  \n"
     ]
    },
    {
     "ename": "ValueError",
     "evalue": "token 'H' is not a valid integer",
     "output_type": "error",
     "traceback": [
      "\u001b[0;31m---------------------------------------------------------------------------\u001b[0m",
      "\u001b[0;31mValueError\u001b[0m                                Traceback (most recent call last)",
      "Cell \u001b[0;32mIn [8], line 38\u001b[0m, in \u001b[0;36mbuild_parse_tree_no_space\u001b[0;34m(fp_expr, debug)\u001b[0m\n\u001b[1;32m     37\u001b[0m \u001b[38;5;28;01mtry\u001b[39;00m:\n\u001b[0;32m---> 38\u001b[0m     current_tree\u001b[38;5;241m.\u001b[39mroot \u001b[38;5;241m=\u001b[39m \u001b[38;5;28;43mint\u001b[39;49m\u001b[43m(\u001b[49m\u001b[43mi\u001b[49m\u001b[43m)\u001b[49m\n\u001b[1;32m     39\u001b[0m     parent \u001b[38;5;241m=\u001b[39m p_stack\u001b[38;5;241m.\u001b[39mpop()\n",
      "\u001b[0;31mValueError\u001b[0m: invalid literal for int() with base 10: 'H'",
      "\nDuring handling of the above exception, another exception occurred:\n",
      "\u001b[0;31mValueError\u001b[0m                                Traceback (most recent call last)",
      "Cell \u001b[0;32mIn [8], line 48\u001b[0m\n\u001b[1;32m     45\u001b[0m     \u001b[38;5;28;01mreturn\u001b[39;00m expr_tree\n\u001b[1;32m     47\u001b[0m t \u001b[38;5;241m=\u001b[39m build_parse_tree_no_space(\u001b[38;5;124m\"\u001b[39m\u001b[38;5;124m(( 110 + 5 ) * 3     )\u001b[39m\u001b[38;5;124m\"\u001b[39m, debug\u001b[38;5;241m=\u001b[39m\u001b[38;5;28;01mTrue\u001b[39;00m)\n\u001b[0;32m---> 48\u001b[0m t \u001b[38;5;241m=\u001b[39m \u001b[43mbuild_parse_tree_no_space\u001b[49m\u001b[43m(\u001b[49m\u001b[38;5;124;43m\"\u001b[39;49m\u001b[38;5;124;43m(1+H)\u001b[39;49m\u001b[38;5;124;43m\"\u001b[39;49m\u001b[43m,\u001b[49m\u001b[43m \u001b[49m\u001b[43mdebug\u001b[49m\u001b[38;5;241;43m=\u001b[39;49m\u001b[38;5;28;43;01mTrue\u001b[39;49;00m\u001b[43m)\u001b[49m\n\u001b[1;32m     49\u001b[0m t\u001b[38;5;241m.\u001b[39mpreorder()\n",
      "Cell \u001b[0;32mIn [8], line 43\u001b[0m, in \u001b[0;36mbuild_parse_tree_no_space\u001b[0;34m(fp_expr, debug)\u001b[0m\n\u001b[1;32m     40\u001b[0m             current_tree \u001b[38;5;241m=\u001b[39m parent\n\u001b[1;32m     42\u001b[0m         \u001b[38;5;28;01mexcept\u001b[39;00m \u001b[38;5;167;01mValueError\u001b[39;00m:\n\u001b[0;32m---> 43\u001b[0m             \u001b[38;5;28;01mraise\u001b[39;00m \u001b[38;5;167;01mValueError\u001b[39;00m(\u001b[38;5;124mf\u001b[39m\u001b[38;5;124m\"\u001b[39m\u001b[38;5;124mtoken \u001b[39m\u001b[38;5;124m'\u001b[39m\u001b[38;5;132;01m{\u001b[39;00mi\u001b[38;5;132;01m}\u001b[39;00m\u001b[38;5;124m'\u001b[39m\u001b[38;5;124m is not a valid integer\u001b[39m\u001b[38;5;124m\"\u001b[39m)\n\u001b[1;32m     45\u001b[0m \u001b[38;5;28;01mreturn\u001b[39;00m expr_tree\n",
      "\u001b[0;31mValueError\u001b[0m: token 'H' is not a valid integer"
     ]
    }
   ],
   "source": [
    "import re\n",
    "import operator\n",
    "\n",
    "from pythonds3 import BinaryTree, Stack\n",
    "\n",
    "def build_parse_tree_no_space(fp_expr, debug=False):\n",
    "    # Only modification is this below line\n",
    "    fp_expr_no_space = re.sub(r\"(\\d*)\", r\" \\1 \", fp_expr)\n",
    "    \n",
    "    if debug:\n",
    "        print(fp_expr_no_space)\n",
    "    \n",
    "    fp_list = fp_expr_no_space.split()\n",
    "\n",
    "    p_stack = Stack()\n",
    "    expr_tree = BinaryTree(\"\")\n",
    "    p_stack.push(expr_tree)\n",
    "    current_tree = expr_tree\n",
    "\n",
    "    for i in fp_list:\n",
    "        if i == \"(\":\n",
    "            current_tree.insert_left(\"\")\n",
    "            p_stack.push(current_tree)\n",
    "            current_tree = current_tree.left_child\n",
    "\n",
    "        elif i in [\"+\", \"-\", \"*\", \"/\"]:\n",
    "            current_tree.root = i\n",
    "            current_tree.insert_right(\"\")\n",
    "            p_stack.push(current_tree)\n",
    "            current_tree = current_tree.right_child\n",
    "\n",
    "        elif i == \")\":\n",
    "            current_tree = p_stack.pop()\n",
    "\n",
    "        elif i not in [\"+\", \"-\", \"*\", \"/\", \")\"]:\n",
    "            try:\n",
    "                current_tree.root = int(i)\n",
    "                parent = p_stack.pop()\n",
    "                current_tree = parent\n",
    "\n",
    "            except ValueError:\n",
    "                raise ValueError(f\"token '{i}' is not a valid integer\")\n",
    "\n",
    "    return expr_tree\n",
    "\n",
    "t = build_parse_tree_no_space(\"(( 110 + 5 ) * 3     )\", debug=True)\n",
    "t.preorder()"
   ]
  },
  {
   "cell_type": "markdown",
   "metadata": {},
   "source": [
    "### 2. Modify the `build_parse_tree` and `evaluate` functions to handle boolean statements (and, or, and not). Remember that “not” is a unary operator, so this will complicate your code somewhat."
   ]
  },
  {
   "cell_type": "code",
   "execution_count": 3,
   "metadata": {},
   "outputs": [
    {
     "name": "stdout",
     "output_type": "stream",
     "text": [
      "  (    1      +    0      )  \n",
      "+ 1 "
     ]
    },
    {
     "data": {
      "text/plain": [
       "'+'"
      ]
     },
     "execution_count": 3,
     "metadata": {},
     "output_type": "execute_result"
    }
   ],
   "source": [
    "import re\n",
    "import operator\n",
    "\n",
    "from pythonds3 import BinaryTree, Stack\n",
    "\n",
    "def build_parse_tree_no_space_bool(fp_expr, debug=False):\n",
    "    # Only modification is this below line\n",
    "    fp_expr_no_space = re.sub(r\"(\\d*)\", r\" \\1 \", fp_expr)\n",
    "    \n",
    "    if debug:\n",
    "        print(fp_expr_no_space)\n",
    "    \n",
    "    fp_list = fp_expr_no_space.split()\n",
    "\n",
    "    p_stack = Stack()\n",
    "    expr_tree = BinaryTree(\"\")\n",
    "    p_stack.push(expr_tree)\n",
    "    current_tree = expr_tree\n",
    "\n",
    "    for i in fp_list:\n",
    "        if i == \"(\":\n",
    "            current_tree.insert_left(\"\")\n",
    "            p_stack.push(current_tree)\n",
    "            current_tree = current_tree.left_child\n",
    "\n",
    "        elif i in [\"+\", \"-\", \"*\", \"/\", \"&\", \"|\"]:\n",
    "            current_tree.root = i\n",
    "            current_tree.insert_right(\"\")\n",
    "            p_stack.push(current_tree)\n",
    "            current_tree = current_tree.right_child\n",
    "\n",
    "        elif i == \")\":\n",
    "            current_tree = p_stack.pop()\n",
    "\n",
    "        elif i not in [\"+\", \"-\", \"*\", \"/\", \")\", \"&\", \"|\"]:\n",
    "            try:\n",
    "                current_tree.root = int(i)\n",
    "                parent = p_stack.pop()\n",
    "                current_tree = parent\n",
    "\n",
    "            except ValueError:\n",
    "                raise ValueError(f\"token '{i}' is not a valid integer\")\n",
    "\n",
    "    return expr_tree\n",
    "\n",
    "def evaluate_no_space_bool(parse_tree):\n",
    "    operators = {\n",
    "        \"+\": operator.add,\n",
    "        \"-\": operator.sub,\n",
    "        \"*\": operator.mul,\n",
    "        \"/\": operator.truediv,\n",
    "        \"&\": operator.and_,\n",
    "        \"|\": operator.or_,\n",
    "        \"!\": operator.not_\n",
    "    }\n",
    "\n",
    "    left_child = parse_tree.left_child\n",
    "    right_child = parse_tree.right_child\n",
    "\n",
    "    if left_child and right_child:\n",
    "        fn = operators[parse_tree.root]\n",
    "        return fn(evaluate(left_child), evaluate(right_child))\n",
    "    elif left_child and parse_tree.root == \"!\":\n",
    "        fn = operators[parse_tree.root]\n",
    "        return fn(evaluate(left_child))\n",
    "    elif right_child and parse_tree.root == \"!\":\n",
    "        fn = operators[parse_tree.root]\n",
    "        return fn(evaluate(right_child))\n",
    "    else:\n",
    "        return parse_tree.root\n",
    "\n",
    "t = build_parse_tree_no_space_bool(\"( 1 + 0 )\", True)\n",
    "t.preorder()\n",
    "evaluate(t)"
   ]
  },
  {
   "cell_type": "code",
   "execution_count": 20,
   "metadata": {},
   "outputs": [
    {
     "data": {
      "text/plain": [
       "0"
      ]
     },
     "execution_count": 20,
     "metadata": {},
     "output_type": "execute_result"
    }
   ],
   "source": [
    "int(\"0\")"
   ]
  },
  {
   "cell_type": "markdown",
   "metadata": {},
   "source": []
  },
  {
   "cell_type": "markdown",
   "metadata": {},
   "source": []
  }
 ],
 "metadata": {
  "kernelspec": {
   "display_name": "Python 3.10.6",
   "language": "python",
   "name": "python3"
  },
  "language_info": {
   "codemirror_mode": {
    "name": "ipython",
    "version": 3
   },
   "file_extension": ".py",
   "mimetype": "text/x-python",
   "name": "python",
   "nbconvert_exporter": "python",
   "pygments_lexer": "ipython3",
   "version": "3.10.6"
  },
  "orig_nbformat": 4,
  "vscode": {
   "interpreter": {
    "hash": "b993bb7fe9f252cf9d963d8e47ecc74b34214b07d64415b6e5de81a041c3daca"
   }
  }
 },
 "nbformat": 4,
 "nbformat_minor": 2
}
