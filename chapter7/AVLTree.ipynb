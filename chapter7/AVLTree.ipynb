{
 "cells": [
  {
   "cell_type": "markdown",
   "metadata": {},
   "source": [
    "# Code and derivation for the `AVLTree` remaining exercises\n",
    "\n",
    "We are left to:\n",
    "1. Write `rotate_right()`.\n",
    "2. Derive `rotate_right()` update balance equation.\n",
    "3. Write `delete()`, re-establishing the order afterwards.\n",
    "\n",
    "Let's start with writing the `rotate_right()` method."
   ]
  },
  {
   "cell_type": "code",
   "execution_count": null,
   "metadata": {},
   "outputs": [],
   "source": [
    "def rotate_right(self, rotation_root):\n",
    "    new_root = rotation_root.left_child\n",
    "    rotation_root.left_child = new_root.right_child\n",
    "    if new_root.right_child:\n",
    "        new_root.right_child.parent = rotation_root\n",
    "    \n",
    "    new_root.parent = rotation_root.parent\n",
    "    \n",
    "    if rotation_root.is_root():\n",
    "        self._root = new_root\n",
    "    else:\n",
    "        if rotation_root.is_left_child():\n",
    "            rotation_root.parent.left_child = new_root\n",
    "        else:\n",
    "            rotation_root.parent.right_child = new_root\n",
    "\n",
    "    new_root.right_child = rotation_root\n",
    "    rotation_root.parent = new_root\n",
    "\n",
    "    rotation_root.balance_factor = (\n",
    "        rotation_root.balance_factor + 1 - min(0, new_root.balance_factor)\n",
    "    )\n",
    "\n",
    "    new_root.balance_factor = (\n",
    "        new_root.balance_factor + 1 + max(0, rotation_root.balance_factor)\n",
    "    )\n",
    "\n",
    "    "
   ]
  }
 ],
 "metadata": {
  "language_info": {
   "name": "python"
  },
  "orig_nbformat": 4
 },
 "nbformat": 4,
 "nbformat_minor": 2
}
