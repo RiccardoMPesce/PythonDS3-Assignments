{
 "cells": [
  {
   "cell_type": "markdown",
   "metadata": {},
   "source": [
    "# Code and derivation for the `AVLTree` remaining exercises\n",
    "\n",
    "We are left to:\n",
    "1. Write `rotate_right()`.\n",
    "2. Derive `rotate_right()` update balance equation.\n",
    "3. Write `delete()`, re-establishing the order afterwards.\n",
    "\n",
    "Let's start with writing the `rotate_right()` method."
   ]
  },
  {
   "cell_type": "code",
   "execution_count": 1,
   "metadata": {},
   "outputs": [],
   "source": [
    "def rotate_right(self, rotation_root):\n",
    "    new_root = rotation_root.left_child\n",
    "    rotation_root.left_child = new_root.right_child\n",
    "    if new_root.right_child:\n",
    "        new_root.right_child.parent = rotation_root\n",
    "    \n",
    "    new_root.parent = rotation_root.parent\n",
    "    \n",
    "    if rotation_root.is_root():\n",
    "        self._root = new_root\n",
    "    else:\n",
    "        if rotation_root.is_left_child():\n",
    "            rotation_root.parent.left_child = new_root\n",
    "        else:\n",
    "            rotation_root.parent.right_child = new_root\n",
    "\n",
    "    new_root.right_child = rotation_root\n",
    "    rotation_root.parent = new_root\n",
    "\n",
    "    rotation_root.balance_factor = (\n",
    "        rotation_root.balance_factor - 1 - max(0, new_root.balance_factor)\n",
    "    )\n",
    "\n",
    "    new_root.balance_factor = (\n",
    "        new_root.balance_factor - 1 + min(0, rotation_root.balance_factor)\n",
    "    )\n",
    "    "
   ]
  },
  {
   "cell_type": "markdown",
   "metadata": {},
   "source": [
    "Now let's derive the equation for the updated balance. We refer to the following image. "
   ]
  },
  {
   "cell_type": "markdown",
   "metadata": {},
   "source": [
    "![rotate right](./rotation_right.png)"
   ]
  },
  {
   "cell_type": "markdown",
   "metadata": {},
   "source": [
    "We have, from the definition of balance, $new\\_bal(B) = h_E - h_A$ and $old\\_bal(B) = h_D - h_A$. Since node D had two subtrees as children (which can have different heights of course) we can simply rewrite the old balance equation as $old\\_bal(B) = (1 + max(h_C, h_E)) - h_A$, i.e. $1 + max(h_C, h_E) - h_A$, where 1 is the height at the level of node D, and of course we sum it to the maximum between the height of the two subtrees. Let's now subtract the two equations:\n",
    "$$\n",
    "new\\_bal(B) - old\\_bal(B) = h_E - h_A - (1 + max(h_C, h_E) - h_A) = h_E - 1 - max(h_C, h_E)\n",
    "$$\n",
    "\n",
    "$$\n",
    "new\\_bal(B) = old\\_bal(B) - 1 + h_E - max(h_C, h_E)\n",
    "$$\n",
    "\n",
    "$$\n",
    "new\\_bal(B) = old\\_bal(B) - 1 + h_E + min(-h_C, -h_E)\n",
    "$$\n",
    "\n",
    "$$\n",
    "new\\_bal(B) = old\\_bal(B) - 1 + min(h_E - h_C, h_E - h_E)\n",
    "$$\n",
    "\n",
    "$$\n",
    "new\\_bal(B) = old\\_bal(B) - 1 + min(h_E - h_C, 0)\n",
    "$$\n",
    "\n",
    "$$\n",
    "new\\_bal(B) = old\\_bal(B) - 1 + min(-old\\_bal(D), 0)\n",
    "$$\n",
    "\n",
    "$$\n",
    "new\\_bal(B) = old\\_bal(B) - 1 - max(old\\_bal(D), 0)\n",
    "$$"
   ]
  },
  {
   "cell_type": "markdown",
   "metadata": {},
   "source": [
    "Let's now implement `delete()`. The only thing we have to do when deleting a node is to rebalance the tree. So we can just copy the method from the BST implementation and make the appropriate modifications."
   ]
  },
  {
   "cell_type": "code",
   "execution_count": null,
   "metadata": {},
   "outputs": [],
   "source": [
    "def delete(self, key):\n",
    "    \"\"\"Remove a node by its key\"\"\"\n",
    "    if self._size > 1:\n",
    "        node_to_remove = self._get(key, self._root)\n",
    "        if node_to_remove:\n",
    "            parent = node_to_remove.parent()\n",
    "            self._delete(node_to_remove)\n",
    "            self._size = self._size - 1\n",
    "            self.update_balance(parent)\n",
    "        else:\n",
    "            raise KeyError(\"Error, key not in tree\")\n",
    "    elif self._size == 1 and self._root.key == key:\n",
    "        self._root = None\n",
    "        self._size = self._size - 1\n",
    "    else:\n",
    "        raise KeyError(\"Error, key not in tree\")"
   ]
  }
 ],
 "metadata": {
  "interpreter": {
   "hash": "bdc1c445b68446493975f0f4c1120652b32b7ff2d59b9297499b6aaef4c1ff08"
  },
  "kernelspec": {
   "display_name": "Python 3.9.7 64-bit ('base': conda)",
   "language": "python",
   "name": "python3"
  },
  "language_info": {
   "codemirror_mode": {
    "name": "ipython",
    "version": 3
   },
   "file_extension": ".py",
   "mimetype": "text/x-python",
   "name": "python",
   "nbconvert_exporter": "python",
   "pygments_lexer": "ipython3",
   "version": "3.9.9"
  },
  "orig_nbformat": 4
 },
 "nbformat": 4,
 "nbformat_minor": 2
}
