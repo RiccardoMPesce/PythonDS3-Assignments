{
 "cells": [
  {
   "cell_type": "markdown",
   "source": [
    "# Chapter 3 - Exercises\n",
    "\n",
    "### [Link](https://runestone.academy/runestone/books/published/pythonds3/AlgorithmAnalysis/Exercises.html)"
   ],
   "metadata": {}
  },
  {
   "cell_type": "markdown",
   "source": [
    "### 1. Devise an experiment to verify that the list index operator is 𝑂(1)\n",
    "\n",
    "One way to check whether or not the index operator is $O(1)$ is to create different lists with different sizes (in increasing order) and see that the time taken to access an index is independent on the size itself. To achieve so, let us first create an helper function which generates lists of different sizes."
   ],
   "metadata": {}
  },
  {
   "cell_type": "code",
   "execution_count": 108,
   "source": [
    "import random\n",
    "\n",
    "def make_list(n):\n",
    "    return [random.randint(0, n) for _ in range(n)]\n",
    "\n",
    "def make_lists_in_magnitude(base, power):\n",
    "    return [make_list(base ** i) for i in range(1, power + 1)]"
   ],
   "outputs": [],
   "metadata": {}
  },
  {
   "cell_type": "markdown",
   "source": [
    "Now, we can start the experiment by importing the `time` module, together with `numpy` and `pandas` to do the appropriate data analyses. We are going to define modules which will perform the appropriate sampling and analyses by themselves."
   ],
   "metadata": {}
  },
  {
   "cell_type": "code",
   "execution_count": 110,
   "source": [
    "import time \n",
    "import numpy as np\n",
    "import pandas as pd\n",
    "import matplotlib.pyplot as plt\n",
    "\n",
    "def average_by_n(base, power):\n",
    "    lists = make_lists_in_magnitude(base, power)\n",
    "    averages = []\n",
    "    \n",
    "    for ls in lists:\n",
    "        access_times = []\n",
    "        \n",
    "        for i in range(len(ls)):\n",
    "            s = time.time()\n",
    "            v = ls[i]\n",
    "            e = time.time() \n",
    "            \n",
    "            access_times += [e - s]\n",
    "        \n",
    "        averages += [np.array(access_times).mean()]\n",
    "\n",
    "    return np.array(averages)"
   ],
   "outputs": [],
   "metadata": {}
  },
  {
   "cell_type": "markdown",
   "source": [
    "And now, we can experiment with different `n` and see how speed changes. We can set a rather big step size so that we do not make the experiment long and/or heavy."
   ],
   "metadata": {}
  },
  {
   "cell_type": "code",
   "execution_count": 116,
   "source": [
    "averages = average_by_n(10, 6)\n",
    "\n",
    "plt.xlabel(\"Power of n (base 10)\")\n",
    "plt.ylabel(\"Length\")\n",
    "plt.title(\"Access time by magnitude of n\")\n",
    "plt.scatter(np.arange(1, len(averages) + 1), averages)\n",
    "plt.plot()"
   ],
   "outputs": [
    {
     "output_type": "execute_result",
     "data": {
      "text/plain": [
       "[]"
      ]
     },
     "metadata": {},
     "execution_count": 116
    },
    {
     "output_type": "display_data",
     "data": {
      "text/plain": [
       "<Figure size 432x288 with 1 Axes>"
      ],
      "image/png": "[encoded data removed]"
     },
     "metadata": {
      "needs_background": "light"
     }
    }
   ],
   "metadata": {}
  },
  {
   "cell_type": "markdown",
   "source": [
    "Even if such an experiment is not fully exhaustive to get conclusions in a real setting, we can easily see how changing the order of magnitude for n, the average access time is not affected. In order to be fully, one can run the previous cell different time and see that:\n",
    "\n",
    "* There is definitely variance, but it is definitely less than microseconds, and this tells us access time hardly varies.\n",
    "* In the x axis we have the power to which 10 is raised, and in the y axis we have the time in seconds it took to complete, in average, access to any element in the array by index. We can see that the average access time does not change on average."
   ],
   "metadata": {}
  },
  {
   "cell_type": "markdown",
   "source": [
    "### 2. Devise an experiment to verify that get item and set item are 𝑂(1) for dictionaries.\n",
    "\n",
    "We can proceed in the same way we did for the previous exercise. This time, we have to create specific helper methods to generate dictionaries with an increasing number of keys. For semplicity, we will keep the length of keys variable between some sort of range, as well as the value of those keys."
   ],
   "metadata": {}
  },
  {
   "cell_type": "code",
   "execution_count": 140,
   "source": [
    "def make_dict(n):\n",
    "    chars = [chr(w) for w in range(ord(\"A\"), ord(\"z\")) if chr(w).isalpha()]\n",
    "    n_chars = len(chars)\n",
    "    \n",
    "    return {\"\".join(random.sample(chars, n_chars)[:i]):  \n",
    "            \"\".join(random.sample(chars, n_chars)[-j:])\n",
    "            for (i, j) in zip(random.choices(range(n_chars), k=n), random.choices(range(n_chars), k=n))}\n",
    "\n",
    "def make_dicts_to_magnitude(base, power):\n",
    "    return [make_dict(base ** i) for i in range(1, power + 1)]\n"
   ],
   "outputs": [],
   "metadata": {}
  },
  {
   "cell_type": "markdown",
   "source": [
    "Now we can proceed to create a method to get a vector of averages."
   ],
   "metadata": {}
  },
  {
   "cell_type": "code",
   "execution_count": 144,
   "source": [
    "def average_by_n_dict(base, power):\n",
    "    dicts = make_dicts_to_magnitude(base, power)\n",
    "    averages_get = []\n",
    "    averages_set = []\n",
    "    \n",
    "    for d in dicts:\n",
    "        access_times_get = []\n",
    "        access_times_set = []\n",
    "        \n",
    "        for k in d.keys():\n",
    "            s = time.time()\n",
    "            v = d[k]\n",
    "            e = time.time() \n",
    "            \n",
    "            access_times_get += [e - s]\n",
    "\n",
    "            s = time.time()\n",
    "            d[k] = v + \" \"\n",
    "            e = time.time() \n",
    "\n",
    "            access_times_set += [e - s]\n",
    "        \n",
    "        averages_get += [np.array(access_times_get).mean()]\n",
    "        averages_set += [np.array(access_times_set).mean()]\n",
    "\n",
    "    return np.array(averages_get), np.array(averages_set)\n",
    "    "
   ],
   "outputs": [],
   "metadata": {}
  },
  {
   "cell_type": "markdown",
   "source": [
    "Let's now get the averages using dictionaries ranging from 10 to a million (of course, we are just picking six of them, representing the different magnitudes).\n",
    "\n",
    "__Warning!__\n",
    "Depending on the input values, the function may take a while to compute!"
   ],
   "metadata": {}
  },
  {
   "cell_type": "code",
   "execution_count": 145,
   "source": [
    "averages_get, averages_set = average_by_n_dict(10, 6)"
   ],
   "outputs": [],
   "metadata": {}
  },
  {
   "cell_type": "markdown",
   "source": [
    "Let's now see how the two dictionary operations performed!"
   ],
   "metadata": {}
  },
  {
   "cell_type": "code",
   "execution_count": 158,
   "source": [
    "plt.subplot(1, 2, 1)\n",
    "plt.title(\"get()\")\n",
    "plt.xlabel(\"Power of n (base 10)\")\n",
    "plt.scatter(np.arange(1, len(averages_get) + 1), averages_get)\n",
    "plt.subplot(1, 2, 2)\n",
    "plt.title(\"set()\")\n",
    "plt.xlabel(\"Power of n (base 10)\")\n",
    "plt.scatter(np.arange(1, len(averages_set) + 1), averages_set)\n",
    "\n",
    "plt.tight_layout()\n",
    "\n",
    "plt.plot()\n"
   ],
   "outputs": [
    {
     "output_type": "execute_result",
     "data": {
      "text/plain": [
       "[]"
      ]
     },
     "metadata": {},
     "execution_count": 158
    },
    {
     "output_type": "display_data",
     "data": {
      "text/plain": [
       "<Figure size 432x288 with 2 Axes>"
      ],
      "image/png": "[encoded data removed]"
     },
     "metadata": {
      "needs_background": "light"
     }
    }
   ],
   "metadata": {}
  },
  {
   "cell_type": "markdown",
   "source": [
    "Even here, we can see how the time is distributed within a standard deviation which is less than a microsecond, no matter the size. We infer from this fact, `get()` and `set()` take constant time to finish."
   ],
   "metadata": {}
  },
  {
   "cell_type": "markdown",
   "source": [
    "### 3. Devise an experiment that compares the performance of the `del` operator on lists and dictionaries.\n",
    "\n",
    "Let's try"
   ],
   "metadata": {}
  },
  {
   "cell_type": "markdown",
   "source": [],
   "metadata": {}
  }
 ],
 "metadata": {
  "orig_nbformat": 4,
  "language_info": {
   "name": "python",
   "version": "3.9.6",
   "mimetype": "text/x-python",
   "codemirror_mode": {
    "name": "ipython",
    "version": 3
   },
   "pygments_lexer": "ipython3",
   "nbconvert_exporter": "python",
   "file_extension": ".py"
  },
  "kernelspec": {
   "name": "python3",
   "display_name": "Python 3.9.6 64-bit ('base': conda)"
  },
  "interpreter": {
   "hash": "a473aa0524f7e71cff5bf41ad0f6e637ac4e671de457aeaaf8dd3e29779b2e94"
  }
 },
 "nbformat": 4,
 "nbformat_minor": 2
}