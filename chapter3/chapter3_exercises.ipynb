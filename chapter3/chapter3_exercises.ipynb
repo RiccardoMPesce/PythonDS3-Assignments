{
 "cells": [
  {
   "cell_type": "markdown",
   "source": [
    "# Chapter 3 - Exercises\n",
    "\n",
    "### [Link](https://runestone.academy/runestone/books/published/pythonds3/AlgorithmAnalysis/Exercises.html)"
   ],
   "metadata": {}
  },
  {
   "cell_type": "markdown",
   "source": [
    "### 1. Devise an experiment to verify that the list index operator is 𝑂(1)\n",
    "\n",
    "One way to check whether or not the index operator is $O(1)$ is to create different lists with different sizes (in increasing order) and see that the time taken to access an index is independent on the size itself. To achieve so, let us first create an helper function which generates lists of different sizes."
   ],
   "metadata": {}
  },
  {
   "cell_type": "code",
   "execution_count": 42,
   "source": [
    "import random\n",
    "\n",
    "def make_list(n):\n",
    "    return [random.randint(0, n) for _ in range(n)]\n",
    "\n",
    "def make_lists_in_magnitude(base, power):\n",
    "    return [make_list(base ** i) for i in range(1, power + 1)]"
   ],
   "outputs": [],
   "metadata": {}
  },
  {
   "cell_type": "markdown",
   "source": [
    "Now, we can start the experiment by importing the `time` module, together with `numpy` and `pandas` to do the appropriate data analyses. We are going to define modules which will perform the appropriate sampling and analyses by themselves."
   ],
   "metadata": {}
  },
  {
   "cell_type": "code",
   "execution_count": 43,
   "source": [
    "import time \n",
    "import numpy as np\n",
    "import pandas as pd\n",
    "import matplotlib.pyplot as plt\n",
    "\n",
    "def average_by_n(base, power):\n",
    "    lists = make_lists_in_magnitude(base, power)\n",
    "    averages = []\n",
    "    \n",
    "    for ls in lists:\n",
    "        access_times = []\n",
    "        \n",
    "        for i in range(len(ls)):\n",
    "            s = time.time()\n",
    "            v = ls[i]\n",
    "            e = time.time() \n",
    "            \n",
    "            access_times += [e - s]\n",
    "        \n",
    "        averages += [np.array(access_times).mean()]\n",
    "\n",
    "    return np.array(averages)"
   ],
   "outputs": [],
   "metadata": {}
  },
  {
   "cell_type": "markdown",
   "source": [
    "And now, we can experiment with different `n` and see how speed changes. We can set a rather big step size so that we do not make the experiment long and/or heavy."
   ],
   "metadata": {}
  },
  {
   "cell_type": "code",
   "execution_count": 44,
   "source": [
    "averages = average_by_n(10, 6)\n",
    "\n",
    "plt.xlabel(\"Power of n (base 10)\")\n",
    "plt.ylabel(\"Length\")\n",
    "plt.title(\"Access time by magnitude of n\")\n",
    "plt.scatter(np.arange(1, len(averages) + 1), averages)\n",
    "plt.plot()"
   ],
   "outputs": [
    {
     "output_type": "execute_result",
     "data": {
      "text/plain": [
       "[]"
      ]
     },
     "metadata": {},
     "execution_count": 44
    },
    {
     "output_type": "display_data",
     "data": {
      "text/plain": [
       "<Figure size 432x288 with 1 Axes>"
      ],
      "image/png": "[encoded data removed]"
     },
     "metadata": {
      "needs_background": "light"
     }
    }
   ],
   "metadata": {}
  },
  {
   "cell_type": "markdown",
   "source": [
    "Even if such an experiment is not fully exhaustive to get conclusions in a real setting, we can easily see how changing the order of magnitude for n, the average access time is not affected. In order to be fully, one can run the previous cell different time and see that:\n",
    "\n",
    "* There is definitely variance, but it is definitely less than microseconds, and this tells us access time hardly varies.\n",
    "* In the x axis we have the power to which 10 is raised, and in the y axis we have the time in seconds it took to complete, in average, access to any element in the array by index. We can see that the average access time does not change on average."
   ],
   "metadata": {}
  },
  {
   "cell_type": "markdown",
   "source": [
    "### 2. Devise an experiment to verify that get item and set item are 𝑂(1) for dictionaries.\n",
    "\n",
    "We can proceed in the same way we did for the previous exercise. This time, we have to create specific helper methods to generate dictionaries with an increasing number of keys. For semplicity, we will keep the length of keys variable between some sort of range, as well as the value of those keys."
   ],
   "metadata": {}
  },
  {
   "cell_type": "code",
   "execution_count": 45,
   "source": [
    "def make_dict(n, kv_len=10):\n",
    "    chars = [chr(w) for w in range(ord(\"A\"), ord(\"z\")) if chr(w).isalpha()]\n",
    "    d = {}\n",
    "\n",
    "    for _ in range(n):\n",
    "        k = \"\".join(random.choices(chars, k=kv_len))\n",
    "        while k in d:\n",
    "            k = \"\".join(random.choices(chars, k=kv_len))\n",
    "        v = \"\".join(random.choices(chars, k=kv_len))\n",
    "        d[k] = v\n",
    "    \n",
    "    return d\n",
    "\n",
    "def make_dicts_to_magnitude(base, power, kv_len=10):\n",
    "    return [make_dict(base ** i, kv_len=kv_len) for i in range(1, power + 1)]\n",
    "\n",
    "print(len(make_dict(2)))\n"
   ],
   "outputs": [
    {
     "output_type": "stream",
     "name": "stdout",
     "text": [
      "2\n"
     ]
    }
   ],
   "metadata": {}
  },
  {
   "cell_type": "markdown",
   "source": [
    "Now we can proceed to create a method to get a vector of averages."
   ],
   "metadata": {}
  },
  {
   "cell_type": "code",
   "execution_count": 46,
   "source": [
    "def average_by_n_dict(base, power, kv_len=10):\n",
    "    dicts = make_dicts_to_magnitude(base, power, kv_len=kv_len)\n",
    "    averages_get = []\n",
    "    averages_set = []\n",
    "    \n",
    "    for d in dicts:\n",
    "        access_times_get = []\n",
    "        access_times_set = []\n",
    "        \n",
    "        for k in d.keys():\n",
    "            s = time.time()\n",
    "            v = d[k]\n",
    "            e = time.time() \n",
    "            \n",
    "            access_times_get += [e - s]\n",
    "\n",
    "            s = time.time()\n",
    "            d[k] = v + \" \"\n",
    "            e = time.time() \n",
    "\n",
    "            access_times_set += [e - s]\n",
    "        \n",
    "        averages_get += [np.array(access_times_get).mean()]\n",
    "        averages_set += [np.array(access_times_set).mean()]\n",
    "\n",
    "    return np.array(averages_get), np.array(averages_set)\n",
    "    "
   ],
   "outputs": [],
   "metadata": {}
  },
  {
   "cell_type": "markdown",
   "source": [
    "Let's now get the averages using dictionaries ranging from 10 to a million (of course, we are just picking six of them, representing the different magnitudes).\n",
    "\n",
    "__Warning!__\n",
    "Depending on the input values, the function may take a while to compute!"
   ],
   "metadata": {}
  },
  {
   "cell_type": "code",
   "execution_count": 47,
   "source": [
    "averages_get, averages_set = average_by_n_dict(10, 6)"
   ],
   "outputs": [],
   "metadata": {}
  },
  {
   "cell_type": "markdown",
   "source": [
    "Let's now see how the two dictionary operations performed!"
   ],
   "metadata": {}
  },
  {
   "cell_type": "code",
   "execution_count": 48,
   "source": [
    "plt.subplot(1, 2, 1)\n",
    "plt.title(\"get()\")\n",
    "plt.xlabel(\"Power of n (base 10)\")\n",
    "plt.scatter(np.arange(1, len(averages_get) + 1), averages_get)\n",
    "plt.subplot(1, 2, 2)\n",
    "plt.title(\"set()\")\n",
    "plt.xlabel(\"Power of n (base 10)\")\n",
    "plt.scatter(np.arange(1, len(averages_set) + 1), averages_set)\n",
    "\n",
    "plt.tight_layout()\n",
    "\n",
    "plt.plot()\n"
   ],
   "outputs": [
    {
     "output_type": "execute_result",
     "data": {
      "text/plain": [
       "[]"
      ]
     },
     "metadata": {},
     "execution_count": 48
    },
    {
     "output_type": "display_data",
     "data": {
      "text/plain": [
       "<Figure size 432x288 with 2 Axes>"
      ],
      "image/png": "[encoded data removed]"
     },
     "metadata": {
      "needs_background": "light"
     }
    }
   ],
   "metadata": {}
  },
  {
   "cell_type": "markdown",
   "source": [
    "Even here, we can see how the time is distributed within a standard deviation which is less than a microsecond, no matter the size. We infer from this fact, `get()` and `set()` take constant time to finish."
   ],
   "metadata": {}
  },
  {
   "cell_type": "markdown",
   "source": [
    "### 3. Devise an experiment that compares the performance of the `del` operator on lists and dictionaries.\n",
    "\n",
    "To test this, what I am going to do is to create two routines which give us the appropriate vectors of averages used to see the performances. To do so, I want to create a function sample, which sample a deletion time from a list and a dictionary, so that we can build up"
   ],
   "metadata": {}
  },
  {
   "cell_type": "code",
   "execution_count": 49,
   "source": [
    "def sample_time_del_list(n):\n",
    "    l = [0] * n\n",
    "    i = random.randint(0, n - 1)\n",
    "    s = time.time()\n",
    "    del l[i]\n",
    "    e = time.time()\n",
    "\n",
    "    return e - s\n",
    "\n",
    "def sample_time_del_dict(n):\n",
    "    d = {str(i): i for i in range(n)}\n",
    "    i = str(random.randint(0, n - 1))\n",
    "    s = time.time()\n",
    "    del d[i]\n",
    "    e = time.time()\n",
    "\n",
    "    return e - s\n",
    "\n",
    "def average_sample_n_times(n_elements, n_times, sampling_function):\n",
    "    return np.array([sampling_function(n_elements) for _ in range(n_times)]).mean()\n",
    "\n",
    "def make_statistics_vector(base, power, sample_size, sampling_method):\n",
    "    return np.array([average_sample_n_times(base ** i, sample_size, sampling_method) for i in range(1, power + 1)])\n",
    "\n",
    "def make_statistics_vector_in_range(begin, end, step, sample_size, sampling_method):\n",
    "    return np.array([average_sample_n_times(i, sample_size, sampling_method) for i in range(begin, end + 1, step)])\n",
    "    "
   ],
   "outputs": [],
   "metadata": {}
  },
  {
   "cell_type": "markdown",
   "source": [
    "Now let's proceed with the creation of the two vectors of statistics. We can use the previously defined methods. We can proceed by creating a vector of operation times, where the input_size `n` varies by order of magnitude (defined as powers of 10)."
   ],
   "metadata": {}
  },
  {
   "cell_type": "code",
   "execution_count": 56,
   "source": [
    "del_stats_list = make_statistics_vector_in_range(1, 1000000, 50000, 16, sample_time_del_list)\n",
    "del_stats_dict = make_statistics_vector_in_range(1, 1000000, 50000, 16, sample_time_del_dict)"
   ],
   "outputs": [],
   "metadata": {}
  },
  {
   "cell_type": "markdown",
   "source": [
    "Let's plot the resulting vectors. Remember that they contain the average (on 8 samples in this case) of the operation time for `del`. The more precise we want to be, the more samples we need to consider."
   ],
   "metadata": {}
  },
  {
   "cell_type": "code",
   "execution_count": 58,
   "source": [
    "plt.subplot(1, 2, 1)\n",
    "plt.title(\"List del\")\n",
    "plt.scatter(np.arange(1, len(del_stats_list) + 1), del_stats_list)\n",
    "plt.subplot(1, 2, 2)\n",
    "plt.title(\"Dict del\")\n",
    "plt.scatter(np.arange(1, len(del_stats_dict) + 1), del_stats_dict)\n",
    "\n",
    "plt.tight_layout()\n",
    "\n",
    "plt.plot()"
   ],
   "outputs": [
    {
     "output_type": "execute_result",
     "data": {
      "text/plain": [
       "[]"
      ]
     },
     "metadata": {},
     "execution_count": 58
    },
    {
     "output_type": "display_data",
     "data": {
      "text/plain": [
       "<Figure size 432x288 with 2 Axes>"
      ],
      "image/png": "[encoded data removed]"
     },
     "metadata": {
      "needs_background": "light"
     }
    }
   ],
   "metadata": {}
  },
  {
   "cell_type": "markdown",
   "source": [
    "__Note__: we can definitely see a trend in the list operation. In particular, it seems that time required increases with size. For the dictionary, we can see a different thing: at times it seems constant while at other times, we also see a linear trend. "
   ],
   "metadata": {}
  },
  {
   "cell_type": "markdown",
   "source": [
    "### 4. Given a list of numbers in random order, write an algorithm that works in 𝑂(𝑛log(𝑛)) to find the kth smallest number in the list.\n",
    "\n",
    "A basic solution, knowing that the `.sort()` method works in $O(nlog(n))$ and indexing works in constant time, is to just sort the list and return the k-th element. "
   ],
   "metadata": {}
  },
  {
   "cell_type": "code",
   "execution_count": null,
   "source": [
    "def kth_smallest(ls, k):\n",
    "    try:\n",
    "        a = sorted(ls)[k]\n",
    "    except IndexError:\n",
    "        print(\"Error! Returning the biggest (least small).\")\n",
    "        a = sorted(ls)[-1]\n",
    "\n",
    "    return a\n"
   ],
   "outputs": [],
   "metadata": {}
  },
  {
   "cell_type": "markdown",
   "source": [
    "### 5. Can you improve the algorithm from the previous problem to be linear? Explain.\n",
    "\n",
    "The alternative here uses a fixed number of iterations (less than $n$) over the array, and builds up an array of size $m$ where $m = max(array)$, to store the values of the first array, is such a way that:\n",
    "`new_array[n + offset] = n if n in array, else sentinel`. Sentinel is a value that is set to `max + 1` for commodity. The value offset helps us accomodate non negative values in their appropriate position. Once the filling process is completed, we remove all the sentinel values. This is quite not a linear solution, but rather $O(n + k)$, where $k$ is the size of the second array."
   ],
   "metadata": {}
  },
  {
   "cell_type": "code",
   "execution_count": null,
   "source": [
    "def kth_smallest_linear(ls, k):\n",
    "    biggest = max(ls)\n",
    "    smallest = min(ls)\n",
    "\n",
    "    offset = abs(smallest) if smallest < 0 else 0\n",
    "\n",
    "    sentinel = biggest + 1\n",
    "    counting_arr = [sentinel] * biggest\n",
    "\n",
    "    for n in ls:\n",
    "        counting_arr[n + offset] = n \n",
    "\n",
    "    while sentinel in counting_arr:\n",
    "        counting_arr.remove(sentinel)\n",
    "\n",
    "    try:\n",
    "        a = counting_arr[k]\n",
    "    except IndexError:\n",
    "        print(\"Error! Returning the biggest (least small).\")\n",
    "        a = counting_arr[-1]\n",
    "\n",
    "    return a\n"
   ],
   "outputs": [],
   "metadata": {}
  }
 ],
 "metadata": {
  "orig_nbformat": 4,
  "language_info": {
   "name": "python",
   "version": "3.9.6",
   "mimetype": "text/x-python",
   "codemirror_mode": {
    "name": "ipython",
    "version": 3
   },
   "pygments_lexer": "ipython3",
   "nbconvert_exporter": "python",
   "file_extension": ".py"
  },
  "kernelspec": {
   "name": "python3",
   "display_name": "Python 3.9.6 64-bit ('base': conda)"
  },
  "interpreter": {
   "hash": "a473aa0524f7e71cff5bf41ad0f6e637ac4e671de457aeaaf8dd3e29779b2e94"
  }
 },
 "nbformat": 4,
 "nbformat_minor": 2
}