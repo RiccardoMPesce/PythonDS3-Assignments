{
 "cells": [
  {
   "cell_type": "markdown",
   "source": [
    "# Chapter 1 - Discussion Questions \n",
    "\n",
    "### [Link](https://runestone.academy/runestone/books/published/pythonds3/AlgorithmAnalysis/DiscussionQuestions.html) "
   ],
   "metadata": {}
  },
  {
   "cell_type": "markdown",
   "source": [
    "### 1. Give the Big-O performance of the following code fragment:\n",
    "\n",
    "```\n",
    "for i in range(n):\n",
    "   for j in range(n):\n",
    "      k = 2 + 2\n",
    "```\n",
    "\n",
    "The __Big-O__ performance is $O(n^2)$ given that we have two `for` loops, both iterating $n$ times."
   ],
   "metadata": {}
  },
  {
   "cell_type": "markdown",
   "source": [
    "### 2. Give the Big-O performance of the following code fragment:\n",
    "\n",
    "```\n",
    "for i in range(n):\n",
    "    k = 2 + 2\n",
    "```\n",
    "\n",
    "The __Big-O__ performance is $O(n)$ since we have only one `for` loop, iterating $n$ times."
   ],
   "metadata": {}
  },
  {
   "cell_type": "markdown",
   "source": [
    "### 3. Give the Big-O performance of the following code fragment:\n",
    "\n",
    "```\n",
    "i = n\n",
    "while i > 0:\n",
    "   k = 2 + 2\n",
    "   i = i // 2\n",
    "```\n",
    "\n",
    "Here we have an interesting fact which we will encounter in the __Binary Search__ algorithm: we initialize the loop control variable `i` to `n` and at each iteration we halve it. Each time, we are decrementing `i` by an amount which is variable and only depends upon `i` itself. The __Big-O__ performance is, in this case, $O(log(n))$, where we use the base-2 logarithm."
   ],
   "metadata": {}
  },
  {
   "cell_type": "markdown",
   "source": [
    "### 4. Give the Big-O performance of the following code fragment:\n",
    "\n",
    "```\n",
    "for i in range(n):\n",
    "   for j in range(n):\n",
    "      for k in range(n):\n",
    "         k = 2 + 2\n",
    "```\n",
    "\n",
    "The __Big-O__ performance of such code fragment is $O(n^3)$.\n"
   ],
   "metadata": {}
  },
  {
   "cell_type": "markdown",
   "source": [
    "### 5. Give the Big-O performance of the following code fragment:\n",
    "\n",
    "```\n",
    "for i in range(n):\n",
    "   k = 2 + 2\n",
    "for j in range(n):\n",
    "   k = 2 + 2\n",
    "for k in range(n):\n",
    "   k = 2 + 2\n",
    "```\n",
    "\n",
    "Given that each of the three sequential loops is iterating `n` times, the __Big-O__ performance is $O(n)$."
   ],
   "metadata": {}
  }
 ],
 "metadata": {
  "orig_nbformat": 4,
  "language_info": {
   "name": "python",
   "version": "3.9.6"
  },
  "kernelspec": {
   "name": "python3",
   "display_name": "Python 3.9.6 64-bit ('base': conda)"
  },
  "interpreter": {
   "hash": "a473aa0524f7e71cff5bf41ad0f6e637ac4e671de457aeaaf8dd3e29779b2e94"
  }
 },
 "nbformat": 4,
 "nbformat_minor": 2
}