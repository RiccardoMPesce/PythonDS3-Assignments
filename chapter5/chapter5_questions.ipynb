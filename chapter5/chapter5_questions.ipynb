{
 "cells": [
  {
   "cell_type": "markdown",
   "source": [
    "# Chapter 5 - Discussion Questions"
   ],
   "metadata": {}
  },
  {
   "cell_type": "markdown",
   "source": [
    "### 1. Draw a call stack for the Tower of Hanoi problem. Assume that you start with a stack of three disks.\n",
    "\n",
    "We can call just call the function with above parameters and at each recursive call we keep track of the parameters passed."
   ],
   "metadata": {}
  },
  {
   "cell_type": "code",
   "execution_count": 16,
   "source": [
    "def move_tower(height, from_pole, to_pole, with_pole, tracing_execution=False, move_verbose=True):\n",
    "    if height >= 1:\n",
    "        move_tower(height - 1, from_pole, with_pole, to_pole, tracing_execution, move_verbose)\n",
    "        if tracing_execution:\n",
    "            print(f\"move_tower({height - 1}, {from_pole}, {with_pole}, {to_pole})\")\n",
    "        move_disk(from_pole, to_pole, move_verbose)\n",
    "        if tracing_execution:\n",
    "            print(f\"move_disk({from_pole}, {to_pole})\")\n",
    "        move_tower(height - 1, with_pole, to_pole, from_pole, tracing_execution, move_verbose)\n",
    "        if tracing_execution:\n",
    "            print(f\"move_tower({height - 1}, {with_pole}, {to_pole}, {from_pole})\")\n",
    "\n",
    "def move_disk(from_p, to_p, verbose=True):\n",
    "    if verbose:\n",
    "        print(\"moving disk from\", from_p, \"to\", to_p)\n",
    "\n",
    "move_tower(3, \"A\", \"B\", \"C\", True, False)\n"
   ],
   "outputs": [
    {
     "output_type": "stream",
     "name": "stdout",
     "text": [
      "move_tower(0, A, C, B)\n",
      "move_disk(A, B)\n",
      "move_tower(0, C, B, A)\n",
      "move_tower(1, A, B, C)\n",
      "move_disk(A, C)\n",
      "move_tower(0, B, A, C)\n",
      "move_disk(B, C)\n",
      "move_tower(0, A, C, B)\n",
      "move_tower(1, B, C, A)\n",
      "move_tower(2, A, C, B)\n",
      "move_disk(A, B)\n",
      "move_tower(0, C, B, A)\n",
      "move_disk(C, A)\n",
      "move_tower(0, B, A, C)\n",
      "move_tower(1, C, A, B)\n",
      "move_disk(C, B)\n",
      "move_tower(0, A, C, B)\n",
      "move_disk(A, B)\n",
      "move_tower(0, C, B, A)\n",
      "move_tower(1, A, B, C)\n",
      "move_tower(2, C, B, A)\n"
     ]
    }
   ],
   "metadata": {}
  },
  {
   "cell_type": "markdown",
   "source": [
    "By reading from the top to the bottom, we have the call stack when calling the tower of Hanoi algorithm with three disks and three poles."
   ],
   "metadata": {}
  },
  {
   "cell_type": "markdown",
   "source": [
    "### 2. Using the recursive rules as described, draw a Sierpinski triangle using paper and pencil.\n",
    "\n",
    "We just describe how to draw it. First off, we need the code. "
   ],
   "metadata": {}
  },
  {
   "cell_type": "code",
   "execution_count": 17,
   "source": [
    "import turtle\n",
    "\n",
    "def draw_triangle(points, color, my_turtle):\n",
    "    my_turtle.fillcolor(color)\n",
    "    my_turtle.up()\n",
    "    my_turtle.goto(points[0][0], points[0][1])\n",
    "    my_turtle.down()\n",
    "    my_turtle.begin_fill()\n",
    "    my_turtle.goto(points[1][0], points[1][1])\n",
    "    my_turtle.goto(points[2][0], points[2][1])\n",
    "    my_turtle.goto(points[0][0], points[0][1])\n",
    "    my_turtle.end_fill()\n",
    "\n",
    "\n",
    "def get_mid(p1, p2):\n",
    "    return ((p1[0] + p2[0]) / 2, (p1[1] + p2[1]) / 2)\n",
    "\n",
    "\n",
    "def sierpinski(points, degree, my_turtle):\n",
    "    colormap = [\"blue\", \"red\", \"green\", \"white\", \"yellow\", \"violet\", \"orange\"]\n",
    "    draw_triangle(points, colormap[degree], my_turtle)\n",
    "    if degree > 0:\n",
    "        sierpinski(\n",
    "            [points[0], get_mid(points[0], points[1]), get_mid(points[0], points[2])],\n",
    "            degree - 1,\n",
    "            my_turtle,\n",
    "        )\n",
    "        sierpinski(\n",
    "            [points[1], get_mid(points[0], points[1]), get_mid(points[1], points[2])],\n",
    "            degree - 1,\n",
    "            my_turtle,\n",
    "        )\n",
    "        sierpinski(\n",
    "            [points[2], get_mid(points[2], points[1]), get_mid(points[0], points[2])],\n",
    "            degree - 1,\n",
    "            my_turtle,\n",
    "        )\n"
   ],
   "outputs": [],
   "metadata": {}
  },
  {
   "cell_type": "markdown",
   "source": [
    "At each recursive call, `degree` is decreased: degree tells us how many triangles are we going to draw, at each of the three sides. Therefore, we start with the leftmost triangle(s), and after the inner-most triangle is done being drawn (`degree` is zero in this subcall), we proceed to draw the next (righ-most) triangle, from the inside out."
   ],
   "metadata": {}
  },
  {
   "cell_type": "markdown",
   "source": [
    "### 3. Using the dynamic programming algorithm for making change, find the smallest number of coins that you can use to make 33 cents in change. In addition to the usual coins assume that you have an 8 cent coin."
   ],
   "metadata": {}
  },
  {
   "cell_type": "code",
   "execution_count": 70,
   "source": [
    "def coin_change(change, coins_available):\n",
    "    min_amounts = []\n",
    "\n",
    "    for i in range(change + 1):\n",
    "        min_amounts += [[i, []]]\n",
    "\n",
    "        min_change = i\n",
    "        min_amount = [[1]] * i\n",
    "\n",
    "        for coin in [c for c in coins_available if c <= i]:\n",
    "            if 1 + min_amounts[i - coin][0] < min_change:\n",
    "                min_change = 1 + min_amounts[i - coin][0]\n",
    "                min_amount = [coin] + min_amounts[i - coin][1]\n",
    "        \n",
    "        min_amounts[i][0] = min_change\n",
    "        min_amounts[i][1] = min_amount\n",
    "        \n",
    "    return min_amounts[change][1]\n",
    "\n",
    "coin_change(33, [1, 2, 5, 8, 10, 20, 50])"
   ],
   "outputs": [
    {
     "output_type": "execute_result",
     "data": {
      "text/plain": [
       "[5, 8, 20]"
      ]
     },
     "metadata": {},
     "execution_count": 70
    }
   ],
   "metadata": {}
  },
  {
   "cell_type": "markdown",
   "source": [
    "We can see how adding $8$ cents coins gave us above change."
   ],
   "metadata": {}
  }
 ],
 "metadata": {
  "orig_nbformat": 4,
  "language_info": {
   "name": "python",
   "version": "3.9.7",
   "mimetype": "text/x-python",
   "codemirror_mode": {
    "name": "ipython",
    "version": 3
   },
   "pygments_lexer": "ipython3",
   "nbconvert_exporter": "python",
   "file_extension": ".py"
  },
  "kernelspec": {
   "name": "python3",
   "display_name": "Python 3.9.7 64-bit ('base': conda)"
  },
  "interpreter": {
   "hash": "a473aa0524f7e71cff5bf41ad0f6e637ac4e671de457aeaaf8dd3e29779b2e94"
  }
 },
 "nbformat": 4,
 "nbformat_minor": 2
}