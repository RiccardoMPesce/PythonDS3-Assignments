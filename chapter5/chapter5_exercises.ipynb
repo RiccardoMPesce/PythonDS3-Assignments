{
 "cells": [
  {
   "cell_type": "markdown",
   "source": [
    "# Chapter 5 - Exercises"
   ],
   "metadata": {}
  },
  {
   "cell_type": "markdown",
   "source": [
    "### 1. Write a recursive function to compute the factorial of a number."
   ],
   "metadata": {}
  },
  {
   "cell_type": "code",
   "execution_count": 2,
   "source": [
    "def recursive_factorial(n):\n",
    "    return 1 if n <= 1 else n * recursive_factorial(n - 1)\n"
   ],
   "outputs": [],
   "metadata": {}
  },
  {
   "cell_type": "markdown",
   "source": [
    "### 2. Write a recursive function to reverse a list."
   ],
   "metadata": {}
  },
  {
   "cell_type": "code",
   "execution_count": 3,
   "source": [
    "def reverse(s):\n",
    "    return s if len(s) <= 1 else s[-1] + reverse(s[1:-1]) + s[0]\n",
    "        "
   ],
   "outputs": [],
   "metadata": {}
  },
  {
   "cell_type": "markdown",
   "source": [
    "### 3. Modify the recursive tree program using one or all of the following ideas:\n",
    "\n",
    "* ### Modify the thickness of the branches so that as the `branch_len` gets smaller, the line gets thinner.\n",
    "\n",
    "* ### Modify the color of the branches so that as the `branch_len` gets very short it is colored like a leaf.\n",
    "\n",
    "* ### Modify the angle used in turning the turtle so that at each branch point the angle is selected at random in some range. For example choose the angle between 15 and 45 degrees. Play around to see what looks good.\n",
    "\n",
    "* ### Modify the `branch_len` recursively so that instead of always subtracting the same amount you subtract a random amount in some range.\n",
    "\n",
    "### If you implement all of the above ideas you will have a very realistic looking tree.\n",
    "\n",
    "We already answered that question in the relevant paragraph (link to the script [here](fractal.py))."
   ],
   "metadata": {}
  },
  {
   "cell_type": "code",
   "execution_count": 4,
   "source": [
    "import turtle\n",
    "import random\n",
    "\n",
    "def tree(branch_len, min_step, max_step, t):\n",
    "    t.color((0, 255 - branch_len if branch_len >= 0 else 255, 0))\n",
    "    t.pensize(branch_len ** (1 / 2))\n",
    "    a1 = random.randint(15, 45)\n",
    "    a2 = random.randint(15, 45)\n",
    "    step = random.randint(min_step, max_step)\n",
    "    if branch_len >= min_step:\n",
    "        t.forward(branch_len)\n",
    "        t.right(a1)\n",
    "        tree(branch_len - step, min_step, max_step, t)\n",
    "        t.left(a1 + a2)\n",
    "        tree(branch_len - step, min_step, max_step, t)\n",
    "        t.right(a2)\n",
    "        t.up()\n",
    "        t.backward(branch_len)\n",
    "        t.down()\n"
   ],
   "outputs": [],
   "metadata": {}
  },
  {
   "cell_type": "markdown",
   "source": [
    "### 4. Find or invent an algorithm for drawing a fractal mountain. Hint: One approach to this uses triangles again.\n",
    "\n",
    "We used the file `mountain.py` ([here](mountain.py)), since the `turtle` module does not work well on notebooks.\n",
    "One can implement a function to generate random points but the main goal is to create multi levels peaks in our drawings."
   ],
   "metadata": {}
  },
  {
   "cell_type": "markdown",
   "source": [
    "### 5. Write a recursive function to compute the Fibonacci sequence. How does the performance of the recursive function compare to that of an iterative version?\n",
    "\n",
    "Let's try both recursive and iterative approaches and evaluate them for each input size."
   ],
   "metadata": {}
  },
  {
   "cell_type": "code",
   "execution_count": 5,
   "source": [
    "def iterative_fibonacci(n):\n",
    "    values = [0, 1]\n",
    "    for i in range(2, n + 1):\n",
    "        values += [values[i - 2] + values[i - 1]] \n",
    "    \n",
    "    return values[n]\n",
    "\n",
    "def recursive_fibonacci(n):\n",
    "    return n if n <= 1 else recursive_fibonacci(n - 2) + recursive_fibonacci(n - 1)\n"
   ],
   "outputs": [],
   "metadata": {}
  },
  {
   "cell_type": "markdown",
   "source": [
    "Let's now try with some inputs and measure the times."
   ],
   "metadata": {}
  },
  {
   "cell_type": "code",
   "execution_count": 6,
   "source": [
    "import time\n",
    "\n",
    "import numpy as np \n",
    "import pandas as pd \n",
    "import matplotlib.pyplot as plt\n",
    "\n",
    "values = range(36)\n",
    "iterative_times = []\n",
    "recursive_times = []\n",
    "for value in values:\n",
    "    b = time.time()\n",
    "    val = iterative_fibonacci(value)\n",
    "    e = time.time()\n",
    "    iterative_times += [e - b] \n",
    "\n",
    "    b = time.time()\n",
    "    val = recursive_fibonacci(value)\n",
    "    e = time.time()\n",
    "    recursive_times += [e - b] \n",
    "\n",
    "comparison_df = pd.DataFrame({\"iterative\": iterative_times, \"recursive\": recursive_times})\n",
    "\n",
    "comparison_df.plot()\n",
    "plt.xlabel(\"n\")\n",
    "plt.ylabel(\"time\")\n",
    "plt.show()"
   ],
   "outputs": [
    {
     "output_type": "display_data",
     "data": {
      "image/png": "[encoded data removed]",
      "text/plain": [
       "<Figure size 432x288 with 1 Axes>"
      ]
     },
     "metadata": {
      "needs_background": "light"
     }
    }
   ],
   "metadata": {}
  },
  {
   "cell_type": "markdown",
   "source": [
    "We see how the recursive approach does not scale well as the input gets bigger."
   ],
   "metadata": {}
  },
  {
   "cell_type": "markdown",
   "source": [
    "### 6. Implement a solution to the Tower of Hanoi using three stacks to keep track of the disks.\n",
    "\n",
    "We just need to implement the poles using the `Stack` data structure. We initiate the first peg at the first iteration."
   ],
   "metadata": {}
  },
  {
   "cell_type": "code",
   "execution_count": 20,
   "source": [
    "from pythonds3 import Stack\n",
    "\n",
    "def move_tower(height, from_pole, to_pole, with_pole):\n",
    "    if from_pole.is_empty() and to_pole.is_empty() and with_pole.is_empty():\n",
    "        for i in range(1, height + 1):\n",
    "            from_pole.push(f\"disk{i}\")\n",
    "    if height >= 1:\n",
    "        move_tower(height - 1, from_pole, with_pole, to_pole)\n",
    "        move_disk(from_pole, to_pole)\n",
    "        to_pole.push(from_pole.pop())\n",
    "        move_tower(height - 1, with_pole, to_pole, from_pole)\n",
    "\n",
    "def move_disk(from_p, to_p):\n",
    "    print(\"moving disk from\", from_p.name, \"to\", to_p.name)\n",
    "\n",
    "\n",
    "A = Stack()\n",
    "B = Stack()\n",
    "C = Stack()\n",
    "\n",
    "A.name = \"A\"\n",
    "B.name = \"B\"\n",
    "C.name = \"C\"\n",
    "\n",
    "move_tower(3, A, B, C)"
   ],
   "outputs": [
    {
     "output_type": "stream",
     "name": "stdout",
     "text": [
      "moving disk from A to B\n",
      "moving disk from A to C\n",
      "moving disk from B to C\n",
      "moving disk from A to B\n",
      "moving disk from C to A\n",
      "moving disk from C to B\n",
      "moving disk from A to B\n"
     ]
    }
   ],
   "metadata": {}
  },
  {
   "cell_type": "markdown",
   "source": [
    "We added a property to the `Stack` objects to differentiate the names and so to better illustrate the passages in the `move_disk()`."
   ],
   "metadata": {}
  },
  {
   "cell_type": "markdown",
   "source": [
    "### 7. Using the turtle graphics module, write a recursive program to display a Hilbert curve.\n",
    "\n",
    "Solution is in the file `hilbert.py` ([here](./hilbert.py)). However, the code needs some explanation, since it might not be intuitive at all.\n",
    "\n",
    "```\n",
    "def hilbert(t, order, direction, step):\n",
    "    print(f\"Calling hilbert with order {order}, direction {direction}, step {step}.\")\n",
    "    if order > 0:\n",
    "        t.left(direction * 90)\n",
    "        hilbert(t, order - 1, - direction, step)\n",
    "        t.forward(step)\n",
    "        t.right(direction * 90)\n",
    "        hilbert(t, order - 1, direction, step)\n",
    "        t.forward(step)\n",
    "        hilbert(t, order - 1, direction, step)\n",
    "        t.right(direction * 90)\n",
    "        t.forward(step)\n",
    "        hilbert(t, order - 1, - direction, step)\n",
    "        t.left(direction * 90)\n",
    "```\n",
    "\n",
    "If we want to draw a first order Hilbert's curve (`hilbert(t, order=1, direction=1, step)`), we see that all the recursive subcalls won't do anything, as the drawing will be done only if the if order is greater than zero, therefore calling the function with order set to zero won't do anything. In this case, we are going to draw a first order Hilbert's curve by turning left by 90 degree, stepping forward, turning right by 90 degree, stepping forward, turning right again by 90 degree, stepping forward and turning left. This will draw the reversed _U_ shape of the first order Hilbert's curve.\n",
    "\n",
    "Now, let's assume `hilbert(t, order=2, direction=1, step)`. In order to write a continuous Hilbert's curve, we have to find a way to connect all the first order Hilbert's curves at the sides of the $2^{order} \\times 2^{order} = 2^{2} \\times 2^{2} = 4 \\times 4$ plane. If we simply draw 4 Hilbert's curves in the same way we do for first order curves, then to connect them we would make \"jumps\" that would make the final curve itself discontinuous.\n",
    "Having acknowledged this fact, and the fact that `direction = 1` always in the first call (you could make it -1 too, but that would turn the final curve upside down, which is also valid - the most important thing is to set direction either to 1 or -1), let's go step by step:\n",
    "\n",
    "1. Turn left by direction * 90 degrees (this is always true).\n",
    "2. Call the function `hilbert(t, order - 1, - direction, step)`. We call the function with the order reduced by one and the direction turned. In this subcall, we notice that the turtle will turn left by -90 degree, which basically means to turn right by 90 degrees. Since `order = 1`, we follow all the steps to make a first order curve.\n",
    "3. Step forward.\n",
    "4. Turn right by `direction * 90` degrees (we are back again the main call).\n",
    "5. Call `hilbert(t, order - 1, direction, step)`. Direction is not inverted since we need to draw this curves starting (in our case) from the left to the right.\n",
    "6. Step forward.\n",
    "7. Call `hilbert(t, order - 1, direction, step)`. Direction is not inverted again for the same reason as point (5).\n",
    "9. Turn right by `direction * 90`.\n",
    "10. Step forward.\n",
    "11. Call `hilbert(t, order - 1, - direction, step)`. Here we need to draw it inversely.\n",
    "12. Turn left by `direction * 90`.\n",
    "\n",
    "With higher orders, the procedure is similiar. See that turning left (or right, depending on the value of the angle) at the end will make us directly step forward at the end of each recursive call.\n",
    "\n",
    "This is not the only possible way to achieve this, but it's a way suggested by many tutorials online too."
   ],
   "metadata": {}
  },
  {
   "cell_type": "markdown",
   "source": [
    "### 8. Using the turtle graphics module, write a recursive program to display a Koch snowflake.\n",
    "\n",
    "Solution is at `koch.py` file ([here](./koch.py)). The code does need some points clarified.\n",
    "\n",
    "* The way we go about solving the problem is by drawing three koch curves, each at 120 degrees to the left from the previous one.\n",
    "* A zero order curve is a straight line.\n",
    "* The recursive step here is to start with the smallest curve at the beginning of the routine, increase till the central main peak, from which we repeat the same process in both sides (of making the differently sized peaks) by changing the angle, and then repeat till the other end. \n",
    "* Repeat three times (fixed), turning left by 120 degrees each time."
   ],
   "metadata": {}
  },
  {
   "cell_type": "markdown",
   "source": [
    "### 9. Write a program to solve the following problem: You have two jugs: a 4-gallon jug and a 3-gallon jug. Neither of the jugs have markings on them. There is a pump that can be used to fill the jugs with water. How can you get exactly two gallons of water in the 4-gallon jug?\n",
    "\n",
    "The trick is to use _memoization_ so that we can store the result of a previous recursive subcall and return it instead of re-entering the computation again: if we do the latter, we end up having some issues such as reaching the recursion call stack limit. The trick to solve the problem is to return True if the first jug has the desired amount (i.e. 2 in our case) or to call with all the valid combinations starting from the current combination (knowing we can't measure the quantities, we can empty them or fill them up, eventually leading us with intermediate quantities due to leftovers). When we reach the `True` condition (i.e. the first jug has two galloons of water), we also print the steps we made to reach that result."
   ],
   "metadata": {}
  },
  {
   "cell_type": "code",
   "execution_count": 2,
   "source": [
    "def pour_jug(q1, q2, visited, steps):\n",
    "    if q1 == 2:\n",
    "        steps += [(q1, q2)]\n",
    "        print(steps)\n",
    "        return True\n",
    "    elif (q1, q2) in visited:\n",
    "        return visited[(q1, q2)]\n",
    "    else:\n",
    "        steps += [(q1, q2)]\n",
    "        visited[(q1, q2)] = False\n",
    "        avail1 = 4 - q1 \n",
    "        avail2 = 3 - q2\n",
    "        to1 = q2 if avail1 >= q2 else avail1\n",
    "        to2 = q1 if avail2 >= q1 else avail2\n",
    "        return pour_jug(4, 0, visited, steps) or \\\n",
    "               pour_jug(0, 3, visited, steps) or \\\n",
    "               pour_jug(0, 0, visited, steps) or \\\n",
    "               pour_jug(4, 3, visited, steps) or \\\n",
    "               pour_jug(q1 + to1, q2 - to1, visited, steps) or \\\n",
    "               pour_jug(q1 - to2, q2 + to2, visited, steps) or \\\n",
    "               pour_jug(q1, 0, visited, steps) or \\\n",
    "               pour_jug(0, q2, visited, steps) or \\\n",
    "               pour_jug(q1, 3, visited, steps) or \\\n",
    "               pour_jug(4, q2, visited, steps)\n",
    "\n",
    "pour_jug(0, 0, {}, [])\n"
   ],
   "outputs": [
    {
     "output_type": "stream",
     "name": "stdout",
     "text": [
      "[(0, 0), (4, 0), (0, 3), (4, 3), (3, 0), (3, 3), (4, 2), (0, 2), (2, 0)]\n"
     ]
    },
    {
     "output_type": "execute_result",
     "data": {
      "text/plain": [
       "True"
      ]
     },
     "metadata": {},
     "execution_count": 2
    }
   ],
   "metadata": {}
  },
  {
   "cell_type": "markdown",
   "source": [
    "### 10. Generalize the problem above so that the parameters to your solution include the sizes of each jug and the final amount of water to be left in the larger jug.\n",
    "\n",
    "It just takes a slight modification of the above function."
   ],
   "metadata": {}
  },
  {
   "cell_type": "code",
   "execution_count": 1,
   "source": [
    "def pour_jug(q1, q2, c1, c2, target, visited, steps):\n",
    "    if (c1 > c2 and q1 == target) or (c1 < c2 and q2 == target):\n",
    "        steps += [(q1, q2)]\n",
    "        print(steps)\n",
    "        return True\n",
    "    elif (q1, q2) in visited:\n",
    "        return visited[(q1, q2)]\n",
    "    else:\n",
    "        steps += [(q1, q2)]\n",
    "        visited[(q1, q2)] = False\n",
    "        avail1 = c1 - q1 \n",
    "        avail2 = c2 - q2\n",
    "        to1 = q2 if avail1 >= q2 else avail1\n",
    "        to2 = q1 if avail2 >= q1 else avail2\n",
    "        return pour_jug(c1, 0, c1, c2, target, visited, steps) or \\\n",
    "               pour_jug(0, c2, c1, c2, target, visited, steps) or \\\n",
    "               pour_jug(0, 0, c1, c2, target, visited, steps) or \\\n",
    "               pour_jug(c1, c2, c1, c2, target, visited, steps) or \\\n",
    "               pour_jug(q1 + to1, q2 - to1, c1, c2, target, visited, steps) or \\\n",
    "               pour_jug(q1 - to2, q2 + to2, c1, c2, target, visited, steps) or \\\n",
    "               pour_jug(q1, 0, c1, c2, target, visited, steps) or \\\n",
    "               pour_jug(0, q2, c1, c2, target, visited, steps) or \\\n",
    "               pour_jug(q1, c2, c1, c2, target, visited, steps) or \\\n",
    "               pour_jug(c1, q2, c1, c2, target, visited, steps)\n",
    "\n",
    "pour_jug(0, 0, 33, 1, 21, {}, [])\n"
   ],
   "outputs": [
    {
     "output_type": "stream",
     "name": "stdout",
     "text": [
      "[(0, 0), (33, 0), (0, 1), (33, 1), (1, 0), (1, 1), (2, 0), (2, 1), (3, 0), (3, 1), (4, 0), (4, 1), (5, 0), (5, 1), (6, 0), (6, 1), (7, 0), (7, 1), (8, 0), (8, 1), (9, 0), (9, 1), (10, 0), (10, 1), (11, 0), (11, 1), (12, 0), (12, 1), (13, 0), (13, 1), (14, 0), (14, 1), (15, 0), (15, 1), (16, 0), (16, 1), (17, 0), (17, 1), (18, 0), (18, 1), (19, 0), (19, 1), (20, 0), (20, 1), (21, 0)]\n"
     ]
    },
    {
     "output_type": "execute_result",
     "data": {
      "text/plain": [
       "True"
      ]
     },
     "metadata": {},
     "execution_count": 1
    }
   ],
   "metadata": {}
  },
  {
   "cell_type": "markdown",
   "source": [
    "As a side note, this solution is not very optimal since we are just going to blindly take all the possible allowed states of the two jugs, but it reaches the solution is a reasonable amount of time (remember to make progresses)."
   ],
   "metadata": {}
  },
  {
   "cell_type": "markdown",
   "source": [
    "### 11. Write a program that solves the following problem: Three missionaries and three cannibals come to a river and find a boat that holds two people. Everyone must get across the river to continue on the journey. However, if the cannibals ever outnumber the missionaries on either bank, the missionaries will be eaten. Find a series of crossings that will get everyone safely to the other side of the river.\n",
    "\n",
    "A crossing is done by travelling to the destination bank, and one has to travel back to the origin bank (to ride the boat back and eventually taking one more passenger). At each of these steps, no bank has to have a greater number of cannibals than that of missionaries, unless of course there are no missionaries at that specific bank."
   ],
   "metadata": {}
  },
  {
   "cell_type": "code",
   "execution_count": 23,
   "source": [
    "def cross_river(from_bank, to_bank, boat):\n",
    "    if to_bank[\"missionaries\"] == 3 and to_bank[\"cannibals\"] == 3:\n",
    "        return True   \n",
    "    "
   ],
   "outputs": [],
   "metadata": {}
  },
  {
   "cell_type": "markdown",
   "source": [],
   "metadata": {}
  }
 ],
 "metadata": {
  "orig_nbformat": 4,
  "language_info": {
   "name": "python",
   "version": "3.9.7",
   "mimetype": "text/x-python",
   "codemirror_mode": {
    "name": "ipython",
    "version": 3
   },
   "pygments_lexer": "ipython3",
   "nbconvert_exporter": "python",
   "file_extension": ".py"
  },
  "kernelspec": {
   "name": "python3",
   "display_name": "Python 3.9.7 64-bit ('base': conda)"
  },
  "interpreter": {
   "hash": "a473aa0524f7e71cff5bf41ad0f6e637ac4e671de457aeaaf8dd3e29779b2e94"
  }
 },
 "nbformat": 4,
 "nbformat_minor": 2
}