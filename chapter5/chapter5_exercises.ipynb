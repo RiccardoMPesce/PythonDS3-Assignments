{
 "cells": [
  {
   "cell_type": "markdown",
   "source": [
    "# Chapter 5 - Exercises"
   ],
   "metadata": {}
  },
  {
   "cell_type": "markdown",
   "source": [
    "### 1. Write a recursive function to compute the factorial of a number."
   ],
   "metadata": {}
  },
  {
   "cell_type": "code",
   "execution_count": 45,
   "source": [
    "def recursive_factorial(n):\n",
    "    return 1 if n <= 1 else n * recursive_factorial(n - 1)\n"
   ],
   "outputs": [],
   "metadata": {}
  },
  {
   "cell_type": "markdown",
   "source": [
    "### 2. Write a recursive function to reverse a list."
   ],
   "metadata": {}
  },
  {
   "cell_type": "code",
   "execution_count": 46,
   "source": [
    "def reverse(s):\n",
    "    return s if len(s) <= 1 else s[-1] + reverse(s[1:-1]) + s[0]\n",
    "        "
   ],
   "outputs": [],
   "metadata": {}
  },
  {
   "cell_type": "markdown",
   "source": [
    "### 3. Modify the recursive tree program using one or all of the following ideas:\n",
    "\n",
    "* ### Modify the thickness of the branches so that as the `branch_len` gets smaller, the line gets thinner.\n",
    "\n",
    "* ### Modify the color of the branches so that as the `branch_len` gets very short it is colored like a leaf.\n",
    "\n",
    "* ### Modify the angle used in turning the turtle so that at each branch point the angle is selected at random in some range. For example choose the angle between 15 and 45 degrees. Play around to see what looks good.\n",
    "\n",
    "* ### Modify the `branch_len` recursively so that instead of always subtracting the same amount you subtract a random amount in some range.\n",
    "\n",
    "### If you implement all of the above ideas you will have a very realistic looking tree.\n",
    "\n",
    "We already answered that question in the relevant paragraph (link to the script [here](fractal.py))."
   ],
   "metadata": {}
  },
  {
   "cell_type": "code",
   "execution_count": 47,
   "source": [
    "import turtle\n",
    "import random\n",
    "\n",
    "def tree(branch_len, min_step, max_step, t):\n",
    "    t.color((0, 255 - branch_len if branch_len >= 0 else 255, 0))\n",
    "    t.pensize(branch_len ** (1 / 2))\n",
    "    a1 = random.randint(15, 45)\n",
    "    a2 = random.randint(15, 45)\n",
    "    step = random.randint(min_step, max_step)\n",
    "    if branch_len >= min_step:\n",
    "        t.forward(branch_len)\n",
    "        t.right(a1)\n",
    "        tree(branch_len - step, min_step, max_step, t)\n",
    "        t.left(a1 + a2)\n",
    "        tree(branch_len - step, min_step, max_step, t)\n",
    "        t.right(a2)\n",
    "        t.up()\n",
    "        t.backward(branch_len)\n",
    "        t.down()\n"
   ],
   "outputs": [],
   "metadata": {}
  },
  {
   "cell_type": "markdown",
   "source": [
    "### 4. Find or invent an algorithm for drawing a fractal mountain. Hint: One approach to this uses triangles again.\n",
    "\n",
    "We used the file `mountain.py` ([here](mountain.py)), since the `turtle` module does not work well on notebooks.\n",
    "One can implement a function to generate random points but the main goal is to create multi levels peaks in our drawings."
   ],
   "metadata": {}
  },
  {
   "cell_type": "markdown",
   "source": [
    "### 5. Write a recursive function to compute the Fibonacci sequence. How does the performance of the recursive function compare to that of an iterative version?\n",
    "\n",
    "Let's try both recursive and iterative approaches and evaluate them for each input size."
   ],
   "metadata": {}
  },
  {
   "cell_type": "code",
   "execution_count": 48,
   "source": [
    "def iterative_fibonacci(n):\n",
    "    values = [0, 1]\n",
    "    for i in range(2, n + 1):\n",
    "        values += [values[i - 2] + values[i - 1]] \n",
    "    \n",
    "    return values[n]\n",
    "\n",
    "def recursive_fibonacci(n):\n",
    "    return n if n <= 1 else recursive_fibonacci(n - 2) + recursive_fibonacci(n - 1)\n"
   ],
   "outputs": [],
   "metadata": {}
  },
  {
   "cell_type": "markdown",
   "source": [
    "Let's now try with some inputs and measure the times."
   ],
   "metadata": {}
  },
  {
   "cell_type": "code",
   "execution_count": 55,
   "source": [
    "import time\n",
    "\n",
    "import numpy as np \n",
    "import pandas as pd \n",
    "import matplotlib.pyplot as plt\n",
    "\n",
    "values = range(35)\n",
    "iterative_times = []\n",
    "recursive_times = []\n",
    "for value in values:\n",
    "    b = time.time()\n",
    "    val = iterative_fibonacci(value)\n",
    "    e = time.time()\n",
    "    iterative_times += [e - b] \n",
    "\n",
    "    b = time.time()\n",
    "    val = recursive_fibonacci(value)\n",
    "    e = time.time()\n",
    "    recursive_times += [e - b] \n",
    "\n",
    "comparison_df = pd.DataFrame({\"iterative\": iterative_times, \"recursive\": recursive_times})\n",
    "\n",
    "comparison_df.plot()\n",
    "plt.xlabel(\"n\")\n",
    "plt.ylabel(\"time\")\n",
    "plt.show()"
   ],
   "outputs": [
    {
     "output_type": "display_data",
     "data": {
      "image/png": "[encoded data removed]",
      "text/plain": [
       "<Figure size 432x288 with 1 Axes>"
      ]
     },
     "metadata": {}
    }
   ],
   "metadata": {}
  },
  {
   "cell_type": "markdown",
   "source": [
    "We see how the recursive approach does not scale well as the input gets bigger."
   ],
   "metadata": {}
  },
  {
   "cell_type": "markdown",
   "source": [
    "### 6. Implement a solution to the Tower of Hanoi using three stacks to keep track of the disks."
   ],
   "metadata": {}
  },
  {
   "cell_type": "markdown",
   "source": [],
   "metadata": {}
  }
 ],
 "metadata": {
  "orig_nbformat": 4,
  "language_info": {
   "name": "python",
   "version": "3.9.7",
   "mimetype": "text/x-python",
   "codemirror_mode": {
    "name": "ipython",
    "version": 3
   },
   "pygments_lexer": "ipython3",
   "nbconvert_exporter": "python",
   "file_extension": ".py"
  },
  "kernelspec": {
   "name": "python3",
   "display_name": "Python 3.9.7 64-bit ('base': conda)"
  },
  "interpreter": {
   "hash": "a473aa0524f7e71cff5bf41ad0f6e637ac4e671de457aeaaf8dd3e29779b2e94"
  }
 },
 "nbformat": 4,
 "nbformat_minor": 2
}