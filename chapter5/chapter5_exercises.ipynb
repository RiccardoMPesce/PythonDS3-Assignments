{
 "cells": [
  {
   "cell_type": "markdown",
   "source": [
    "# Chapter 5 - Exercises"
   ],
   "metadata": {}
  },
  {
   "cell_type": "markdown",
   "source": [
    "### 1. Write a recursive function to compute the factorial of a number."
   ],
   "metadata": {}
  },
  {
   "cell_type": "code",
   "execution_count": 10,
   "source": [
    "def recursive_factorial(n):\n",
    "    return 1 if n in (0, 1) else n * recursive_factorial(n - 1)\n"
   ],
   "outputs": [],
   "metadata": {}
  },
  {
   "cell_type": "markdown",
   "source": [
    "### 2. Write a recursive function to reverse a list."
   ],
   "metadata": {}
  },
  {
   "cell_type": "code",
   "execution_count": 3,
   "source": [
    "def reverse_list(ls):\n",
    "    if len(ls) in (0, 1):\n",
    "        return ls \n",
    "    else:\n",
    "        return [ls[-1]] + reverse_list(ls[1:-1]) + [ls[0]]\n",
    "        "
   ],
   "outputs": [],
   "metadata": {}
  },
  {
   "cell_type": "markdown",
   "source": [
    "### 3. Modify the recursive tree program using one or all of the following ideas:\n",
    "\n",
    "* ### Modify the thickness of the branches so that as the `branch_len` gets smaller, the line gets thinner.\n",
    "\n",
    "* ### Modify the color of the branches so that as the `branch_len` gets very short it is colored like a leaf.\n",
    "\n",
    "* ### Modify the angle used in turning the turtle so that at each branch point the angle is selected at random in some range. For example choose the angle between 15 and 45 degrees. Play around to see what looks good.\n",
    "\n",
    "* ### Modify the `branch_len` recursively so that instead of always subtracting the same amount you subtract a random amount in some range.\n",
    "\n",
    "### If you implement all of the above ideas you will have a very realistic looking tree.\n",
    "\n",
    "We already answered that question in the relevant paragraph (link to the script (here)[./fractal.py])."
   ],
   "metadata": {}
  },
  {
   "cell_type": "code",
   "execution_count": 1,
   "source": [
    "import turtle\n",
    "import random\n",
    "\n",
    "def tree(branch_len, min_step, max_step, t):\n",
    "    t.color((0, 255 - branch_len if branch_len >= 0 else 255, 0))\n",
    "    t.pensize(branch_len ** (1 / 2))\n",
    "    a1 = random.randint(15, 45)\n",
    "    a2 = random.randint(15, 45)\n",
    "    step = random.randint(min_step, max_step)\n",
    "    if branch_len >= min_step:\n",
    "        t.forward(branch_len)\n",
    "        t.right(a1)\n",
    "        tree(branch_len - step, min_step, max_step, t)\n",
    "        t.left(a1 + a2)\n",
    "        tree(branch_len - step, min_step, max_step, t)\n",
    "        t.right(a2)\n",
    "        t.up()\n",
    "        t.backward(branch_len)\n",
    "        t.down()\n"
   ],
   "outputs": [],
   "metadata": {}
  },
  {
   "cell_type": "markdown",
   "source": [
    "### 5. Find or invent an algorithm for drawing a fractal mountain. Hint: One approach to this uses triangles again."
   ],
   "metadata": {}
  }
 ],
 "metadata": {
  "orig_nbformat": 4,
  "language_info": {
   "name": "python",
   "version": "3.9.7",
   "mimetype": "text/x-python",
   "codemirror_mode": {
    "name": "ipython",
    "version": 3
   },
   "pygments_lexer": "ipython3",
   "nbconvert_exporter": "python",
   "file_extension": ".py"
  },
  "kernelspec": {
   "name": "python3",
   "display_name": "Python 3.9.7 64-bit ('base': conda)"
  },
  "interpreter": {
   "hash": "a473aa0524f7e71cff5bf41ad0f6e637ac4e671de457aeaaf8dd3e29779b2e94"
  }
 },
 "nbformat": 4,
 "nbformat_minor": 2
}