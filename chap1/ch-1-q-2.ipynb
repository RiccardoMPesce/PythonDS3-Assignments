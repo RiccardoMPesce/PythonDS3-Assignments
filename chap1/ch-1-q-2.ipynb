{
 "metadata": {
  "language_info": {
   "codemirror_mode": {
    "name": "ipython",
    "version": 3
   },
   "file_extension": ".py",
   "mimetype": "text/x-python",
   "name": "python",
   "nbconvert_exporter": "python",
   "pygments_lexer": "ipython3",
   "version": "3.9.6"
  },
  "orig_nbformat": 4,
  "kernelspec": {
   "name": "python3",
   "display_name": "Python 3.9.6 64-bit ('base': conda)"
  },
  "interpreter": {
   "hash": "a473aa0524f7e71cff5bf41ad0f6e637ac4e671de457aeaaf8dd3e29779b2e94"
  }
 },
 "nbformat": 4,
 "nbformat_minor": 2,
 "cells": [
  {
   "cell_type": "code",
   "execution_count": 10,
   "metadata": {},
   "outputs": [],
   "source": [
    "import random\n",
    "\n",
    "class BankAccount:\n",
    "    def __init__(self, owner, country):\n",
    "        self.owner = owner\n",
    "        self.country = country\n",
    "        self.amount = 0\n",
    "        self.iban = \"\"\n",
    "        \n",
    "        self.generate_iban()\n",
    "\n",
    "    def generate_iban(self):\n",
    "        \"\"\"\n",
    "        Generates iban\n",
    "        Note: IBANs are not realistic at all\n",
    "        \"\"\"\n",
    "        if not self.iban:\n",
    "            allowed_chars = \"ABCDEFGHIJKLMNOPQRSTUVWXYZ0123456789\"\n",
    "            self.iban = self.country[:2].upper()\n",
    "            for _ in range(14):\n",
    "                self.iban += allowed_chars[random.randint(0, len(allowed_chars))]\n",
    "\n",
    "\n",
    "class InvestmentAccount(BankAccount):\n",
    "   def __init__(self):\n",
    "       pass\n",
    "\n",
    "class DepositAccount(BankAccount):\n",
    "   def __init__(self):\n",
    "       pass\n"
   ]
  },
  {
   "cell_type": "code",
   "execution_count": 13,
   "metadata": {},
   "outputs": [],
   "source": [
    "a = BankAccount(\"Riccardo\", \"Italy\")"
   ]
  },
  {
   "cell_type": "code",
   "execution_count": 14,
   "metadata": {},
   "outputs": [
    {
     "output_type": "execute_result",
     "data": {
      "text/plain": [
       "'ITRF6W3NOESIOLVI'"
      ]
     },
     "metadata": {},
     "execution_count": 14
    }
   ],
   "source": [
    "a.iban"
   ]
  },
  {
   "cell_type": "code",
   "execution_count": null,
   "metadata": {},
   "outputs": [],
   "source": []
  }
 ]
}