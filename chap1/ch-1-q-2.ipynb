{
 "metadata": {
  "language_info": {
   "codemirror_mode": {
    "name": "ipython",
    "version": 3
   },
   "file_extension": ".py",
   "mimetype": "text/x-python",
   "name": "python",
   "nbconvert_exporter": "python",
   "pygments_lexer": "ipython3",
   "version": "3.9.6"
  },
  "orig_nbformat": 4,
  "kernelspec": {
   "name": "python3",
   "display_name": "Python 3.9.6 64-bit ('base': conda)"
  },
  "interpreter": {
   "hash": "a473aa0524f7e71cff5bf41ad0f6e637ac4e671de457aeaaf8dd3e29779b2e94"
  }
 },
 "nbformat": 4,
 "nbformat_minor": 2,
 "cells": [
  {
   "source": [
    "### Creation of some custom functions"
   ],
   "cell_type": "markdown",
   "metadata": {}
  },
  {
   "cell_type": "code",
   "execution_count": 1,
   "metadata": {},
   "outputs": [],
   "source": [
    "import random\n",
    "\n",
    "def generate_iban(country):\n",
    "    \"\"\"\n",
    "    Generates iban\n",
    "    Note: IBANs are not realistic at all\n",
    "    \"\"\"\n",
    "    allowed_chars = \"ABCDEFGHIJKLMNOPQRSTUVWXYZ0123456789\"\n",
    "    iban = country[:2].upper()\n",
    "    \n",
    "    for _ in range(14):\n",
    "        self.iban += allowed_chars[random.randint(0, len(allowed_chars) - 1)]\n",
    "    \n",
    "    return iban"
   ]
  },
  {
   "source": [
    "### Creation of the hierarchy"
   ],
   "cell_type": "markdown",
   "metadata": {}
  },
  {
   "cell_type": "code",
   "execution_count": 2,
   "metadata": {},
   "outputs": [],
   "source": [
    "class BankAccount:\n",
    "    def __init__(self, owner, country, currency):\n",
    "        self.owner = owner\n",
    "        self.country = country\n",
    "        self.currency = currency\n",
    "        self.amount = 0\n",
    "        self.iban = generate_iban(country)\n",
    "\n",
    "\n",
    "class CheckingAccount(BankAccount):\n",
    "    def __init__(self, owner, country, currency):\n",
    "        super().__init__(owner, country, currency)\n",
    "\n",
    "    def withdraw(self, quantity):\n",
    "        if quantity > self.amount:\n",
    "            raise Exception(\"Required amount not present\")\n",
    "        else:\n",
    "            self.amount -= quantity\n",
    "            print(f\"Withdrawn {quantity} {self.currency}s\")\n",
    "\n",
    "class SavingsAccount(BankAccount):\n",
    "   def __init__(self, owner, country, currency):\n",
    "       super().__init__()\n",
    "       self.amount = initial_deposit\n",
    "\n",
    "class MoneyMarketDepositAccount(CheckingAccount, SavingsAccount):\n",
    "    def __init__(self):\n",
    "        pass\n",
    "\n",
    "class CD(SavingsAccount):\n",
    "    def __init__(self):\n",
    "        pass"
   ]
  },
  {
   "source": [
    "Following [this guide](https://www.ramseysolutions.com/banking/types-of-bank-accounts) I created a hierarchy of bank accounts. I might come back later implementing custom methods but for now the purpose is to show how to create hierarchies of objects."
   ],
   "cell_type": "markdown",
   "metadata": {}
  }
 ]
}