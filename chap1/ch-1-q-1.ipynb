{
 "metadata": {
  "language_info": {
   "codemirror_mode": {
    "name": "ipython",
    "version": 3
   },
   "file_extension": ".py",
   "mimetype": "text/x-python",
   "name": "python",
   "nbconvert_exporter": "python",
   "pygments_lexer": "ipython3",
   "version": "3.9.6"
  },
  "orig_nbformat": 4,
  "kernelspec": {
   "name": "python3",
   "display_name": "Python 3.9.6 64-bit ('base': conda)"
  },
  "interpreter": {
   "hash": "a473aa0524f7e71cff5bf41ad0f6e637ac4e671de457aeaaf8dd3e29779b2e94"
  }
 },
 "nbformat": 4,
 "nbformat_minor": 2,
 "cells": [
  {
   "cell_type": "code",
   "execution_count": 1,
   "metadata": {},
   "outputs": [],
   "source": [
    "class Person:\n",
    "    def __init__(self, name):\n",
    "        self.name = name \n",
    "\n",
    "class Student(Person):\n",
    "    def __init__(self, name, major):\n",
    "        super().__init__(name)\n",
    "        self.major = major\n",
    "\n",
    "class Professor(Person):\n",
    "    def __init__(self, name, course):\n",
    "        super().__init__(name)\n",
    "        self.course = course"
   ]
  },
  {
   "source": [
    "### Answers\n",
    "\n",
    "* They have demographic data in common as they both are people, therefore these common details can be encapsulated in a class called `Person`.\n",
    "\n",
    "* They can be distinguished by additional data which is specific to both classes: the student attends a **major**, while the professor teaches a **course**. "
   ],
   "cell_type": "markdown",
   "metadata": {}
  }
 ]
}