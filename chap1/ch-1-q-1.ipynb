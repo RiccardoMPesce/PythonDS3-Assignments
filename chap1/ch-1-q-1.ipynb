{
 "metadata": {
  "language_info": {
   "codemirror_mode": {
    "name": "ipython",
    "version": 3
   },
   "file_extension": ".py",
   "mimetype": "text/x-python",
   "name": "python",
   "nbconvert_exporter": "python",
   "pygments_lexer": "ipython3",
   "version": 3
  },
  "orig_nbformat": 4
 },
 "nbformat": 4,
 "nbformat_minor": 2,
 "cells": [
  {
   "cell_type": "code",
   "execution_count": null,
   "metadata": {},
   "outputs": [],
   "source": [
    "class Person:\n",
    "    def __init__(self, name):\n",
    "        self.name = name \n",
    "\n",
    "class Student(Person):\n",
    "    def __init__(self, name, major):\n",
    "        super().__init__(name)\n",
    "        self.major = major\n",
    "\n",
    "class Professor(Person):\n",
    "    def __init__(self, name, course):\n",
    "        super().__init__(name)\n",
    "        self.course = course"
   ]
  }
 ]
}