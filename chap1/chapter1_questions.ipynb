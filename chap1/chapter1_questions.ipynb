{
 "metadata": {
  "language_info": {
   "codemirror_mode": {
    "name": "ipython",
    "version": 3
   },
   "file_extension": ".py",
   "mimetype": "text/x-python",
   "name": "python",
   "nbconvert_exporter": "python",
   "pygments_lexer": "ipython3",
   "version": "3.9.6"
  },
  "orig_nbformat": 4,
  "kernelspec": {
   "name": "python3",
   "display_name": "Python 3.9.6 64-bit ('base': conda)"
  },
  "interpreter": {
   "hash": "a473aa0524f7e71cff5bf41ad0f6e637ac4e671de457aeaaf8dd3e29779b2e94"
  }
 },
 "nbformat": 4,
 "nbformat_minor": 2,
 "cells": [
  {
   "source": [
    "# Chapter 1 - Discussion Questions \n",
    "\n",
    "### [Link](https://runestone.academy/runestone/books/published/pythonds3/Introduction/DiscussionQuestions.html) "
   ],
   "cell_type": "markdown",
   "metadata": {}
  },
  {
   "source": [
    "### 1. Construct a class hierarchy for people on a college campus. Include faculty, staff, and students. What do they have in common? What distinguishes them from one another?"
   ],
   "cell_type": "markdown",
   "metadata": {}
  },
  {
   "cell_type": "code",
   "execution_count": 2,
   "metadata": {},
   "outputs": [],
   "source": [
    "class Person:\n",
    "    def __init__(self, name, date_of_birth):\n",
    "        self.name = name \n",
    "        self.date_of_birth = date_of_birth\n",
    "\n",
    "class Student(Person):\n",
    "    def __init__(self, name, date_of_birth, course):\n",
    "        super().__init__(name, date_of_birth)\n",
    "        self.course = course\n",
    "\n",
    "class FacultyPerson(Person):\n",
    "    def __init__(self, name, date_of_birth, department):\n",
    "        super().__init__(name, date_of_birth)\n",
    "        self.department = department\n",
    "\n",
    "class StaffPerson(Person):\n",
    "    def __init__(self, name, date_of_birth):\n",
    "        super().__init__(name, date_of_birth)\n",
    "\n",
    "class Professor(FacultyPerson):\n",
    "    def __init__(self, name, date_of_birth, department, teaching, office_hours):\n",
    "        super().__init__(name, date_of_birth, department)\n",
    "        self.teaching = teaching\n",
    "        self.office_hours = office_hours\n",
    "\n",
    "class TeachingAssistant(FacultyPerson):\n",
    "    def __init__(self, name, date_of_birth, department, teaching):\n",
    "        super().__init__(name, date_of_birth, department)\n",
    "        self.teaching = teaching\n",
    "\n",
    "class Janitor(StaffPerson):\n",
    "    def __init__(self, name, date_of_birth, responsibilities):\n",
    "        super().__init__(name, date_of_birth)\n",
    "        self.responsibilities = responsibilities"
   ]
  },
  {
   "source": [
    "* All the classes have the `Person` class in common since it contains all the demographic data relevant for each one of the subclasses. Students have course of attendance as a distinguishing characteristics, faculty have the class they teach and the department they \n",
    "\n",
    "* They can be distinguished by additional data which is specific to both classes: the student attends a **major**, while the professor teaches a **course**. "
   ],
   "cell_type": "markdown",
   "metadata": {}
  },
  {
   "source": [
    "#### Notes\n",
    "Classes are incomplete and non exhaustive, because the primary reason for this exercise is to show how we can get through Object Oriented Programming more or less complex hierarchies of classes. Therefore, what is peculiar in this exercise is the subclassing technique typical in Object Oriented Languages such as Python, and how we can use it to create object hierarchies."
   ],
   "cell_type": "markdown",
   "metadata": {}
  },
  {
   "source": [
    "### 2. Construct a class hierarchy for bank accounts"
   ],
   "cell_type": "markdown",
   "metadata": {}
  },
  {
   "source": [
    "#### Creating a helper function to generate IBANs"
   ],
   "cell_type": "markdown",
   "metadata": {}
  },
  {
   "cell_type": "code",
   "execution_count": 3,
   "metadata": {},
   "outputs": [],
   "source": [
    "import random\n",
    "\n",
    "def generate_iban(country):\n",
    "    \"\"\"\n",
    "    Generates iban\n",
    "    Note: IBANs are not realistic at all, and are not meant to be\n",
    "    - input: country\n",
    "    - output: 16-characters IBAN code generated randomly\n",
    "    \"\"\"\n",
    "    allowed_chars = \"ABCDEFGHIJKLMNOPQRSTUVWXYZ0123456789\"\n",
    "    iban = country[:2].upper()\n",
    "    \n",
    "    for _ in range(14):\n",
    "        self.iban += allowed_chars[random.randint(0, len(allowed_chars) - 1)]\n",
    "    \n",
    "    return iban"
   ]
  },
  {
   "source": [
    "#### Defining the hierarchy of Bank Accounts"
   ],
   "cell_type": "markdown",
   "metadata": {}
  },
  {
   "cell_type": "code",
   "execution_count": 1,
   "metadata": {},
   "outputs": [],
   "source": [
    "class BankAccount:\n",
    "    def __init__(self, owner, country, currency):\n",
    "        self.owner = owner \n",
    "        self.country = country\n",
    "        self.currency = currency\n",
    "        self.iban = generate_iban(country)\n",
    "\n",
    "class CheckingAccount(BankAccount):\n",
    "    def __init__(self, owner, country, currency, spending_limit_monthly):\n",
    "        super().__init__(owner, country, currency)\n",
    "        self.spending_limit_monthly = spending_limit_monthly\n",
    "\n",
    "class SavingsAccount(BankAccount):\n",
    "   def __init__(self, owner, country, currency, interest_rate):\n",
    "       super().__init__(owner, country, currency)\n",
    "       self.interest_rate = interest_rate\n",
    "\n",
    "class MoneyMarketDepositAccount(CheckingAccount, SavingsAccount):\n",
    "    def __init__(self, owner, country, currency, interest_rate):\n",
    "        super(CheckingAccount).__init__(owner, country, currency)\n",
    "        super(SavingsAccount).__init__(owner, country, currency, interest_rate)\n",
    "\n",
    "class CertificateOfDeposit(SavingsAccount):\n",
    "    def __init__(self, owner, country, currency, fixed_term):\n",
    "        super().__init__(owner, country, currency)\n",
    "        self.fixed_term = fixed_term\n",
    "\n",
    "class RetirementAccount(BankAccount):\n",
    "    def __init__(self, owner, country, currency, taxes_now, taxes_reduction):\n",
    "        super().__init__(owner, country, currency)\n",
    "        self.taxes_now = taxes_now\n",
    "        self.taxes_reduction = taxes_reduction"
   ]
  },
  {
   "source": [
    "#### Notes\n",
    "This is not an exhaustive list, and it is taken from [here](https://www.thebalance.com/types-of-bank-accounts-315458). In no way it represent bank accounts, but it is helpful to see how we can, for example, use multiple inheritance."
   ],
   "cell_type": "markdown",
   "metadata": {}
  },
  {
   "source": [
    "### 3. Construct a class hierarchy for different types of computers."
   ],
   "cell_type": "markdown",
   "metadata": {}
  },
  {
   "cell_type": "code",
   "execution_count": null,
   "metadata": {},
   "outputs": [],
   "source": [
    "class Computer:\n",
    "    def __init__(self, brand):\n",
    "        pass\n",
    "\n",
    "class PersonalComputer(Computer):\n",
    "    def __init__(self, brand, os):\n",
    "        super().__init__(brand)\n",
    "        self.os = os\n",
    "\n",
    "class Laptop(PersonalComputer):\n",
    "    def __init__(self, brand, os, n_of_ports):\n",
    "        super().__init__(brand, os)\n",
    "        self.n_of_ports = n_of_ports\n",
    "\n",
    "class MobileDevice(Computer):\n",
    "    def __init__(self, brand, os, phone_capability=True):\n",
    "        super().__init__(brand, os)\n",
    "        self.n_of_ports = n_of_ports\n",
    "\n",
    "class Tablet(MobileDevice):\n",
    "    def __init__(self, brand, os, phone_capability):\n",
    "        super().__init__(brand, os, phone_capability)\n",
    "\n",
    "class PersonalComputer(MobileDevice):\n",
    "    def __init__(self, brand, os):\n",
    "        super().__init__(brand, os)"
   ]
  },
  {
   "source": [
    "#### Notes\n",
    "In order to keep it simple, I made a hierarchy based on the most common everyday devices we use, since they can all be classified as computers. A computer has a brand (it has lot's of others variables like processor brand, gpu and so on), but the point here is to encapsulate what varies in a superclass, and delegating to the subclasses to implement specific features (for example, tablet can have phone capability or not, while phones can definitely make calls)."
   ],
   "cell_type": "markdown",
   "metadata": {}
  },
  {
   "source": [
    "### Using the classes provided in the chapter, interactively construct a circuit and test it."
   ],
   "cell_type": "markdown",
   "metadata": {}
  },
  {
   "source": [
    "#### Defining the classes already defined in the book"
   ],
   "cell_type": "markdown",
   "metadata": {}
  },
  {
   "cell_type": "code",
   "execution_count": 2,
   "metadata": {},
   "outputs": [],
   "source": [
    "class LogicGate:\n",
    "    def __init__(self, lbl):\n",
    "        self.name = lbl\n",
    "        self.output = None\n",
    "\n",
    "    def get_label(self):\n",
    "        return self.name\n",
    "\n",
    "    def get_output(self):\n",
    "        self.output = self.perform_gate_logic()\n",
    "        return self.output\n",
    "\n",
    "\n",
    "class BinaryGate(LogicGate):\n",
    "    def __init__(self, lbl):\n",
    "        super(BinaryGate, self).__init__(lbl)\n",
    "\n",
    "        self.pin_a = None\n",
    "        self.pin_b = None\n",
    "\n",
    "    def get_pin_a(self):\n",
    "        if self.pin_a == None:\n",
    "            return int(input(\"Enter pin A input for gate \" + self.get_label() + \": \"))\n",
    "        else:\n",
    "            return self.pin_a.get_from().get_output()\n",
    "\n",
    "    def get_pin_b(self):\n",
    "        if self.pin_b == None:\n",
    "            return int(input(\"Enter pin B input for gate \" + self.get_label() + \": \"))\n",
    "        else:\n",
    "            return self.pin_b.get_from().get_output()\n",
    "\n",
    "    def set_next_pin(self, source):\n",
    "        if self.pin_a == None:\n",
    "            self.pin_a = source\n",
    "        else:\n",
    "            if self.pin_b == None:\n",
    "                self.pin_b = source\n",
    "            else:\n",
    "                print(\"Cannot Connect: NO EMPTY PINS on this gate\")\n",
    "\n",
    "\n",
    "class AndGate(BinaryGate):\n",
    "    def __init__(self, lbl):\n",
    "        BinaryGate.__init__(self, lbl)\n",
    "\n",
    "    def perform_gate_logic(self):\n",
    "        a = self.get_pin_a()\n",
    "        b = self.get_pin_b()\n",
    "        if a == 1 and b == 1:\n",
    "            return 1\n",
    "        else:\n",
    "            return 0\n",
    "\n",
    "class OrGate(BinaryGate):\n",
    "    def __init__(self, lbl):\n",
    "        BinaryGate.__init__(self, lbl)\n",
    "\n",
    "    def perform_gate_logic(self):\n",
    "        a = self.get_pin_a()\n",
    "        b = self.get_pin_b()\n",
    "        if a == 1 or b == 1:\n",
    "            return 1\n",
    "        else:\n",
    "            return 0\n",
    "\n",
    "class UnaryGate(LogicGate):\n",
    "    def __init__(self, lbl):\n",
    "        LogicGate.__init__(self, lbl)\n",
    "\n",
    "        self.pin = None\n",
    "\n",
    "    def get_pin(self):\n",
    "        if self.pin == None:\n",
    "            return int(input(\"Enter pin input for gate \" + self.get_label() + \": \"))\n",
    "        else:\n",
    "            return self.pin.get_from().get_output()\n",
    "\n",
    "    def set_next_pin(self, source):\n",
    "        if self.pin == None:\n",
    "            self.pin = source\n",
    "        else:\n",
    "            print(\"Cannot Connect: NO EMPTY PINS on this gate\")\n",
    "\n",
    "\n",
    "class NotGate(UnaryGate):\n",
    "    def __init__(self, nlbl):\n",
    "        UnaryGate.__init__(self, lbl)\n",
    "\n",
    "    def perform_gate_logic(self):\n",
    "        if self.get_pin():\n",
    "            return 0\n",
    "        else:\n",
    "            return 1\n",
    "\n",
    "\n",
    "class Connector:\n",
    "    def __init__(self, fgate, tgate):\n",
    "        self.from_gate = fgate\n",
    "        self.to_gate = tgate\n",
    "\n",
    "        tgate.set_next_pin(self)\n",
    "\n",
    "    def get_from(self):\n",
    "        return self.from_gate\n",
    "\n",
    "    def get_to(self):\n",
    "        return self.to_gate\n",
    "\n",
    "# These were left as an exercise\n",
    "class NorGate(BinaryGate):\n",
    "    def __init__(self, lbl):\n",
    "        super().__init__(self, lbl)\n",
    "        self.or_gate = OrGate(lbl)\n",
    "        self.not_gate = NotGate(lbl)\n",
    "        self.connector = Connector(or_gate, not_gate)\n",
    "\n",
    "    def perform_gate_logic(self):\n",
    "        return self.not_gate.get_output()\n",
    "\n",
    "class NandGate:\n",
    "    def __init__(self, lbl):\n",
    "        super().__init__(self, lbl)\n",
    "        self.and_gate = AndGate(lbl)\n",
    "        self.not_gate = NotGate(lbl)\n",
    "        self.connector = Connector(and_gate, not_gate)\n",
    "\n",
    "    def perform_gate_logic(self):\n",
    "        return self.not_gate.get_output()"
   ]
  },
  {
   "source": [
    "#### Creation of some custom circuits"
   ],
   "cell_type": "markdown",
   "metadata": {}
  },
  {
   "cell_type": "code",
   "execution_count": 4,
   "metadata": {},
   "outputs": [
    {
     "output_type": "execute_result",
     "data": {
      "text/plain": [
       "1"
      ]
     },
     "metadata": {},
     "execution_count": 4
    }
   ],
   "source": [
    "# Circuit number 1\n",
    "and1 = AndGate(\"a1\")\n",
    "and2 = AndGate(\"a2\")\n",
    "or1 = OrGate(\"o1\")\n",
    "conn1 = Connector(and1, or1)\n",
    "conn2 = Connector(and2, or1)\n",
    "\n",
    "or1.get_output()"
   ]
  },
  {
   "cell_type": "code",
   "execution_count": 5,
   "metadata": {},
   "outputs": [
    {
     "output_type": "execute_result",
     "data": {
      "text/plain": [
       "0"
      ]
     },
     "metadata": {},
     "execution_count": 5
    }
   ],
   "source": [
    "# Circuit number 2\n",
    "\n",
    "or1 = AndGate(\"o1\")\n",
    "or2 = AndGate(\"o2\")\n",
    "and1 = OrGate(\"a1\")\n",
    "conn1 = Connector(or1, and1)\n",
    "conn2 = Connector(or2, and1)\n",
    "\n",
    "and1.get_output()"
   ]
  },
  {
   "source": [
    "#### Notes\n",
    "Lot's of circuits can be created. I implemented the **NAND** and **NOR** circuits by concatenating the already defined **AND** and **OR** circuits, in order to reuse classes rather than implementing any logic from scratch."
   ],
   "cell_type": "markdown",
   "metadata": {}
  }
 ]
}