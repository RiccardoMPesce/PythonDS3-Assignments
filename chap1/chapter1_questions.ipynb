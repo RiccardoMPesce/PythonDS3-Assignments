{
 "metadata": {
  "language_info": {
   "codemirror_mode": {
    "name": "ipython",
    "version": 3
   },
   "file_extension": ".py",
   "mimetype": "text/x-python",
   "name": "python",
   "nbconvert_exporter": "python",
   "pygments_lexer": "ipython3",
   "version": "3.9.6"
  },
  "orig_nbformat": 4,
  "kernelspec": {
   "name": "python3",
   "display_name": "Python 3.9.6 64-bit ('base': conda)"
  },
  "interpreter": {
   "hash": "a473aa0524f7e71cff5bf41ad0f6e637ac4e671de457aeaaf8dd3e29779b2e94"
  }
 },
 "nbformat": 4,
 "nbformat_minor": 2,
 "cells": [
  {
   "source": [
    "# Chapter 1 - Discussion Questions \n",
    "\n",
    "### [Link](https://runestone.academy/runestone/books/published/pythonds3/Introduction/DiscussionQuestions.html) "
   ],
   "cell_type": "markdown",
   "metadata": {}
  },
  {
   "source": [
    "### 1. Construct a class hierarchy for people on a college campus. Include faculty, staff, and students. What do they have in common? What distinguishes them from one another?"
   ],
   "cell_type": "markdown",
   "metadata": {}
  },
  {
   "cell_type": "code",
   "execution_count": 2,
   "metadata": {},
   "outputs": [],
   "source": [
    "class Person:\n",
    "    def __init__(self, name, date_of_birth):\n",
    "        self.name = name \n",
    "        self.date_of_birth = date_of_birth\n",
    "\n",
    "class Student(Person):\n",
    "    def __init__(self, name, date_of_birth, course):\n",
    "        super().__init__(name, date_of_birth)\n",
    "        self.course = course\n",
    "\n",
    "class FacultyPerson(Person):\n",
    "    def __init__(self, name, date_of_birth, department):\n",
    "        super().__init__(name, date_of_birth)\n",
    "        self.department = department\n",
    "\n",
    "class StaffPerson(Person):\n",
    "    def __init__(self, name, date_of_birth):\n",
    "        super().__init__(name, date_of_birth)\n",
    "\n",
    "class Professor(FacultyPerson):\n",
    "    def __init__(self, name, date_of_birth, department, teaching, office_hours):\n",
    "        super().__init__(name, date_of_birth, department)\n",
    "        self.teaching = teaching\n",
    "        self.office_hours = office_hours\n",
    "\n",
    "class TeachingAssistant(FacultyPerson):\n",
    "    def __init__(self, name, date_of_birth, department, teaching):\n",
    "        super().__init__(name, date_of_birth, department)\n",
    "        self.teaching = teaching\n",
    "\n",
    "class Janitor(StaffPerson):\n",
    "    def __init__(self, name, date_of_birth, responsibilities):\n",
    "        super().__init__(name, date_of_birth)\n",
    "        self.responsibilities = responsibilities"
   ]
  },
  {
   "source": [
    "* All the classes have the `Person` class in common since it contains all the demographic data relevant for each one of the subclasses. Students have course of attendance as a distinguishing characteristics, faculty have the class they teach and the department they \n",
    "\n",
    "* They can be distinguished by additional data which is specific to both classes: the student attends a **major**, while the professor teaches a **course**. "
   ],
   "cell_type": "markdown",
   "metadata": {}
  },
  {
   "source": [
    "#### Notes\n",
    "Classes are incomplete and non exhaustive, because the primary reason for this exercise is to show how we can get through Object Oriented Programming more or less complex hierarchies of classes. Therefore, what is peculiar in this exercise is the subclassing technique typical in Object Oriented Languages such as Python, and how we can use it to create object hierarchies."
   ],
   "cell_type": "markdown",
   "metadata": {}
  },
  {
   "source": [
    "### 2. Construct a class hierarchy for bank accounts"
   ],
   "cell_type": "markdown",
   "metadata": {}
  },
  {
   "source": [
    "#### Creating a helper function to generate IBANs"
   ],
   "cell_type": "markdown",
   "metadata": {}
  },
  {
   "cell_type": "code",
   "execution_count": 3,
   "metadata": {},
   "outputs": [],
   "source": [
    "import random\n",
    "\n",
    "def generate_iban(country):\n",
    "    \"\"\"\n",
    "    Generates iban\n",
    "    Note: IBANs are not realistic at all, and are not meant to be\n",
    "    - input: country\n",
    "    - output: 16-characters IBAN code generated randomly\n",
    "    \"\"\"\n",
    "    allowed_chars = \"ABCDEFGHIJKLMNOPQRSTUVWXYZ0123456789\"\n",
    "    iban = country[:2].upper()\n",
    "    \n",
    "    for _ in range(14):\n",
    "        self.iban += allowed_chars[random.randint(0, len(allowed_chars) - 1)]\n",
    "    \n",
    "    return iban"
   ]
  },
  {
   "source": [
    "#### Defining the hierarchy of Bank Accounts"
   ],
   "cell_type": "markdown",
   "metadata": {}
  },
  {
   "cell_type": "code",
   "execution_count": 1,
   "metadata": {},
   "outputs": [],
   "source": [
    "class BankAccount:\n",
    "    def __init__(self, owner, country, currency):\n",
    "        self.owner = owner \n",
    "        self.country = country\n",
    "        self.currency = currency\n",
    "        self.iban = generate_iban(country)\n",
    "\n",
    "class CheckingAccount(BankAccount):\n",
    "    def __init__(self, owner, country, currency):\n",
    "        super().__init__(owner, country, currency)\n",
    "        pass\n",
    "\n",
    "class SavingsAccount(BankAccount):\n",
    "   def __init__(self, owner, country, currency):\n",
    "       super().__init__(owner, country, currency)\n",
    "       pass\n",
    "\n",
    "class MoneyMarketDepositAccount(CheckingAccount, SavingsAccount):\n",
    "    def __init__(self):\n",
    "        super().__init__(owner, country, currency)\n",
    "        pass\n",
    "\n",
    "class CD(SavingsAccount):\n",
    "    def __init__(self):\n",
    "        super().__init__(owner, country, currency)\n",
    "        pass"
   ]
  },
  {
   "source": [
    "### 3. Construct a class hierarchy for different types of computers."
   ],
   "cell_type": "markdown",
   "metadata": {}
  },
  {
   "cell_type": "code",
   "execution_count": null,
   "metadata": {},
   "outputs": [],
   "source": [
    "class Computer:\n",
    "    def __init__(self):\n",
    "        pass"
   ]
  },
  {
   "source": [
    "### Using the classes provided in the chapter, interactively construct a circuit and test it."
   ],
   "cell_type": "markdown",
   "metadata": {}
  },
  {
   "source": [
    "#### Defining the classes already defined in the book"
   ],
   "cell_type": "markdown",
   "metadata": {}
  },
  {
   "cell_type": "code",
   "execution_count": null,
   "metadata": {},
   "outputs": [],
   "source": []
  }
 ]
}